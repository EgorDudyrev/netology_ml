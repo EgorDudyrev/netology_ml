{
 "cells": [
  {
   "cell_type": "markdown",
   "metadata": {},
   "source": [
    "# Домашнее задание\n",
    "* Прочитать про методы оптимизации для нейронных сетей https://habr.com/post/318970/\n",
    "* Реализовать самостоятельно логистическую регрессию\n",
    "    * Обучить ее методом градиентного спуска\n",
    "    * Методом nesterov momentum\n",
    "    * Методом rmsprop\n",
    "* В качестве dataset'а взять Iris, оставив 2 класса:\n",
    "    * Iris Versicolor\n",
    "    * Iris Virginica"
   ]
  },
  {
   "cell_type": "code",
   "execution_count": 1,
   "metadata": {},
   "outputs": [],
   "source": [
    "import numpy as np\n",
    "import pandas as pd\n",
    "import sklearn\n",
    "import seaborn as sns\n",
    "import matplotlib.pyplot as plt\n",
    "from sklearn.model_selection import train_test_split\n",
    "from sklearn.datasets import load_iris\n",
    "\n",
    "from sklearn.metrics import accuracy_score, roc_auc_score\n",
    "from tqdm import tqdm_notebook"
   ]
  },
  {
   "cell_type": "markdown",
   "metadata": {},
   "source": [
    "# Загрузка данных"
   ]
  },
  {
   "cell_type": "code",
   "execution_count": 2,
   "metadata": {},
   "outputs": [
    {
     "data": {
      "text/html": [
       "<div>\n",
       "<style scoped>\n",
       "    .dataframe tbody tr th:only-of-type {\n",
       "        vertical-align: middle;\n",
       "    }\n",
       "\n",
       "    .dataframe tbody tr th {\n",
       "        vertical-align: top;\n",
       "    }\n",
       "\n",
       "    .dataframe thead th {\n",
       "        text-align: right;\n",
       "    }\n",
       "</style>\n",
       "<table border=\"1\" class=\"dataframe\">\n",
       "  <thead>\n",
       "    <tr style=\"text-align: right;\">\n",
       "      <th></th>\n",
       "      <th>sepal length (cm)</th>\n",
       "      <th>sepal width (cm)</th>\n",
       "      <th>petal length (cm)</th>\n",
       "      <th>petal width (cm)</th>\n",
       "      <th>target</th>\n",
       "      <th>target_verb</th>\n",
       "      <th>is_virginica</th>\n",
       "    </tr>\n",
       "  </thead>\n",
       "  <tbody>\n",
       "    <tr>\n",
       "      <th>50</th>\n",
       "      <td>7.0</td>\n",
       "      <td>3.2</td>\n",
       "      <td>4.7</td>\n",
       "      <td>1.4</td>\n",
       "      <td>1</td>\n",
       "      <td>versicolor</td>\n",
       "      <td>False</td>\n",
       "    </tr>\n",
       "    <tr>\n",
       "      <th>51</th>\n",
       "      <td>6.4</td>\n",
       "      <td>3.2</td>\n",
       "      <td>4.5</td>\n",
       "      <td>1.5</td>\n",
       "      <td>1</td>\n",
       "      <td>versicolor</td>\n",
       "      <td>False</td>\n",
       "    </tr>\n",
       "    <tr>\n",
       "      <th>52</th>\n",
       "      <td>6.9</td>\n",
       "      <td>3.1</td>\n",
       "      <td>4.9</td>\n",
       "      <td>1.5</td>\n",
       "      <td>1</td>\n",
       "      <td>versicolor</td>\n",
       "      <td>False</td>\n",
       "    </tr>\n",
       "    <tr>\n",
       "      <th>53</th>\n",
       "      <td>5.5</td>\n",
       "      <td>2.3</td>\n",
       "      <td>4.0</td>\n",
       "      <td>1.3</td>\n",
       "      <td>1</td>\n",
       "      <td>versicolor</td>\n",
       "      <td>False</td>\n",
       "    </tr>\n",
       "    <tr>\n",
       "      <th>54</th>\n",
       "      <td>6.5</td>\n",
       "      <td>2.8</td>\n",
       "      <td>4.6</td>\n",
       "      <td>1.5</td>\n",
       "      <td>1</td>\n",
       "      <td>versicolor</td>\n",
       "      <td>False</td>\n",
       "    </tr>\n",
       "  </tbody>\n",
       "</table>\n",
       "</div>"
      ],
      "text/plain": [
       "    sepal length (cm)  sepal width (cm)  petal length (cm)  petal width (cm)  \\\n",
       "50                7.0               3.2                4.7               1.4   \n",
       "51                6.4               3.2                4.5               1.5   \n",
       "52                6.9               3.1                4.9               1.5   \n",
       "53                5.5               2.3                4.0               1.3   \n",
       "54                6.5               2.8                4.6               1.5   \n",
       "\n",
       "    target target_verb  is_virginica  \n",
       "50       1  versicolor         False  \n",
       "51       1  versicolor         False  \n",
       "52       1  versicolor         False  \n",
       "53       1  versicolor         False  \n",
       "54       1  versicolor         False  "
      ]
     },
     "execution_count": 2,
     "metadata": {},
     "output_type": "execute_result"
    }
   ],
   "source": [
    "iris_data = load_iris()\n",
    "\n",
    "ds = pd.DataFrame(iris_data['data'], columns=iris_data['feature_names'])\n",
    "ds['target'] = iris_data['target']\n",
    "ds['target_verb'] = ds['target'].apply(lambda x: iris_data['target_names'][x])\n",
    "ds = ds[ds['target_verb'].isin(['virginica','versicolor'])]\n",
    "ds['is_virginica'] = ds['target_verb']=='virginica'\n",
    "ds.head()"
   ]
  },
  {
   "cell_type": "markdown",
   "metadata": {},
   "source": [
    "# Реализация логистической регрессии"
   ]
  },
  {
   "cell_type": "markdown",
   "metadata": {},
   "source": [
    "Добавим в данные столбец bias из единиц, который будет отвечать за постоянное смещение модели"
   ]
  },
  {
   "cell_type": "code",
   "execution_count": 3,
   "metadata": {},
   "outputs": [],
   "source": [
    "ds['bias'] = 1"
   ]
  },
  {
   "cell_type": "markdown",
   "metadata": {},
   "source": [
    "Выделим X и Y"
   ]
  },
  {
   "cell_type": "code",
   "execution_count": 4,
   "metadata": {},
   "outputs": [
    {
     "data": {
      "text/plain": [
       "(0.4875, 0.55)"
      ]
     },
     "execution_count": 4,
     "metadata": {},
     "output_type": "execute_result"
    }
   ],
   "source": [
    "X_train, X_test, Y_train, Y_test = train_test_split( \n",
    "    ds[['sepal length (cm)', 'sepal width (cm)', 'petal length (cm)', 'petal width (cm)', 'bias']],\n",
    "    ds['is_virginica'], test_size=0.2)\n",
    "Y_train.mean(), Y_test.mean()"
   ]
  },
  {
   "cell_type": "markdown",
   "metadata": {},
   "source": [
    "Вся модель - это вектор из 5 весов"
   ]
  },
  {
   "cell_type": "code",
   "execution_count": 5,
   "metadata": {},
   "outputs": [
    {
     "data": {
      "text/plain": [
       "array([ 0.01019047,  0.01598845, -0.02325237,  0.00622893,  0.00487262])"
      ]
     },
     "execution_count": 5,
     "metadata": {},
     "output_type": "execute_result"
    }
   ],
   "source": [
    "ws = np.random.normal(0,0.01, size=(5,))\n",
    "ws"
   ]
  },
  {
   "cell_type": "markdown",
   "metadata": {},
   "source": [
    "Функции для вычисления предсказания модели"
   ]
  },
  {
   "cell_type": "code",
   "execution_count": 6,
   "metadata": {},
   "outputs": [],
   "source": [
    "def sigm(x):\n",
    "    return 1/(1+np.exp(-x))\n",
    "\n",
    "def predict_proba(X, ws):\n",
    "    return sigm(np.dot(X,ws))\n",
    "\n",
    "def predict(X, ws, t=0.5):\n",
    "    return (predict_proba(X,ws)>t).astype(int)"
   ]
  },
  {
   "cell_type": "markdown",
   "metadata": {},
   "source": [
    "## Градиентный спуск"
   ]
  },
  {
   "cell_type": "markdown",
   "metadata": {},
   "source": [
    "Loss:\n",
    "$$J = -\\sum_{i=1}^{N} y_i\\log (h_\\theta(x_i)) + (1 - y_i)\\log(1 - h_\\theta(x_i))$$"
   ]
  },
  {
   "cell_type": "code",
   "execution_count": 7,
   "metadata": {},
   "outputs": [],
   "source": [
    "def loss(y, probs):\n",
    "    return -np.sum(y*np.log2(probs)+(1-y)*np.log2(1-probs))/len(y)"
   ]
  },
  {
   "cell_type": "markdown",
   "metadata": {},
   "source": [
    "$$h_\\theta(x_i) = \\frac1{1+e^{-wx_i}}$$"
   ]
  },
  {
   "cell_type": "markdown",
   "metadata": {},
   "source": [
    "$$\\frac{\\partial h_\\theta(x_i)}{\\partial w_j} = \\frac{x_{ij}e^{-wx_i}}{(1+e^{-wx_i})^2} = x_{ij}(\\frac1{h_\\theta(x_i)}-1)h_\\theta^2(x_i) = x_{ij}h_\\theta(x_i)(1-h_\\theta(x_i))$$"
   ]
  },
  {
   "cell_type": "markdown",
   "metadata": {},
   "source": [
    "grad:\n",
    "$$\\frac{\\partial J}{\\partial w_j} = -\\sum_{i=1}^{N} y_i\\frac{\\partial \\log (h_\\theta(x_i))}{\\partial w_j} + (1 - y_i)\\frac{\\partial \\log(1 - h_\\theta(x_i))}{\\partial w_j}$$"
   ]
  },
  {
   "cell_type": "markdown",
   "metadata": {},
   "source": [
    "$$\\frac{\\partial \\log (h_\\theta(x_i))}{\\partial w_j} = \\frac1{h_\\theta(x_i)}\\frac{\\partial h_\\theta(x_i)}{\\partial w_j} = x_{ij}(1-h_\\theta(x_i))$$"
   ]
  },
  {
   "cell_type": "markdown",
   "metadata": {},
   "source": [
    "$$\\frac{\\partial \\log (1-h_\\theta(x_i))}{\\partial w_j} = \\frac1{1-h_\\theta(x_i)}\\frac{\\partial (1-h_\\theta(x_i))}{\\partial w_j} = -x_{ij}h_\\theta({x_i})$$"
   ]
  },
  {
   "cell_type": "markdown",
   "metadata": {},
   "source": [
    "$$\\frac{\\partial J}{\\partial w_j} = -\\sum_{i=1}^{N} y_ix_{ij}(1-h_\\theta(x_i)) - (1 - y_i)x_{ij}h_\\theta({x_i})=-\\sum_{i=1}^{N}x_{ij}[y_i-y_ih_\\theta(x_i)-h_\\theta(x_i)+y_ih_\\theta(x_i)] = -\\sum_{i=1}^{N}x_{ij}(y_i-h_\\theta(x_i))$$"
   ]
  },
  {
   "cell_type": "markdown",
   "metadata": {},
   "source": [
    "$$ \\frac{\\partial J}{\\partial w_j} = -\\sum_{i=1}^{N}x_{ij}(y_i - h(x_i))$$"
   ]
  },
  {
   "cell_type": "code",
   "execution_count": 8,
   "metadata": {},
   "outputs": [],
   "source": [
    "def grad(X, y, ws):\n",
    "    probs = predict_proba(X, ws)\n",
    "    return -np.dot((y-probs),X)/len(y)"
   ]
  },
  {
   "cell_type": "code",
   "execution_count": 9,
   "metadata": {},
   "outputs": [],
   "source": [
    "def train_step(X, y, ws, l=0.001):\n",
    "    g = grad(X, y, ws)\n",
    "    return ws-l*g"
   ]
  },
  {
   "cell_type": "code",
   "execution_count": 10,
   "metadata": {},
   "outputs": [
    {
     "data": {
      "application/vnd.jupyter.widget-view+json": {
       "model_id": "325c63bc7d6547a6814203e848a6b095",
       "version_major": 2,
       "version_minor": 0
      },
      "text/plain": [
       "HBox(children=(IntProgress(value=0, max=1000), HTML(value='')))"
      ]
     },
     "metadata": {},
     "output_type": "display_data"
    },
    {
     "name": "stdout",
     "output_type": "stream",
     "text": [
      "\n"
     ]
    }
   ],
   "source": [
    "wss = []\n",
    "res_ds = []\n",
    "\n",
    "for i in tqdm_notebook(range(1000)):\n",
    "    ws = train_step(X_train,Y_train,wss[-1]) if len(wss)>0 else np.random.normal(0,0.05, size=(5,))\n",
    "    wss.append(ws)\n",
    "    train_preds = predict_proba(X_train, ws)\n",
    "    test_preds = predict_proba(X_test, ws)\n",
    "    \n",
    "    res = {'n_iter':i,\n",
    "          'train_loss':loss(Y_train, train_preds),\n",
    "          'test_loss':loss(Y_test, test_preds),\n",
    "          'train_roc':roc_auc_score(Y_train, train_preds),\n",
    "          'test_roc':roc_auc_score(Y_test, test_preds)}    \n",
    "    res_ds.append(res)\n",
    "res_ds = pd.concat([pd.Series(x) for x in res_ds],1).T"
   ]
  },
  {
   "cell_type": "code",
   "execution_count": 11,
   "metadata": {},
   "outputs": [
    {
     "data": {
      "image/png": "[encoded data removed]",
      "text/plain": [
       "<Figure size 1080x144 with 2 Axes>"
      ]
     },
     "metadata": {
      "needs_background": "light"
     },
     "output_type": "display_data"
    }
   ],
   "source": [
    "plt.figure(figsize=(15,2))\n",
    "plt.subplot(121)\n",
    "sns.lineplot(x='n_iter', y='train_loss',data=res_ds, label='train_loss')\n",
    "sns.lineplot(x='n_iter', y='test_loss',data=res_ds, label='test_loss')\n",
    "plt.subplot(122)\n",
    "sns.lineplot(x='n_iter', y='train_roc',data=res_ds, label='train_roc')\n",
    "sns.lineplot(x='n_iter', y='test_roc',data=res_ds, label='test_roc')\n",
    "plt.show()"
   ]
  },
  {
   "cell_type": "code",
   "execution_count": 12,
   "metadata": {},
   "outputs": [
    {
     "data": {
      "image/png": "[encoded data removed]",
      "text/plain": [
       "<Figure size 432x288 with 1 Axes>"
      ]
     },
     "metadata": {
      "needs_background": "light"
     },
     "output_type": "display_data"
    }
   ],
   "source": [
    "plt.scatter(range(len(X_test)),predict_proba(X_test, ws), c=Y_test)\n",
    "plt.ylabel('prob')\n",
    "plt.title(f\"loss: {res_ds['test_loss'].values[-1]:.4f}\")\n",
    "plt.show()"
   ]
  },
  {
   "cell_type": "markdown",
   "metadata": {},
   "source": [
    "## Nesterov momentum"
   ]
  },
  {
   "cell_type": "markdown",
   "metadata": {},
   "source": [
    "nesterov momentum:\n",
    "\n",
    "$$v_t = \\gamma v_{t-1}+\\lambda \\frac{dJ}{dw}$$"
   ]
  },
  {
   "cell_type": "markdown",
   "metadata": {},
   "source": [
    "$$w_t = w_{t-1} - v_t$$"
   ]
  },
  {
   "cell_type": "code",
   "execution_count": 13,
   "metadata": {},
   "outputs": [],
   "source": [
    "def train_step_nest(X, y, ws, v, l=0.001, gamma=0.9):\n",
    "    g = grad(X, y, ws)\n",
    "    v1 = gamma*v+l*g\n",
    "    return [ws-v1, v1]"
   ]
  },
  {
   "cell_type": "code",
   "execution_count": 14,
   "metadata": {},
   "outputs": [
    {
     "data": {
      "application/vnd.jupyter.widget-view+json": {
       "model_id": "9de79eaff1734907b6a7ecc3d1e543cf",
       "version_major": 2,
       "version_minor": 0
      },
      "text/plain": [
       "HBox(children=(IntProgress(value=0, max=1000), HTML(value='')))"
      ]
     },
     "metadata": {},
     "output_type": "display_data"
    },
    {
     "name": "stdout",
     "output_type": "stream",
     "text": [
      "\n"
     ]
    }
   ],
   "source": [
    "wss = []\n",
    "res_ds = []\n",
    "\n",
    "for i in tqdm_notebook(range(1000)):\n",
    "    if len(wss)>0:\n",
    "        ws, v = train_step_nest(X_train, Y_train, wss[-1], v)\n",
    "    else:\n",
    "        ws = np.random.normal(0,0.05, size=(5,))\n",
    "        v = 1\n",
    "    wss.append(ws)\n",
    "    train_preds = predict_proba(X_train, ws)\n",
    "    test_preds = predict_proba(X_test, ws)\n",
    "    \n",
    "    res = {'n_iter':i,\n",
    "          'train_loss':loss(Y_train, train_preds),\n",
    "          'test_loss':loss(Y_test, test_preds),\n",
    "          'train_roc':roc_auc_score(Y_train, train_preds),\n",
    "          'test_roc':roc_auc_score(Y_test, test_preds)}    \n",
    "    res_ds.append(res)\n",
    "res_ds = pd.concat([pd.Series(x) for x in res_ds],1).T"
   ]
  },
  {
   "cell_type": "code",
   "execution_count": 15,
   "metadata": {},
   "outputs": [
    {
     "data": {
      "image/png": "[encoded data removed]",
      "text/plain": [
       "<Figure size 1080x144 with 2 Axes>"
      ]
     },
     "metadata": {
      "needs_background": "light"
     },
     "output_type": "display_data"
    }
   ],
   "source": [
    "plt.figure(figsize=(15,2))\n",
    "plt.subplot(121)\n",
    "sns.lineplot(x='n_iter', y='train_loss',data=res_ds, label='train_loss')\n",
    "sns.lineplot(x='n_iter', y='test_loss',data=res_ds, label='test_loss')\n",
    "plt.subplot(122)\n",
    "sns.lineplot(x='n_iter', y='train_roc',data=res_ds, label='train_roc')\n",
    "sns.lineplot(x='n_iter', y='test_roc',data=res_ds, label='test_roc')\n",
    "plt.show()"
   ]
  },
  {
   "cell_type": "code",
   "execution_count": 16,
   "metadata": {},
   "outputs": [
    {
     "data": {
      "image/png": "[encoded data removed]",
      "text/plain": [
       "<Figure size 432x288 with 1 Axes>"
      ]
     },
     "metadata": {
      "needs_background": "light"
     },
     "output_type": "display_data"
    }
   ],
   "source": [
    "plt.scatter(range(len(X_test)),predict_proba(X_test, ws), c=Y_test)\n",
    "plt.ylabel('prob')\n",
    "plt.title(f\"loss: {res_ds['test_loss'].values[-1]:.4f}\")\n",
    "plt.show()"
   ]
  },
  {
   "cell_type": "markdown",
   "metadata": {},
   "source": [
    "## rmsprop"
   ]
  },
  {
   "cell_type": "markdown",
   "metadata": {},
   "source": [
    "rmsprop:\n",
    "\n",
    "$$E[g^2]_t = \\gamma E[g^2]_{t-1} + (1-\\gamma)g_t^2$$"
   ]
  },
  {
   "cell_type": "markdown",
   "metadata": {},
   "source": [
    "$$w_t = w_{t-1}-\\frac{\\lambda}{\\sqrt{E[g^2]_t+\\epsilon}}g_t$$"
   ]
  },
  {
   "cell_type": "code",
   "execution_count": 17,
   "metadata": {},
   "outputs": [],
   "source": [
    "def train_step_rms(X, y, ws, e, l=0.001, gamma=0.9):\n",
    "    g = grad(X, y, ws)\n",
    "    e1 = gamma*e+(1-gamma)*g*g\n",
    "    return [ws-l/np.sqrt(e+1e-9)*g, e1]"
   ]
  },
  {
   "cell_type": "code",
   "execution_count": 18,
   "metadata": {},
   "outputs": [
    {
     "data": {
      "application/vnd.jupyter.widget-view+json": {
       "model_id": "7c51d27c623b42928090ded4032fab21",
       "version_major": 2,
       "version_minor": 0
      },
      "text/plain": [
       "HBox(children=(IntProgress(value=0, max=1000), HTML(value='')))"
      ]
     },
     "metadata": {},
     "output_type": "display_data"
    },
    {
     "name": "stdout",
     "output_type": "stream",
     "text": [
      "\n"
     ]
    }
   ],
   "source": [
    "wss = []\n",
    "res_ds = []\n",
    "\n",
    "for i in tqdm_notebook(range(1000)):\n",
    "    if len(wss)>0:\n",
    "        ws, e = train_step_nest(X_train, Y_train, wss[-1], e, l=0.005)\n",
    "    else:\n",
    "        ws = np.random.normal(0,0.05, size=(5,))\n",
    "        e = 1\n",
    "    wss.append(ws)\n",
    "    train_preds = predict_proba(X_train, ws)\n",
    "    test_preds = predict_proba(X_test, ws)\n",
    "    \n",
    "    res = {'n_iter':i,\n",
    "          'train_loss':loss(Y_train, train_preds),\n",
    "          'test_loss':loss(Y_test, test_preds),\n",
    "          'train_roc':roc_auc_score(Y_train, train_preds),\n",
    "          'test_roc':roc_auc_score(Y_test, test_preds)}    \n",
    "    res_ds.append(res)\n",
    "res_ds = pd.concat([pd.Series(x) for x in res_ds],1).T"
   ]
  },
  {
   "cell_type": "code",
   "execution_count": 19,
   "metadata": {},
   "outputs": [
    {
     "data": {
      "image/png": "[encoded data removed]",
      "text/plain": [
       "<Figure size 1080x144 with 2 Axes>"
      ]
     },
     "metadata": {
      "needs_background": "light"
     },
     "output_type": "display_data"
    }
   ],
   "source": [
    "plt.figure(figsize=(15,2))\n",
    "plt.subplot(121)\n",
    "sns.lineplot(x='n_iter', y='train_loss',data=res_ds, label='train_loss')\n",
    "sns.lineplot(x='n_iter', y='test_loss',data=res_ds, label='test_loss')\n",
    "plt.subplot(122)\n",
    "sns.lineplot(x='n_iter', y='train_roc',data=res_ds, label='train_roc')\n",
    "sns.lineplot(x='n_iter', y='test_roc',data=res_ds, label='test_roc')\n",
    "plt.show()"
   ]
  },
  {
   "cell_type": "code",
   "execution_count": 20,
   "metadata": {},
   "outputs": [
    {
     "data": {
      "image/png": "[encoded data removed]",
      "text/plain": [
       "<Figure size 432x288 with 1 Axes>"
      ]
     },
     "metadata": {
      "needs_background": "light"
     },
     "output_type": "display_data"
    }
   ],
   "source": [
    "plt.scatter(range(len(X_test)),predict_proba(X_test, ws), c=Y_test)\n",
    "plt.ylabel('prob')\n",
    "plt.title(f\"loss: {res_ds['test_loss'].values[-1]:.4f}\")\n",
    "plt.show()"
   ]
  }
 ],
 "metadata": {
  "kernelspec": {
   "display_name": "Python 3",
   "language": "python",
   "name": "python3"
  },
  "language_info": {
   "codemirror_mode": {
    "name": "ipython",
    "version": 3
   },
   "file_extension": ".py",
   "mimetype": "text/x-python",
   "name": "python",
   "nbconvert_exporter": "python",
   "pygments_lexer": "ipython3",
   "version": "3.7.1"
  }
 },
 "nbformat": 4,
 "nbformat_minor": 2
}
