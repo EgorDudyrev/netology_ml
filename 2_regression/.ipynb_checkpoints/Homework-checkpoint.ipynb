{
 "cells": [
  {
   "cell_type": "code",
   "execution_count": 1,
   "metadata": {},
   "outputs": [],
   "source": [
    "import numpy as np\n",
    "import pandas as pd\n",
    "import matplotlib.pyplot as plt\n",
    "import seaborn as sns\n",
    "from sklearn.preprocessing import StandardScaler\n",
    "from sklearn.linear_model import LogisticRegression\n",
    "from sklearn.model_selection import train_test_split\n",
    "from sklearn.metrics import accuracy_score, precision_score, recall_score, roc_auc_score"
   ]
  },
  {
   "cell_type": "markdown",
   "metadata": {},
   "source": [
    "# Домашнее задание к занятию \"Алгоритмы классификации: линейные методы, логистическая регрессия и SVM\"\n",
    "Преподаватель: Алексей Кузьмин\n",
    "Имеются данные adult.csv (см. в материалах к занятию)\n",
    "\n",
    "Целевой переменной является уровень дохода income (крайний правый столбец).\n",
    "\n",
    "Описание признаков можно найти по ссылке http://www.cs.toronto.edu/~delve/data/adult/adultDetail.html\n",
    "\n",
    "Вам необходимо построить модель логистической регрессии, которая предсказывает уровень дохода человека. При возможности попробуйте улучшить точность предсказаний (метод score) с помощью перебора признаков."
   ]
  },
  {
   "cell_type": "markdown",
   "metadata": {},
   "source": [
    "Attribute Information:\n",
    "* age: continuous.\n",
    "* workclass: Private, Self-emp-not-inc, Self-emp-inc, Federal-gov, Local-gov, State-gov, Without-pay, Never-worked.\n",
    "* fnlwgt: continuous.\n",
    "* education: Bachelors, Some-college, 11th, HS-grad, Prof-school, Assoc-acdm, Assoc-voc, 9th, 7th-8th, 12th, Masters, 1st-4th, 10th, Doctorate, 5th-6th, Preschool.\n",
    "* education-num: continuous.\n",
    "* marital-status: Married-civ-spouse, Divorced, Never-married, Separated, Widowed, Married-spouse-absent, Married-AF-spouse.\n",
    "* occupation: Tech-support, Craft-repair, Other-service, Sales, Exec-managerial, Prof-specialty, Handlers-cleaners, Machine-op-inspct, Adm-clerical, Farming-fishing, Transport-moving, Priv-house-serv, Protective-serv, Armed-Forces.\n",
    "* relationship: Wife, Own-child, Husband, Not-in-family, Other-relative, Unmarried.\n",
    "* race: White, Asian-Pac-Islander, Amer-Indian-Eskimo, Other, Black.\n",
    "* sex: Female, Male.\n",
    "* capital-gain: continuous.\n",
    "* capital-loss: continuous.\n",
    "* hours-per-week: continuous.\n",
    "* native-country: United-States, Cambodia, England, Puerto-Rico, Canada, Germany, Outlying-US(Guam-USVI-etc), India, Japan, Greece, South, China, Cuba, Iran, Honduras, Philippines, Italy, Poland, Jamaica, Vietnam, Mexico, Portugal, Ireland, France, Dominican-Republic, Laos, Ecuador, Taiwan, Haiti, Columbia, Hungary, Guatemala, Nicaragua, Scotland, Thailand, Yugoslavia, El-Salvador, Trinadad&Tobago, Peru, Hong, Holand-Netherlands.\n",
    "* class: >50K, <=50K"
   ]
  },
  {
   "cell_type": "markdown",
   "metadata": {},
   "source": [
    "## Работа с данными"
   ]
  },
  {
   "cell_type": "markdown",
   "metadata": {},
   "source": [
    "Загрузим данные"
   ]
  },
  {
   "cell_type": "code",
   "execution_count": 2,
   "metadata": {},
   "outputs": [
    {
     "name": "stdout",
     "output_type": "stream",
     "text": [
      "(48842, 15)\n"
     ]
    },
    {
     "data": {
      "text/html": [
       "<div>\n",
       "<style scoped>\n",
       "    .dataframe tbody tr th:only-of-type {\n",
       "        vertical-align: middle;\n",
       "    }\n",
       "\n",
       "    .dataframe tbody tr th {\n",
       "        vertical-align: top;\n",
       "    }\n",
       "\n",
       "    .dataframe thead th {\n",
       "        text-align: right;\n",
       "    }\n",
       "</style>\n",
       "<table border=\"1\" class=\"dataframe\">\n",
       "  <thead>\n",
       "    <tr style=\"text-align: right;\">\n",
       "      <th></th>\n",
       "      <th>age</th>\n",
       "      <th>workclass</th>\n",
       "      <th>fnlwgt</th>\n",
       "      <th>education</th>\n",
       "      <th>educational-num</th>\n",
       "      <th>marital-status</th>\n",
       "      <th>occupation</th>\n",
       "      <th>relationship</th>\n",
       "      <th>race</th>\n",
       "      <th>gender</th>\n",
       "      <th>capital-gain</th>\n",
       "      <th>capital-loss</th>\n",
       "      <th>hours-per-week</th>\n",
       "      <th>native-country</th>\n",
       "      <th>income</th>\n",
       "    </tr>\n",
       "  </thead>\n",
       "  <tbody>\n",
       "    <tr>\n",
       "      <th>0</th>\n",
       "      <td>25</td>\n",
       "      <td>Private</td>\n",
       "      <td>226802</td>\n",
       "      <td>11th</td>\n",
       "      <td>7</td>\n",
       "      <td>Never-married</td>\n",
       "      <td>Machine-op-inspct</td>\n",
       "      <td>Own-child</td>\n",
       "      <td>Black</td>\n",
       "      <td>Male</td>\n",
       "      <td>0</td>\n",
       "      <td>0</td>\n",
       "      <td>40</td>\n",
       "      <td>United-States</td>\n",
       "      <td>&lt;=50K</td>\n",
       "    </tr>\n",
       "    <tr>\n",
       "      <th>1</th>\n",
       "      <td>38</td>\n",
       "      <td>Private</td>\n",
       "      <td>89814</td>\n",
       "      <td>HS-grad</td>\n",
       "      <td>9</td>\n",
       "      <td>Married-civ-spouse</td>\n",
       "      <td>Farming-fishing</td>\n",
       "      <td>Husband</td>\n",
       "      <td>White</td>\n",
       "      <td>Male</td>\n",
       "      <td>0</td>\n",
       "      <td>0</td>\n",
       "      <td>50</td>\n",
       "      <td>United-States</td>\n",
       "      <td>&lt;=50K</td>\n",
       "    </tr>\n",
       "    <tr>\n",
       "      <th>2</th>\n",
       "      <td>28</td>\n",
       "      <td>Local-gov</td>\n",
       "      <td>336951</td>\n",
       "      <td>Assoc-acdm</td>\n",
       "      <td>12</td>\n",
       "      <td>Married-civ-spouse</td>\n",
       "      <td>Protective-serv</td>\n",
       "      <td>Husband</td>\n",
       "      <td>White</td>\n",
       "      <td>Male</td>\n",
       "      <td>0</td>\n",
       "      <td>0</td>\n",
       "      <td>40</td>\n",
       "      <td>United-States</td>\n",
       "      <td>&gt;50K</td>\n",
       "    </tr>\n",
       "    <tr>\n",
       "      <th>3</th>\n",
       "      <td>44</td>\n",
       "      <td>Private</td>\n",
       "      <td>160323</td>\n",
       "      <td>Some-college</td>\n",
       "      <td>10</td>\n",
       "      <td>Married-civ-spouse</td>\n",
       "      <td>Machine-op-inspct</td>\n",
       "      <td>Husband</td>\n",
       "      <td>Black</td>\n",
       "      <td>Male</td>\n",
       "      <td>7688</td>\n",
       "      <td>0</td>\n",
       "      <td>40</td>\n",
       "      <td>United-States</td>\n",
       "      <td>&gt;50K</td>\n",
       "    </tr>\n",
       "    <tr>\n",
       "      <th>4</th>\n",
       "      <td>18</td>\n",
       "      <td>?</td>\n",
       "      <td>103497</td>\n",
       "      <td>Some-college</td>\n",
       "      <td>10</td>\n",
       "      <td>Never-married</td>\n",
       "      <td>?</td>\n",
       "      <td>Own-child</td>\n",
       "      <td>White</td>\n",
       "      <td>Female</td>\n",
       "      <td>0</td>\n",
       "      <td>0</td>\n",
       "      <td>30</td>\n",
       "      <td>United-States</td>\n",
       "      <td>&lt;=50K</td>\n",
       "    </tr>\n",
       "  </tbody>\n",
       "</table>\n",
       "</div>"
      ],
      "text/plain": [
       "   age  workclass  fnlwgt     education  educational-num      marital-status  \\\n",
       "0   25    Private  226802          11th                7       Never-married   \n",
       "1   38    Private   89814       HS-grad                9  Married-civ-spouse   \n",
       "2   28  Local-gov  336951    Assoc-acdm               12  Married-civ-spouse   \n",
       "3   44    Private  160323  Some-college               10  Married-civ-spouse   \n",
       "4   18          ?  103497  Some-college               10       Never-married   \n",
       "\n",
       "          occupation relationship   race  gender  capital-gain  capital-loss  \\\n",
       "0  Machine-op-inspct    Own-child  Black    Male             0             0   \n",
       "1    Farming-fishing      Husband  White    Male             0             0   \n",
       "2    Protective-serv      Husband  White    Male             0             0   \n",
       "3  Machine-op-inspct      Husband  Black    Male          7688             0   \n",
       "4                  ?    Own-child  White  Female             0             0   \n",
       "\n",
       "   hours-per-week native-country income  \n",
       "0              40  United-States  <=50K  \n",
       "1              50  United-States  <=50K  \n",
       "2              40  United-States   >50K  \n",
       "3              40  United-States   >50K  \n",
       "4              30  United-States  <=50K  "
      ]
     },
     "execution_count": 2,
     "metadata": {},
     "output_type": "execute_result"
    }
   ],
   "source": [
    "ds = pd.read_csv('adult.csv')\n",
    "print(ds.shape)\n",
    "ds.head()"
   ]
  },
  {
   "cell_type": "markdown",
   "metadata": {},
   "source": [
    "Переведём целевую переменную в бинарный вид"
   ]
  },
  {
   "cell_type": "code",
   "execution_count": 3,
   "metadata": {},
   "outputs": [
    {
     "data": {
      "text/plain": [
       "0.23928176569346055"
      ]
     },
     "execution_count": 3,
     "metadata": {},
     "output_type": "execute_result"
    }
   ],
   "source": [
    "ds['income_big'] = ds['income']=='>50K'\n",
    "ds['income_big'].mean()"
   ]
  },
  {
   "cell_type": "code",
   "execution_count": 4,
   "metadata": {},
   "outputs": [
    {
     "data": {
      "text/plain": [
       "Index(['age', 'workclass', 'fnlwgt', 'education', 'educational-num',\n",
       "       'marital-status', 'occupation', 'relationship', 'race', 'gender',\n",
       "       'capital-gain', 'capital-loss', 'hours-per-week', 'native-country',\n",
       "       'income', 'income_big'],\n",
       "      dtype='object')"
      ]
     },
     "execution_count": 4,
     "metadata": {},
     "output_type": "execute_result"
    }
   ],
   "source": [
    "ds.columns"
   ]
  },
  {
   "cell_type": "markdown",
   "metadata": {},
   "source": [
    "Пропущенных значений нет"
   ]
  },
  {
   "cell_type": "code",
   "execution_count": 5,
   "metadata": {},
   "outputs": [
    {
     "data": {
      "text/plain": [
       "0"
      ]
     },
     "execution_count": 5,
     "metadata": {},
     "output_type": "execute_result"
    }
   ],
   "source": [
    "ds.isnull().sum().sum()"
   ]
  },
  {
   "cell_type": "markdown",
   "metadata": {},
   "source": [
    "Посмотрим на количество значений в переменных - категориальные они или вещественные"
   ]
  },
  {
   "cell_type": "code",
   "execution_count": 6,
   "metadata": {},
   "outputs": [
    {
     "data": {
      "text/plain": [
       "fnlwgt             28523\n",
       "capital-gain         123\n",
       "capital-loss          99\n",
       "hours-per-week        96\n",
       "age                   74\n",
       "native-country        42\n",
       "educational-num       16\n",
       "education             16\n",
       "occupation            15\n",
       "workclass              9\n",
       "marital-status         7\n",
       "relationship           6\n",
       "race                   5\n",
       "income_big             2\n",
       "income                 2\n",
       "gender                 2\n",
       "dtype: int64"
      ]
     },
     "execution_count": 6,
     "metadata": {},
     "output_type": "execute_result"
    }
   ],
   "source": [
    "ds.nunique().sort_values(ascending=False)"
   ]
  },
  {
   "cell_type": "markdown",
   "metadata": {},
   "source": [
    "Переведём признак пола в бинарный формат"
   ]
  },
  {
   "cell_type": "code",
   "execution_count": 7,
   "metadata": {},
   "outputs": [],
   "source": [
    "ds['gender-male']= ds['gender']=='Male'"
   ]
  },
  {
   "cell_type": "markdown",
   "metadata": {},
   "source": [
    "## Базовая модель"
   ]
  },
  {
   "cell_type": "markdown",
   "metadata": {},
   "source": [
    "Определим переменные для предсказания"
   ]
  },
  {
   "cell_type": "code",
   "execution_count": 8,
   "metadata": {},
   "outputs": [],
   "source": [
    "feats = ds.drop(['income', 'income_big'],1).columns\n",
    "real_feats = [\n",
    "    'fnlwgt','capital-gain','capital-loss','hours-per-week','age',\n",
    "    'educational-num', 'gender-male'\n",
    "]\n",
    "y_feat = 'income_big'\n",
    "cat_feats = list(set(feats)-set(real_feats))"
   ]
  },
  {
   "cell_type": "markdown",
   "metadata": {},
   "source": [
    "Выделим X и Y, произведём ohe hot encoding категориальных признаков"
   ]
  },
  {
   "cell_type": "code",
   "execution_count": 9,
   "metadata": {},
   "outputs": [],
   "source": [
    "Y = ds[y_feat]"
   ]
  },
  {
   "cell_type": "code",
   "execution_count": 10,
   "metadata": {},
   "outputs": [
    {
     "name": "stderr",
     "output_type": "stream",
     "text": [
      "/home/egor/anaconda3/lib/python3.7/site-packages/ipykernel_launcher.py:4: SettingWithCopyWarning: \n",
      "A value is trying to be set on a copy of a slice from a DataFrame.\n",
      "Try using .loc[row_indexer,col_indexer] = value instead\n",
      "\n",
      "See the caveats in the documentation: http://pandas.pydata.org/pandas-docs/stable/indexing.html#indexing-view-versus-copy\n",
      "  after removing the cwd from sys.path.\n"
     ]
    }
   ],
   "source": [
    "X = ds[real_feats]\n",
    "for f in cat_feats:\n",
    "    for v in ds[f].drop_duplicates().values:\n",
    "        X[f'{f}_{v}'] = (ds[f]==v).astype(int)"
   ]
  },
  {
   "cell_type": "markdown",
   "metadata": {},
   "source": [
    "Масштабируем признаки"
   ]
  },
  {
   "cell_type": "code",
   "execution_count": 11,
   "metadata": {},
   "outputs": [
    {
     "name": "stderr",
     "output_type": "stream",
     "text": [
      "/home/egor/anaconda3/lib/python3.7/site-packages/sklearn/preprocessing/data.py:625: DataConversionWarning: Data with input dtype bool, int64 were all converted to float64 by StandardScaler.\n",
      "  return self.partial_fit(X, y)\n",
      "/home/egor/anaconda3/lib/python3.7/site-packages/sklearn/base.py:462: DataConversionWarning: Data with input dtype bool, int64 were all converted to float64 by StandardScaler.\n",
      "  return self.fit(X, **fit_params).transform(X)\n"
     ]
    }
   ],
   "source": [
    "X_scal = X.copy()\n",
    "X_scal[real_feats] = StandardScaler().fit_transform(X_scal[real_feats])"
   ]
  },
  {
   "cell_type": "markdown",
   "metadata": {},
   "source": [
    "Делим на train и test"
   ]
  },
  {
   "cell_type": "code",
   "execution_count": 12,
   "metadata": {},
   "outputs": [],
   "source": [
    "X_train, X_test, Y_train, Y_test = train_test_split(X_scal, Y, random_state=42)"
   ]
  },
  {
   "cell_type": "markdown",
   "metadata": {},
   "source": [
    "Обучение модели"
   ]
  },
  {
   "cell_type": "code",
   "execution_count": 13,
   "metadata": {},
   "outputs": [
    {
     "name": "stderr",
     "output_type": "stream",
     "text": [
      "/home/egor/anaconda3/lib/python3.7/site-packages/sklearn/linear_model/logistic.py:433: FutureWarning: Default solver will be changed to 'lbfgs' in 0.22. Specify a solver to silence this warning.\n",
      "  FutureWarning)\n"
     ]
    }
   ],
   "source": [
    "lr = LogisticRegression()\n",
    "lr.fit(X_train, Y_train)\n",
    "preds_train, preds_test = lr.predict(X_train), lr.predict(X_test)"
   ]
  },
  {
   "cell_type": "markdown",
   "metadata": {},
   "source": [
    "Расчёт метрик качества"
   ]
  },
  {
   "cell_type": "code",
   "execution_count": 14,
   "metadata": {},
   "outputs": [
    {
     "data": {
      "text/html": [
       "<div>\n",
       "<style scoped>\n",
       "    .dataframe tbody tr th:only-of-type {\n",
       "        vertical-align: middle;\n",
       "    }\n",
       "\n",
       "    .dataframe tbody tr th {\n",
       "        vertical-align: top;\n",
       "    }\n",
       "\n",
       "    .dataframe thead th {\n",
       "        text-align: right;\n",
       "    }\n",
       "</style>\n",
       "<table border=\"1\" class=\"dataframe\">\n",
       "  <thead>\n",
       "    <tr style=\"text-align: right;\">\n",
       "      <th></th>\n",
       "      <th>metric</th>\n",
       "      <th>model</th>\n",
       "      <th>test</th>\n",
       "      <th>train</th>\n",
       "    </tr>\n",
       "  </thead>\n",
       "  <tbody>\n",
       "    <tr>\n",
       "      <th>0</th>\n",
       "      <td>accuracy_score</td>\n",
       "      <td>base</td>\n",
       "      <td>0.858652</td>\n",
       "      <td>0.851410</td>\n",
       "    </tr>\n",
       "    <tr>\n",
       "      <th>1</th>\n",
       "      <td>precision_score</td>\n",
       "      <td>base</td>\n",
       "      <td>0.739314</td>\n",
       "      <td>0.735306</td>\n",
       "    </tr>\n",
       "    <tr>\n",
       "      <th>2</th>\n",
       "      <td>recall_score</td>\n",
       "      <td>base</td>\n",
       "      <td>0.611481</td>\n",
       "      <td>0.599320</td>\n",
       "    </tr>\n",
       "    <tr>\n",
       "      <th>3</th>\n",
       "      <td>roc_auc_score</td>\n",
       "      <td>base</td>\n",
       "      <td>0.772813</td>\n",
       "      <td>0.765399</td>\n",
       "    </tr>\n",
       "  </tbody>\n",
       "</table>\n",
       "</div>"
      ],
      "text/plain": [
       "            metric model      test     train\n",
       "0   accuracy_score  base  0.858652  0.851410\n",
       "1  precision_score  base  0.739314  0.735306\n",
       "2     recall_score  base  0.611481  0.599320\n",
       "3    roc_auc_score  base  0.772813  0.765399"
      ]
     },
     "execution_count": 14,
     "metadata": {},
     "output_type": "execute_result"
    }
   ],
   "source": [
    "res_ds = pd.DataFrame()\n",
    "\n",
    "for m in [accuracy_score, precision_score, recall_score, roc_auc_score]:\n",
    "    res = {'model':'base', 'metric':m.__name__, 'train':m(Y_train, preds_train), 'test':m(Y_test, preds_test)}\n",
    "    res_ds = res_ds.append(res, ignore_index=True)\n",
    "\n",
    "res_ds"
   ]
  },
  {
   "cell_type": "code",
   "execution_count": 15,
   "metadata": {},
   "outputs": [],
   "source": [
    "res_ds_base = res_ds.copy()"
   ]
  },
  {
   "cell_type": "markdown",
   "metadata": {},
   "source": [
    "## Отбор лучших признаков c помощью перебора"
   ]
  },
  {
   "cell_type": "markdown",
   "metadata": {},
   "source": [
    "Подготовим все признаки к работе. Затем будем выбирать только нужные"
   ]
  },
  {
   "cell_type": "code",
   "execution_count": 16,
   "metadata": {},
   "outputs": [],
   "source": [
    "feats = ds.drop(['income', 'income_big'],1).columns\n",
    "real_feats = [\n",
    "    'fnlwgt','capital-gain','capital-loss','hours-per-week','age',\n",
    "    'educational-num', 'gender-male'\n",
    "]\n",
    "y_feat = 'income_big'\n",
    "cat_feats = list(set(feats)-set(real_feats))"
   ]
  },
  {
   "cell_type": "code",
   "execution_count": 17,
   "metadata": {},
   "outputs": [],
   "source": [
    "Y = ds[y_feat]"
   ]
  },
  {
   "cell_type": "code",
   "execution_count": 18,
   "metadata": {},
   "outputs": [
    {
     "name": "stderr",
     "output_type": "stream",
     "text": [
      "/home/egor/anaconda3/lib/python3.7/site-packages/ipykernel_launcher.py:4: SettingWithCopyWarning: \n",
      "A value is trying to be set on a copy of a slice from a DataFrame.\n",
      "Try using .loc[row_indexer,col_indexer] = value instead\n",
      "\n",
      "See the caveats in the documentation: http://pandas.pydata.org/pandas-docs/stable/indexing.html#indexing-view-versus-copy\n",
      "  after removing the cwd from sys.path.\n"
     ]
    }
   ],
   "source": [
    "X = ds[real_feats]\n",
    "for f in cat_feats:\n",
    "    for v in ds[f].drop_duplicates().values:\n",
    "        X[f'{f}_{v}'] = (ds[f]==v).astype(int)"
   ]
  },
  {
   "cell_type": "code",
   "execution_count": 19,
   "metadata": {},
   "outputs": [
    {
     "name": "stderr",
     "output_type": "stream",
     "text": [
      "/home/egor/anaconda3/lib/python3.7/site-packages/sklearn/preprocessing/data.py:625: DataConversionWarning: Data with input dtype bool, int64 were all converted to float64 by StandardScaler.\n",
      "  return self.partial_fit(X, y)\n",
      "/home/egor/anaconda3/lib/python3.7/site-packages/sklearn/base.py:462: DataConversionWarning: Data with input dtype bool, int64 were all converted to float64 by StandardScaler.\n",
      "  return self.fit(X, **fit_params).transform(X)\n"
     ]
    }
   ],
   "source": [
    "X_scal = X.copy()\n",
    "X_scal[real_feats] = StandardScaler().fit_transform(X_scal[real_feats])\n",
    "X_train_full, X_test_full, Y_train, Y_test = train_test_split(X_scal, Y, random_state=42)"
   ]
  },
  {
   "cell_type": "code",
   "execution_count": 20,
   "metadata": {},
   "outputs": [],
   "source": [
    "from itertools import combinations, chain"
   ]
  },
  {
   "cell_type": "code",
   "execution_count": 21,
   "metadata": {},
   "outputs": [],
   "source": [
    "from tqdm import tqdm_notebook"
   ]
  },
  {
   "cell_type": "markdown",
   "metadata": {},
   "source": [
    "Выделим комбинации из 1,5,10 признаков"
   ]
  },
  {
   "cell_type": "code",
   "execution_count": 22,
   "metadata": {},
   "outputs": [
    {
     "data": {
      "text/plain": [
       "[('age',),\n",
       " ('workclass',),\n",
       " ('fnlwgt',),\n",
       " ('education',),\n",
       " ('educational-num',),\n",
       " ('marital-status',),\n",
       " ('occupation',),\n",
       " ('relationship',),\n",
       " ('race',),\n",
       " ('gender',),\n",
       " ('capital-gain',),\n",
       " ('capital-loss',),\n",
       " ('hours-per-week',),\n",
       " ('native-country',),\n",
       " ('gender-male',),\n",
       " ('age', 'workclass', 'fnlwgt', 'education', 'educational-num'),\n",
       " ('age', 'workclass', 'fnlwgt', 'education', 'marital-status'),\n",
       " ('age', 'workclass', 'fnlwgt', 'education', 'occupation'),\n",
       " ('age', 'workclass', 'fnlwgt', 'education', 'relationship'),\n",
       " ('age', 'workclass', 'fnlwgt', 'education', 'race'),\n",
       " ('age', 'workclass', 'fnlwgt', 'education', 'gender'),\n",
       " ('age', 'workclass', 'fnlwgt', 'education', 'capital-gain'),\n",
       " ('age', 'workclass', 'fnlwgt', 'education', 'capital-loss'),\n",
       " ('age', 'workclass', 'fnlwgt', 'education', 'hours-per-week'),\n",
       " ('age', 'workclass', 'fnlwgt', 'education', 'native-country'),\n",
       " ('age', 'workclass', 'fnlwgt', 'education', 'gender-male'),\n",
       " ('age', 'workclass', 'fnlwgt', 'educational-num', 'marital-status'),\n",
       " ('age', 'workclass', 'fnlwgt', 'educational-num', 'occupation'),\n",
       " ('age', 'workclass', 'fnlwgt', 'educational-num', 'relationship'),\n",
       " ('age', 'workclass', 'fnlwgt', 'educational-num', 'race'),\n",
       " ('age', 'workclass', 'fnlwgt', 'educational-num', 'gender'),\n",
       " ('age', 'workclass', 'fnlwgt', 'educational-num', 'capital-gain'),\n",
       " ('age', 'workclass', 'fnlwgt', 'educational-num', 'capital-loss'),\n",
       " ('age', 'workclass', 'fnlwgt', 'educational-num', 'hours-per-week'),\n",
       " ('age', 'workclass', 'fnlwgt', 'educational-num', 'native-country'),\n",
       " ('age', 'workclass', 'fnlwgt', 'educational-num', 'gender-male'),\n",
       " ('age', 'workclass', 'fnlwgt', 'marital-status', 'occupation'),\n",
       " ('age', 'workclass', 'fnlwgt', 'marital-status', 'relationship'),\n",
       " ('age', 'workclass', 'fnlwgt', 'marital-status', 'race'),\n",
       " ('age', 'workclass', 'fnlwgt', 'marital-status', 'gender'),\n",
       " ('age', 'workclass', 'fnlwgt', 'marital-status', 'capital-gain'),\n",
       " ('age', 'workclass', 'fnlwgt', 'marital-status', 'capital-loss'),\n",
       " ('age', 'workclass', 'fnlwgt', 'marital-status', 'hours-per-week'),\n",
       " ('age', 'workclass', 'fnlwgt', 'marital-status', 'native-country'),\n",
       " ('age', 'workclass', 'fnlwgt', 'marital-status', 'gender-male'),\n",
       " ('age', 'workclass', 'fnlwgt', 'occupation', 'relationship'),\n",
       " ('age', 'workclass', 'fnlwgt', 'occupation', 'race'),\n",
       " ('age', 'workclass', 'fnlwgt', 'occupation', 'gender'),\n",
       " ('age', 'workclass', 'fnlwgt', 'occupation', 'capital-gain'),\n",
       " ('age', 'workclass', 'fnlwgt', 'occupation', 'capital-loss'),\n",
       " ('age', 'workclass', 'fnlwgt', 'occupation', 'hours-per-week'),\n",
       " ('age', 'workclass', 'fnlwgt', 'occupation', 'native-country'),\n",
       " ('age', 'workclass', 'fnlwgt', 'occupation', 'gender-male'),\n",
       " ('age', 'workclass', 'fnlwgt', 'relationship', 'race'),\n",
       " ('age', 'workclass', 'fnlwgt', 'relationship', 'gender'),\n",
       " ('age', 'workclass', 'fnlwgt', 'relationship', 'capital-gain'),\n",
       " ('age', 'workclass', 'fnlwgt', 'relationship', 'capital-loss'),\n",
       " ('age', 'workclass', 'fnlwgt', 'relationship', 'hours-per-week'),\n",
       " ('age', 'workclass', 'fnlwgt', 'relationship', 'native-country'),\n",
       " ('age', 'workclass', 'fnlwgt', 'relationship', 'gender-male'),\n",
       " ('age', 'workclass', 'fnlwgt', 'race', 'gender'),\n",
       " ('age', 'workclass', 'fnlwgt', 'race', 'capital-gain'),\n",
       " ('age', 'workclass', 'fnlwgt', 'race', 'capital-loss'),\n",
       " ('age', 'workclass', 'fnlwgt', 'race', 'hours-per-week'),\n",
       " ('age', 'workclass', 'fnlwgt', 'race', 'native-country'),\n",
       " ('age', 'workclass', 'fnlwgt', 'race', 'gender-male'),\n",
       " ('age', 'workclass', 'fnlwgt', 'gender', 'capital-gain'),\n",
       " ('age', 'workclass', 'fnlwgt', 'gender', 'capital-loss'),\n",
       " ('age', 'workclass', 'fnlwgt', 'gender', 'hours-per-week'),\n",
       " ('age', 'workclass', 'fnlwgt', 'gender', 'native-country'),\n",
       " ('age', 'workclass', 'fnlwgt', 'gender', 'gender-male'),\n",
       " ('age', 'workclass', 'fnlwgt', 'capital-gain', 'capital-loss'),\n",
       " ('age', 'workclass', 'fnlwgt', 'capital-gain', 'hours-per-week'),\n",
       " ('age', 'workclass', 'fnlwgt', 'capital-gain', 'native-country'),\n",
       " ('age', 'workclass', 'fnlwgt', 'capital-gain', 'gender-male'),\n",
       " ('age', 'workclass', 'fnlwgt', 'capital-loss', 'hours-per-week'),\n",
       " ('age', 'workclass', 'fnlwgt', 'capital-loss', 'native-country'),\n",
       " ('age', 'workclass', 'fnlwgt', 'capital-loss', 'gender-male'),\n",
       " ('age', 'workclass', 'fnlwgt', 'hours-per-week', 'native-country'),\n",
       " ('age', 'workclass', 'fnlwgt', 'hours-per-week', 'gender-male'),\n",
       " ('age', 'workclass', 'fnlwgt', 'native-country', 'gender-male'),\n",
       " ('age', 'workclass', 'education', 'educational-num', 'marital-status'),\n",
       " ('age', 'workclass', 'education', 'educational-num', 'occupation'),\n",
       " ('age', 'workclass', 'education', 'educational-num', 'relationship'),\n",
       " ('age', 'workclass', 'education', 'educational-num', 'race'),\n",
       " ('age', 'workclass', 'education', 'educational-num', 'gender'),\n",
       " ('age', 'workclass', 'education', 'educational-num', 'capital-gain'),\n",
       " ('age', 'workclass', 'education', 'educational-num', 'capital-loss'),\n",
       " ('age', 'workclass', 'education', 'educational-num', 'hours-per-week'),\n",
       " ('age', 'workclass', 'education', 'educational-num', 'native-country'),\n",
       " ('age', 'workclass', 'education', 'educational-num', 'gender-male'),\n",
       " ('age', 'workclass', 'education', 'marital-status', 'occupation'),\n",
       " ('age', 'workclass', 'education', 'marital-status', 'relationship'),\n",
       " ('age', 'workclass', 'education', 'marital-status', 'race'),\n",
       " ('age', 'workclass', 'education', 'marital-status', 'gender'),\n",
       " ('age', 'workclass', 'education', 'marital-status', 'capital-gain'),\n",
       " ('age', 'workclass', 'education', 'marital-status', 'capital-loss'),\n",
       " ('age', 'workclass', 'education', 'marital-status', 'hours-per-week'),\n",
       " ('age', 'workclass', 'education', 'marital-status', 'native-country'),\n",
       " ('age', 'workclass', 'education', 'marital-status', 'gender-male'),\n",
       " ('age', 'workclass', 'education', 'occupation', 'relationship'),\n",
       " ('age', 'workclass', 'education', 'occupation', 'race'),\n",
       " ('age', 'workclass', 'education', 'occupation', 'gender'),\n",
       " ('age', 'workclass', 'education', 'occupation', 'capital-gain'),\n",
       " ('age', 'workclass', 'education', 'occupation', 'capital-loss'),\n",
       " ('age', 'workclass', 'education', 'occupation', 'hours-per-week'),\n",
       " ('age', 'workclass', 'education', 'occupation', 'native-country'),\n",
       " ('age', 'workclass', 'education', 'occupation', 'gender-male'),\n",
       " ('age', 'workclass', 'education', 'relationship', 'race'),\n",
       " ('age', 'workclass', 'education', 'relationship', 'gender'),\n",
       " ('age', 'workclass', 'education', 'relationship', 'capital-gain'),\n",
       " ('age', 'workclass', 'education', 'relationship', 'capital-loss'),\n",
       " ('age', 'workclass', 'education', 'relationship', 'hours-per-week'),\n",
       " ('age', 'workclass', 'education', 'relationship', 'native-country'),\n",
       " ('age', 'workclass', 'education', 'relationship', 'gender-male'),\n",
       " ('age', 'workclass', 'education', 'race', 'gender'),\n",
       " ('age', 'workclass', 'education', 'race', 'capital-gain'),\n",
       " ('age', 'workclass', 'education', 'race', 'capital-loss'),\n",
       " ('age', 'workclass', 'education', 'race', 'hours-per-week'),\n",
       " ('age', 'workclass', 'education', 'race', 'native-country'),\n",
       " ('age', 'workclass', 'education', 'race', 'gender-male'),\n",
       " ('age', 'workclass', 'education', 'gender', 'capital-gain'),\n",
       " ('age', 'workclass', 'education', 'gender', 'capital-loss'),\n",
       " ('age', 'workclass', 'education', 'gender', 'hours-per-week'),\n",
       " ('age', 'workclass', 'education', 'gender', 'native-country'),\n",
       " ('age', 'workclass', 'education', 'gender', 'gender-male'),\n",
       " ('age', 'workclass', 'education', 'capital-gain', 'capital-loss'),\n",
       " ('age', 'workclass', 'education', 'capital-gain', 'hours-per-week'),\n",
       " ('age', 'workclass', 'education', 'capital-gain', 'native-country'),\n",
       " ('age', 'workclass', 'education', 'capital-gain', 'gender-male'),\n",
       " ('age', 'workclass', 'education', 'capital-loss', 'hours-per-week'),\n",
       " ('age', 'workclass', 'education', 'capital-loss', 'native-country'),\n",
       " ('age', 'workclass', 'education', 'capital-loss', 'gender-male'),\n",
       " ('age', 'workclass', 'education', 'hours-per-week', 'native-country'),\n",
       " ('age', 'workclass', 'education', 'hours-per-week', 'gender-male'),\n",
       " ('age', 'workclass', 'education', 'native-country', 'gender-male'),\n",
       " ('age', 'workclass', 'educational-num', 'marital-status', 'occupation'),\n",
       " ('age', 'workclass', 'educational-num', 'marital-status', 'relationship'),\n",
       " ('age', 'workclass', 'educational-num', 'marital-status', 'race'),\n",
       " ('age', 'workclass', 'educational-num', 'marital-status', 'gender'),\n",
       " ('age', 'workclass', 'educational-num', 'marital-status', 'capital-gain'),\n",
       " ('age', 'workclass', 'educational-num', 'marital-status', 'capital-loss'),\n",
       " ('age', 'workclass', 'educational-num', 'marital-status', 'hours-per-week'),\n",
       " ('age', 'workclass', 'educational-num', 'marital-status', 'native-country'),\n",
       " ('age', 'workclass', 'educational-num', 'marital-status', 'gender-male'),\n",
       " ('age', 'workclass', 'educational-num', 'occupation', 'relationship'),\n",
       " ('age', 'workclass', 'educational-num', 'occupation', 'race'),\n",
       " ('age', 'workclass', 'educational-num', 'occupation', 'gender'),\n",
       " ('age', 'workclass', 'educational-num', 'occupation', 'capital-gain'),\n",
       " ('age', 'workclass', 'educational-num', 'occupation', 'capital-loss'),\n",
       " ('age', 'workclass', 'educational-num', 'occupation', 'hours-per-week'),\n",
       " ('age', 'workclass', 'educational-num', 'occupation', 'native-country'),\n",
       " ('age', 'workclass', 'educational-num', 'occupation', 'gender-male'),\n",
       " ('age', 'workclass', 'educational-num', 'relationship', 'race'),\n",
       " ('age', 'workclass', 'educational-num', 'relationship', 'gender'),\n",
       " ('age', 'workclass', 'educational-num', 'relationship', 'capital-gain'),\n",
       " ('age', 'workclass', 'educational-num', 'relationship', 'capital-loss'),\n",
       " ('age', 'workclass', 'educational-num', 'relationship', 'hours-per-week'),\n",
       " ('age', 'workclass', 'educational-num', 'relationship', 'native-country'),\n",
       " ('age', 'workclass', 'educational-num', 'relationship', 'gender-male'),\n",
       " ('age', 'workclass', 'educational-num', 'race', 'gender'),\n",
       " ('age', 'workclass', 'educational-num', 'race', 'capital-gain'),\n",
       " ('age', 'workclass', 'educational-num', 'race', 'capital-loss'),\n",
       " ('age', 'workclass', 'educational-num', 'race', 'hours-per-week'),\n",
       " ('age', 'workclass', 'educational-num', 'race', 'native-country'),\n",
       " ('age', 'workclass', 'educational-num', 'race', 'gender-male'),\n",
       " ('age', 'workclass', 'educational-num', 'gender', 'capital-gain'),\n",
       " ('age', 'workclass', 'educational-num', 'gender', 'capital-loss'),\n",
       " ('age', 'workclass', 'educational-num', 'gender', 'hours-per-week'),\n",
       " ('age', 'workclass', 'educational-num', 'gender', 'native-country'),\n",
       " ('age', 'workclass', 'educational-num', 'gender', 'gender-male'),\n",
       " ('age', 'workclass', 'educational-num', 'capital-gain', 'capital-loss'),\n",
       " ('age', 'workclass', 'educational-num', 'capital-gain', 'hours-per-week'),\n",
       " ('age', 'workclass', 'educational-num', 'capital-gain', 'native-country'),\n",
       " ('age', 'workclass', 'educational-num', 'capital-gain', 'gender-male'),\n",
       " ('age', 'workclass', 'educational-num', 'capital-loss', 'hours-per-week'),\n",
       " ('age', 'workclass', 'educational-num', 'capital-loss', 'native-country'),\n",
       " ('age', 'workclass', 'educational-num', 'capital-loss', 'gender-male'),\n",
       " ('age', 'workclass', 'educational-num', 'hours-per-week', 'native-country'),\n",
       " ('age', 'workclass', 'educational-num', 'hours-per-week', 'gender-male'),\n",
       " ('age', 'workclass', 'educational-num', 'native-country', 'gender-male'),\n",
       " ('age', 'workclass', 'marital-status', 'occupation', 'relationship'),\n",
       " ('age', 'workclass', 'marital-status', 'occupation', 'race'),\n",
       " ('age', 'workclass', 'marital-status', 'occupation', 'gender'),\n",
       " ('age', 'workclass', 'marital-status', 'occupation', 'capital-gain'),\n",
       " ('age', 'workclass', 'marital-status', 'occupation', 'capital-loss'),\n",
       " ('age', 'workclass', 'marital-status', 'occupation', 'hours-per-week'),\n",
       " ('age', 'workclass', 'marital-status', 'occupation', 'native-country'),\n",
       " ('age', 'workclass', 'marital-status', 'occupation', 'gender-male'),\n",
       " ('age', 'workclass', 'marital-status', 'relationship', 'race'),\n",
       " ('age', 'workclass', 'marital-status', 'relationship', 'gender'),\n",
       " ('age', 'workclass', 'marital-status', 'relationship', 'capital-gain'),\n",
       " ('age', 'workclass', 'marital-status', 'relationship', 'capital-loss'),\n",
       " ('age', 'workclass', 'marital-status', 'relationship', 'hours-per-week'),\n",
       " ('age', 'workclass', 'marital-status', 'relationship', 'native-country'),\n",
       " ('age', 'workclass', 'marital-status', 'relationship', 'gender-male'),\n",
       " ('age', 'workclass', 'marital-status', 'race', 'gender'),\n",
       " ('age', 'workclass', 'marital-status', 'race', 'capital-gain'),\n",
       " ('age', 'workclass', 'marital-status', 'race', 'capital-loss'),\n",
       " ('age', 'workclass', 'marital-status', 'race', 'hours-per-week'),\n",
       " ('age', 'workclass', 'marital-status', 'race', 'native-country'),\n",
       " ('age', 'workclass', 'marital-status', 'race', 'gender-male'),\n",
       " ('age', 'workclass', 'marital-status', 'gender', 'capital-gain'),\n",
       " ('age', 'workclass', 'marital-status', 'gender', 'capital-loss'),\n",
       " ('age', 'workclass', 'marital-status', 'gender', 'hours-per-week'),\n",
       " ('age', 'workclass', 'marital-status', 'gender', 'native-country'),\n",
       " ('age', 'workclass', 'marital-status', 'gender', 'gender-male'),\n",
       " ('age', 'workclass', 'marital-status', 'capital-gain', 'capital-loss'),\n",
       " ('age', 'workclass', 'marital-status', 'capital-gain', 'hours-per-week'),\n",
       " ('age', 'workclass', 'marital-status', 'capital-gain', 'native-country'),\n",
       " ('age', 'workclass', 'marital-status', 'capital-gain', 'gender-male'),\n",
       " ('age', 'workclass', 'marital-status', 'capital-loss', 'hours-per-week'),\n",
       " ('age', 'workclass', 'marital-status', 'capital-loss', 'native-country'),\n",
       " ('age', 'workclass', 'marital-status', 'capital-loss', 'gender-male'),\n",
       " ('age', 'workclass', 'marital-status', 'hours-per-week', 'native-country'),\n",
       " ('age', 'workclass', 'marital-status', 'hours-per-week', 'gender-male'),\n",
       " ('age', 'workclass', 'marital-status', 'native-country', 'gender-male'),\n",
       " ('age', 'workclass', 'occupation', 'relationship', 'race'),\n",
       " ('age', 'workclass', 'occupation', 'relationship', 'gender'),\n",
       " ('age', 'workclass', 'occupation', 'relationship', 'capital-gain'),\n",
       " ('age', 'workclass', 'occupation', 'relationship', 'capital-loss'),\n",
       " ('age', 'workclass', 'occupation', 'relationship', 'hours-per-week'),\n",
       " ('age', 'workclass', 'occupation', 'relationship', 'native-country'),\n",
       " ('age', 'workclass', 'occupation', 'relationship', 'gender-male'),\n",
       " ('age', 'workclass', 'occupation', 'race', 'gender'),\n",
       " ('age', 'workclass', 'occupation', 'race', 'capital-gain'),\n",
       " ('age', 'workclass', 'occupation', 'race', 'capital-loss'),\n",
       " ('age', 'workclass', 'occupation', 'race', 'hours-per-week'),\n",
       " ('age', 'workclass', 'occupation', 'race', 'native-country'),\n",
       " ('age', 'workclass', 'occupation', 'race', 'gender-male'),\n",
       " ('age', 'workclass', 'occupation', 'gender', 'capital-gain'),\n",
       " ('age', 'workclass', 'occupation', 'gender', 'capital-loss'),\n",
       " ('age', 'workclass', 'occupation', 'gender', 'hours-per-week'),\n",
       " ('age', 'workclass', 'occupation', 'gender', 'native-country'),\n",
       " ('age', 'workclass', 'occupation', 'gender', 'gender-male'),\n",
       " ('age', 'workclass', 'occupation', 'capital-gain', 'capital-loss'),\n",
       " ('age', 'workclass', 'occupation', 'capital-gain', 'hours-per-week'),\n",
       " ('age', 'workclass', 'occupation', 'capital-gain', 'native-country'),\n",
       " ('age', 'workclass', 'occupation', 'capital-gain', 'gender-male'),\n",
       " ('age', 'workclass', 'occupation', 'capital-loss', 'hours-per-week'),\n",
       " ('age', 'workclass', 'occupation', 'capital-loss', 'native-country'),\n",
       " ('age', 'workclass', 'occupation', 'capital-loss', 'gender-male'),\n",
       " ('age', 'workclass', 'occupation', 'hours-per-week', 'native-country'),\n",
       " ('age', 'workclass', 'occupation', 'hours-per-week', 'gender-male'),\n",
       " ('age', 'workclass', 'occupation', 'native-country', 'gender-male'),\n",
       " ('age', 'workclass', 'relationship', 'race', 'gender'),\n",
       " ('age', 'workclass', 'relationship', 'race', 'capital-gain'),\n",
       " ('age', 'workclass', 'relationship', 'race', 'capital-loss'),\n",
       " ('age', 'workclass', 'relationship', 'race', 'hours-per-week'),\n",
       " ('age', 'workclass', 'relationship', 'race', 'native-country'),\n",
       " ('age', 'workclass', 'relationship', 'race', 'gender-male'),\n",
       " ('age', 'workclass', 'relationship', 'gender', 'capital-gain'),\n",
       " ('age', 'workclass', 'relationship', 'gender', 'capital-loss'),\n",
       " ('age', 'workclass', 'relationship', 'gender', 'hours-per-week'),\n",
       " ('age', 'workclass', 'relationship', 'gender', 'native-country'),\n",
       " ('age', 'workclass', 'relationship', 'gender', 'gender-male'),\n",
       " ('age', 'workclass', 'relationship', 'capital-gain', 'capital-loss'),\n",
       " ('age', 'workclass', 'relationship', 'capital-gain', 'hours-per-week'),\n",
       " ('age', 'workclass', 'relationship', 'capital-gain', 'native-country'),\n",
       " ('age', 'workclass', 'relationship', 'capital-gain', 'gender-male'),\n",
       " ('age', 'workclass', 'relationship', 'capital-loss', 'hours-per-week'),\n",
       " ('age', 'workclass', 'relationship', 'capital-loss', 'native-country'),\n",
       " ('age', 'workclass', 'relationship', 'capital-loss', 'gender-male'),\n",
       " ('age', 'workclass', 'relationship', 'hours-per-week', 'native-country'),\n",
       " ('age', 'workclass', 'relationship', 'hours-per-week', 'gender-male'),\n",
       " ('age', 'workclass', 'relationship', 'native-country', 'gender-male'),\n",
       " ('age', 'workclass', 'race', 'gender', 'capital-gain'),\n",
       " ('age', 'workclass', 'race', 'gender', 'capital-loss'),\n",
       " ('age', 'workclass', 'race', 'gender', 'hours-per-week'),\n",
       " ('age', 'workclass', 'race', 'gender', 'native-country'),\n",
       " ('age', 'workclass', 'race', 'gender', 'gender-male'),\n",
       " ('age', 'workclass', 'race', 'capital-gain', 'capital-loss'),\n",
       " ('age', 'workclass', 'race', 'capital-gain', 'hours-per-week'),\n",
       " ('age', 'workclass', 'race', 'capital-gain', 'native-country'),\n",
       " ('age', 'workclass', 'race', 'capital-gain', 'gender-male'),\n",
       " ('age', 'workclass', 'race', 'capital-loss', 'hours-per-week'),\n",
       " ('age', 'workclass', 'race', 'capital-loss', 'native-country'),\n",
       " ('age', 'workclass', 'race', 'capital-loss', 'gender-male'),\n",
       " ('age', 'workclass', 'race', 'hours-per-week', 'native-country'),\n",
       " ('age', 'workclass', 'race', 'hours-per-week', 'gender-male'),\n",
       " ('age', 'workclass', 'race', 'native-country', 'gender-male'),\n",
       " ('age', 'workclass', 'gender', 'capital-gain', 'capital-loss'),\n",
       " ('age', 'workclass', 'gender', 'capital-gain', 'hours-per-week'),\n",
       " ('age', 'workclass', 'gender', 'capital-gain', 'native-country'),\n",
       " ('age', 'workclass', 'gender', 'capital-gain', 'gender-male'),\n",
       " ('age', 'workclass', 'gender', 'capital-loss', 'hours-per-week'),\n",
       " ('age', 'workclass', 'gender', 'capital-loss', 'native-country'),\n",
       " ('age', 'workclass', 'gender', 'capital-loss', 'gender-male'),\n",
       " ('age', 'workclass', 'gender', 'hours-per-week', 'native-country'),\n",
       " ('age', 'workclass', 'gender', 'hours-per-week', 'gender-male'),\n",
       " ('age', 'workclass', 'gender', 'native-country', 'gender-male'),\n",
       " ('age', 'workclass', 'capital-gain', 'capital-loss', 'hours-per-week'),\n",
       " ('age', 'workclass', 'capital-gain', 'capital-loss', 'native-country'),\n",
       " ('age', 'workclass', 'capital-gain', 'capital-loss', 'gender-male'),\n",
       " ('age', 'workclass', 'capital-gain', 'hours-per-week', 'native-country'),\n",
       " ('age', 'workclass', 'capital-gain', 'hours-per-week', 'gender-male'),\n",
       " ('age', 'workclass', 'capital-gain', 'native-country', 'gender-male'),\n",
       " ('age', 'workclass', 'capital-loss', 'hours-per-week', 'native-country'),\n",
       " ('age', 'workclass', 'capital-loss', 'hours-per-week', 'gender-male'),\n",
       " ('age', 'workclass', 'capital-loss', 'native-country', 'gender-male'),\n",
       " ('age', 'workclass', 'hours-per-week', 'native-country', 'gender-male'),\n",
       " ('age', 'fnlwgt', 'education', 'educational-num', 'marital-status'),\n",
       " ('age', 'fnlwgt', 'education', 'educational-num', 'occupation'),\n",
       " ('age', 'fnlwgt', 'education', 'educational-num', 'relationship'),\n",
       " ('age', 'fnlwgt', 'education', 'educational-num', 'race'),\n",
       " ('age', 'fnlwgt', 'education', 'educational-num', 'gender'),\n",
       " ('age', 'fnlwgt', 'education', 'educational-num', 'capital-gain'),\n",
       " ('age', 'fnlwgt', 'education', 'educational-num', 'capital-loss'),\n",
       " ('age', 'fnlwgt', 'education', 'educational-num', 'hours-per-week'),\n",
       " ('age', 'fnlwgt', 'education', 'educational-num', 'native-country'),\n",
       " ('age', 'fnlwgt', 'education', 'educational-num', 'gender-male'),\n",
       " ('age', 'fnlwgt', 'education', 'marital-status', 'occupation'),\n",
       " ('age', 'fnlwgt', 'education', 'marital-status', 'relationship'),\n",
       " ('age', 'fnlwgt', 'education', 'marital-status', 'race'),\n",
       " ('age', 'fnlwgt', 'education', 'marital-status', 'gender'),\n",
       " ('age', 'fnlwgt', 'education', 'marital-status', 'capital-gain'),\n",
       " ('age', 'fnlwgt', 'education', 'marital-status', 'capital-loss'),\n",
       " ('age', 'fnlwgt', 'education', 'marital-status', 'hours-per-week'),\n",
       " ('age', 'fnlwgt', 'education', 'marital-status', 'native-country'),\n",
       " ('age', 'fnlwgt', 'education', 'marital-status', 'gender-male'),\n",
       " ('age', 'fnlwgt', 'education', 'occupation', 'relationship'),\n",
       " ('age', 'fnlwgt', 'education', 'occupation', 'race'),\n",
       " ('age', 'fnlwgt', 'education', 'occupation', 'gender'),\n",
       " ('age', 'fnlwgt', 'education', 'occupation', 'capital-gain'),\n",
       " ('age', 'fnlwgt', 'education', 'occupation', 'capital-loss'),\n",
       " ('age', 'fnlwgt', 'education', 'occupation', 'hours-per-week'),\n",
       " ('age', 'fnlwgt', 'education', 'occupation', 'native-country'),\n",
       " ('age', 'fnlwgt', 'education', 'occupation', 'gender-male'),\n",
       " ('age', 'fnlwgt', 'education', 'relationship', 'race'),\n",
       " ('age', 'fnlwgt', 'education', 'relationship', 'gender'),\n",
       " ('age', 'fnlwgt', 'education', 'relationship', 'capital-gain'),\n",
       " ('age', 'fnlwgt', 'education', 'relationship', 'capital-loss'),\n",
       " ('age', 'fnlwgt', 'education', 'relationship', 'hours-per-week'),\n",
       " ('age', 'fnlwgt', 'education', 'relationship', 'native-country'),\n",
       " ('age', 'fnlwgt', 'education', 'relationship', 'gender-male'),\n",
       " ('age', 'fnlwgt', 'education', 'race', 'gender'),\n",
       " ('age', 'fnlwgt', 'education', 'race', 'capital-gain'),\n",
       " ('age', 'fnlwgt', 'education', 'race', 'capital-loss'),\n",
       " ('age', 'fnlwgt', 'education', 'race', 'hours-per-week'),\n",
       " ('age', 'fnlwgt', 'education', 'race', 'native-country'),\n",
       " ('age', 'fnlwgt', 'education', 'race', 'gender-male'),\n",
       " ('age', 'fnlwgt', 'education', 'gender', 'capital-gain'),\n",
       " ('age', 'fnlwgt', 'education', 'gender', 'capital-loss'),\n",
       " ('age', 'fnlwgt', 'education', 'gender', 'hours-per-week'),\n",
       " ('age', 'fnlwgt', 'education', 'gender', 'native-country'),\n",
       " ('age', 'fnlwgt', 'education', 'gender', 'gender-male'),\n",
       " ('age', 'fnlwgt', 'education', 'capital-gain', 'capital-loss'),\n",
       " ('age', 'fnlwgt', 'education', 'capital-gain', 'hours-per-week'),\n",
       " ('age', 'fnlwgt', 'education', 'capital-gain', 'native-country'),\n",
       " ('age', 'fnlwgt', 'education', 'capital-gain', 'gender-male'),\n",
       " ('age', 'fnlwgt', 'education', 'capital-loss', 'hours-per-week'),\n",
       " ('age', 'fnlwgt', 'education', 'capital-loss', 'native-country'),\n",
       " ('age', 'fnlwgt', 'education', 'capital-loss', 'gender-male'),\n",
       " ('age', 'fnlwgt', 'education', 'hours-per-week', 'native-country'),\n",
       " ('age', 'fnlwgt', 'education', 'hours-per-week', 'gender-male'),\n",
       " ('age', 'fnlwgt', 'education', 'native-country', 'gender-male'),\n",
       " ('age', 'fnlwgt', 'educational-num', 'marital-status', 'occupation'),\n",
       " ('age', 'fnlwgt', 'educational-num', 'marital-status', 'relationship'),\n",
       " ('age', 'fnlwgt', 'educational-num', 'marital-status', 'race'),\n",
       " ('age', 'fnlwgt', 'educational-num', 'marital-status', 'gender'),\n",
       " ('age', 'fnlwgt', 'educational-num', 'marital-status', 'capital-gain'),\n",
       " ('age', 'fnlwgt', 'educational-num', 'marital-status', 'capital-loss'),\n",
       " ('age', 'fnlwgt', 'educational-num', 'marital-status', 'hours-per-week'),\n",
       " ('age', 'fnlwgt', 'educational-num', 'marital-status', 'native-country'),\n",
       " ('age', 'fnlwgt', 'educational-num', 'marital-status', 'gender-male'),\n",
       " ('age', 'fnlwgt', 'educational-num', 'occupation', 'relationship'),\n",
       " ('age', 'fnlwgt', 'educational-num', 'occupation', 'race'),\n",
       " ('age', 'fnlwgt', 'educational-num', 'occupation', 'gender'),\n",
       " ('age', 'fnlwgt', 'educational-num', 'occupation', 'capital-gain'),\n",
       " ('age', 'fnlwgt', 'educational-num', 'occupation', 'capital-loss'),\n",
       " ('age', 'fnlwgt', 'educational-num', 'occupation', 'hours-per-week'),\n",
       " ('age', 'fnlwgt', 'educational-num', 'occupation', 'native-country'),\n",
       " ('age', 'fnlwgt', 'educational-num', 'occupation', 'gender-male'),\n",
       " ('age', 'fnlwgt', 'educational-num', 'relationship', 'race'),\n",
       " ('age', 'fnlwgt', 'educational-num', 'relationship', 'gender'),\n",
       " ('age', 'fnlwgt', 'educational-num', 'relationship', 'capital-gain'),\n",
       " ('age', 'fnlwgt', 'educational-num', 'relationship', 'capital-loss'),\n",
       " ('age', 'fnlwgt', 'educational-num', 'relationship', 'hours-per-week'),\n",
       " ('age', 'fnlwgt', 'educational-num', 'relationship', 'native-country'),\n",
       " ('age', 'fnlwgt', 'educational-num', 'relationship', 'gender-male'),\n",
       " ('age', 'fnlwgt', 'educational-num', 'race', 'gender'),\n",
       " ('age', 'fnlwgt', 'educational-num', 'race', 'capital-gain'),\n",
       " ('age', 'fnlwgt', 'educational-num', 'race', 'capital-loss'),\n",
       " ('age', 'fnlwgt', 'educational-num', 'race', 'hours-per-week'),\n",
       " ('age', 'fnlwgt', 'educational-num', 'race', 'native-country'),\n",
       " ('age', 'fnlwgt', 'educational-num', 'race', 'gender-male'),\n",
       " ('age', 'fnlwgt', 'educational-num', 'gender', 'capital-gain'),\n",
       " ('age', 'fnlwgt', 'educational-num', 'gender', 'capital-loss'),\n",
       " ('age', 'fnlwgt', 'educational-num', 'gender', 'hours-per-week'),\n",
       " ('age', 'fnlwgt', 'educational-num', 'gender', 'native-country'),\n",
       " ('age', 'fnlwgt', 'educational-num', 'gender', 'gender-male'),\n",
       " ('age', 'fnlwgt', 'educational-num', 'capital-gain', 'capital-loss'),\n",
       " ('age', 'fnlwgt', 'educational-num', 'capital-gain', 'hours-per-week'),\n",
       " ('age', 'fnlwgt', 'educational-num', 'capital-gain', 'native-country'),\n",
       " ('age', 'fnlwgt', 'educational-num', 'capital-gain', 'gender-male'),\n",
       " ('age', 'fnlwgt', 'educational-num', 'capital-loss', 'hours-per-week'),\n",
       " ('age', 'fnlwgt', 'educational-num', 'capital-loss', 'native-country'),\n",
       " ('age', 'fnlwgt', 'educational-num', 'capital-loss', 'gender-male'),\n",
       " ('age', 'fnlwgt', 'educational-num', 'hours-per-week', 'native-country'),\n",
       " ('age', 'fnlwgt', 'educational-num', 'hours-per-week', 'gender-male'),\n",
       " ('age', 'fnlwgt', 'educational-num', 'native-country', 'gender-male'),\n",
       " ('age', 'fnlwgt', 'marital-status', 'occupation', 'relationship'),\n",
       " ('age', 'fnlwgt', 'marital-status', 'occupation', 'race'),\n",
       " ('age', 'fnlwgt', 'marital-status', 'occupation', 'gender'),\n",
       " ('age', 'fnlwgt', 'marital-status', 'occupation', 'capital-gain'),\n",
       " ('age', 'fnlwgt', 'marital-status', 'occupation', 'capital-loss'),\n",
       " ('age', 'fnlwgt', 'marital-status', 'occupation', 'hours-per-week'),\n",
       " ('age', 'fnlwgt', 'marital-status', 'occupation', 'native-country'),\n",
       " ('age', 'fnlwgt', 'marital-status', 'occupation', 'gender-male'),\n",
       " ('age', 'fnlwgt', 'marital-status', 'relationship', 'race'),\n",
       " ('age', 'fnlwgt', 'marital-status', 'relationship', 'gender'),\n",
       " ('age', 'fnlwgt', 'marital-status', 'relationship', 'capital-gain'),\n",
       " ('age', 'fnlwgt', 'marital-status', 'relationship', 'capital-loss'),\n",
       " ('age', 'fnlwgt', 'marital-status', 'relationship', 'hours-per-week'),\n",
       " ('age', 'fnlwgt', 'marital-status', 'relationship', 'native-country'),\n",
       " ('age', 'fnlwgt', 'marital-status', 'relationship', 'gender-male'),\n",
       " ('age', 'fnlwgt', 'marital-status', 'race', 'gender'),\n",
       " ('age', 'fnlwgt', 'marital-status', 'race', 'capital-gain'),\n",
       " ('age', 'fnlwgt', 'marital-status', 'race', 'capital-loss'),\n",
       " ('age', 'fnlwgt', 'marital-status', 'race', 'hours-per-week'),\n",
       " ('age', 'fnlwgt', 'marital-status', 'race', 'native-country'),\n",
       " ('age', 'fnlwgt', 'marital-status', 'race', 'gender-male'),\n",
       " ('age', 'fnlwgt', 'marital-status', 'gender', 'capital-gain'),\n",
       " ('age', 'fnlwgt', 'marital-status', 'gender', 'capital-loss'),\n",
       " ('age', 'fnlwgt', 'marital-status', 'gender', 'hours-per-week'),\n",
       " ('age', 'fnlwgt', 'marital-status', 'gender', 'native-country'),\n",
       " ('age', 'fnlwgt', 'marital-status', 'gender', 'gender-male'),\n",
       " ('age', 'fnlwgt', 'marital-status', 'capital-gain', 'capital-loss'),\n",
       " ('age', 'fnlwgt', 'marital-status', 'capital-gain', 'hours-per-week'),\n",
       " ('age', 'fnlwgt', 'marital-status', 'capital-gain', 'native-country'),\n",
       " ('age', 'fnlwgt', 'marital-status', 'capital-gain', 'gender-male'),\n",
       " ('age', 'fnlwgt', 'marital-status', 'capital-loss', 'hours-per-week'),\n",
       " ('age', 'fnlwgt', 'marital-status', 'capital-loss', 'native-country'),\n",
       " ('age', 'fnlwgt', 'marital-status', 'capital-loss', 'gender-male'),\n",
       " ('age', 'fnlwgt', 'marital-status', 'hours-per-week', 'native-country'),\n",
       " ('age', 'fnlwgt', 'marital-status', 'hours-per-week', 'gender-male'),\n",
       " ('age', 'fnlwgt', 'marital-status', 'native-country', 'gender-male'),\n",
       " ('age', 'fnlwgt', 'occupation', 'relationship', 'race'),\n",
       " ('age', 'fnlwgt', 'occupation', 'relationship', 'gender'),\n",
       " ('age', 'fnlwgt', 'occupation', 'relationship', 'capital-gain'),\n",
       " ('age', 'fnlwgt', 'occupation', 'relationship', 'capital-loss'),\n",
       " ('age', 'fnlwgt', 'occupation', 'relationship', 'hours-per-week'),\n",
       " ('age', 'fnlwgt', 'occupation', 'relationship', 'native-country'),\n",
       " ('age', 'fnlwgt', 'occupation', 'relationship', 'gender-male'),\n",
       " ('age', 'fnlwgt', 'occupation', 'race', 'gender'),\n",
       " ('age', 'fnlwgt', 'occupation', 'race', 'capital-gain'),\n",
       " ('age', 'fnlwgt', 'occupation', 'race', 'capital-loss'),\n",
       " ('age', 'fnlwgt', 'occupation', 'race', 'hours-per-week'),\n",
       " ('age', 'fnlwgt', 'occupation', 'race', 'native-country'),\n",
       " ('age', 'fnlwgt', 'occupation', 'race', 'gender-male'),\n",
       " ('age', 'fnlwgt', 'occupation', 'gender', 'capital-gain'),\n",
       " ('age', 'fnlwgt', 'occupation', 'gender', 'capital-loss'),\n",
       " ('age', 'fnlwgt', 'occupation', 'gender', 'hours-per-week'),\n",
       " ('age', 'fnlwgt', 'occupation', 'gender', 'native-country'),\n",
       " ('age', 'fnlwgt', 'occupation', 'gender', 'gender-male'),\n",
       " ('age', 'fnlwgt', 'occupation', 'capital-gain', 'capital-loss'),\n",
       " ('age', 'fnlwgt', 'occupation', 'capital-gain', 'hours-per-week'),\n",
       " ('age', 'fnlwgt', 'occupation', 'capital-gain', 'native-country'),\n",
       " ('age', 'fnlwgt', 'occupation', 'capital-gain', 'gender-male'),\n",
       " ('age', 'fnlwgt', 'occupation', 'capital-loss', 'hours-per-week'),\n",
       " ('age', 'fnlwgt', 'occupation', 'capital-loss', 'native-country'),\n",
       " ('age', 'fnlwgt', 'occupation', 'capital-loss', 'gender-male'),\n",
       " ('age', 'fnlwgt', 'occupation', 'hours-per-week', 'native-country'),\n",
       " ('age', 'fnlwgt', 'occupation', 'hours-per-week', 'gender-male'),\n",
       " ('age', 'fnlwgt', 'occupation', 'native-country', 'gender-male'),\n",
       " ('age', 'fnlwgt', 'relationship', 'race', 'gender'),\n",
       " ('age', 'fnlwgt', 'relationship', 'race', 'capital-gain'),\n",
       " ('age', 'fnlwgt', 'relationship', 'race', 'capital-loss'),\n",
       " ('age', 'fnlwgt', 'relationship', 'race', 'hours-per-week'),\n",
       " ('age', 'fnlwgt', 'relationship', 'race', 'native-country'),\n",
       " ('age', 'fnlwgt', 'relationship', 'race', 'gender-male'),\n",
       " ('age', 'fnlwgt', 'relationship', 'gender', 'capital-gain'),\n",
       " ('age', 'fnlwgt', 'relationship', 'gender', 'capital-loss'),\n",
       " ('age', 'fnlwgt', 'relationship', 'gender', 'hours-per-week'),\n",
       " ('age', 'fnlwgt', 'relationship', 'gender', 'native-country'),\n",
       " ('age', 'fnlwgt', 'relationship', 'gender', 'gender-male'),\n",
       " ('age', 'fnlwgt', 'relationship', 'capital-gain', 'capital-loss'),\n",
       " ('age', 'fnlwgt', 'relationship', 'capital-gain', 'hours-per-week'),\n",
       " ('age', 'fnlwgt', 'relationship', 'capital-gain', 'native-country'),\n",
       " ('age', 'fnlwgt', 'relationship', 'capital-gain', 'gender-male'),\n",
       " ('age', 'fnlwgt', 'relationship', 'capital-loss', 'hours-per-week'),\n",
       " ('age', 'fnlwgt', 'relationship', 'capital-loss', 'native-country'),\n",
       " ('age', 'fnlwgt', 'relationship', 'capital-loss', 'gender-male'),\n",
       " ('age', 'fnlwgt', 'relationship', 'hours-per-week', 'native-country'),\n",
       " ('age', 'fnlwgt', 'relationship', 'hours-per-week', 'gender-male'),\n",
       " ('age', 'fnlwgt', 'relationship', 'native-country', 'gender-male'),\n",
       " ('age', 'fnlwgt', 'race', 'gender', 'capital-gain'),\n",
       " ('age', 'fnlwgt', 'race', 'gender', 'capital-loss'),\n",
       " ('age', 'fnlwgt', 'race', 'gender', 'hours-per-week'),\n",
       " ('age', 'fnlwgt', 'race', 'gender', 'native-country'),\n",
       " ('age', 'fnlwgt', 'race', 'gender', 'gender-male'),\n",
       " ('age', 'fnlwgt', 'race', 'capital-gain', 'capital-loss'),\n",
       " ('age', 'fnlwgt', 'race', 'capital-gain', 'hours-per-week'),\n",
       " ('age', 'fnlwgt', 'race', 'capital-gain', 'native-country'),\n",
       " ('age', 'fnlwgt', 'race', 'capital-gain', 'gender-male'),\n",
       " ('age', 'fnlwgt', 'race', 'capital-loss', 'hours-per-week'),\n",
       " ('age', 'fnlwgt', 'race', 'capital-loss', 'native-country'),\n",
       " ('age', 'fnlwgt', 'race', 'capital-loss', 'gender-male'),\n",
       " ('age', 'fnlwgt', 'race', 'hours-per-week', 'native-country'),\n",
       " ('age', 'fnlwgt', 'race', 'hours-per-week', 'gender-male'),\n",
       " ('age', 'fnlwgt', 'race', 'native-country', 'gender-male'),\n",
       " ('age', 'fnlwgt', 'gender', 'capital-gain', 'capital-loss'),\n",
       " ('age', 'fnlwgt', 'gender', 'capital-gain', 'hours-per-week'),\n",
       " ('age', 'fnlwgt', 'gender', 'capital-gain', 'native-country'),\n",
       " ('age', 'fnlwgt', 'gender', 'capital-gain', 'gender-male'),\n",
       " ('age', 'fnlwgt', 'gender', 'capital-loss', 'hours-per-week'),\n",
       " ('age', 'fnlwgt', 'gender', 'capital-loss', 'native-country'),\n",
       " ('age', 'fnlwgt', 'gender', 'capital-loss', 'gender-male'),\n",
       " ('age', 'fnlwgt', 'gender', 'hours-per-week', 'native-country'),\n",
       " ('age', 'fnlwgt', 'gender', 'hours-per-week', 'gender-male'),\n",
       " ('age', 'fnlwgt', 'gender', 'native-country', 'gender-male'),\n",
       " ('age', 'fnlwgt', 'capital-gain', 'capital-loss', 'hours-per-week'),\n",
       " ('age', 'fnlwgt', 'capital-gain', 'capital-loss', 'native-country'),\n",
       " ('age', 'fnlwgt', 'capital-gain', 'capital-loss', 'gender-male'),\n",
       " ('age', 'fnlwgt', 'capital-gain', 'hours-per-week', 'native-country'),\n",
       " ('age', 'fnlwgt', 'capital-gain', 'hours-per-week', 'gender-male'),\n",
       " ('age', 'fnlwgt', 'capital-gain', 'native-country', 'gender-male'),\n",
       " ('age', 'fnlwgt', 'capital-loss', 'hours-per-week', 'native-country'),\n",
       " ('age', 'fnlwgt', 'capital-loss', 'hours-per-week', 'gender-male'),\n",
       " ('age', 'fnlwgt', 'capital-loss', 'native-country', 'gender-male'),\n",
       " ('age', 'fnlwgt', 'hours-per-week', 'native-country', 'gender-male'),\n",
       " ('age', 'education', 'educational-num', 'marital-status', 'occupation'),\n",
       " ('age', 'education', 'educational-num', 'marital-status', 'relationship'),\n",
       " ('age', 'education', 'educational-num', 'marital-status', 'race'),\n",
       " ('age', 'education', 'educational-num', 'marital-status', 'gender'),\n",
       " ('age', 'education', 'educational-num', 'marital-status', 'capital-gain'),\n",
       " ('age', 'education', 'educational-num', 'marital-status', 'capital-loss'),\n",
       " ('age', 'education', 'educational-num', 'marital-status', 'hours-per-week'),\n",
       " ('age', 'education', 'educational-num', 'marital-status', 'native-country'),\n",
       " ('age', 'education', 'educational-num', 'marital-status', 'gender-male'),\n",
       " ('age', 'education', 'educational-num', 'occupation', 'relationship'),\n",
       " ('age', 'education', 'educational-num', 'occupation', 'race'),\n",
       " ('age', 'education', 'educational-num', 'occupation', 'gender'),\n",
       " ('age', 'education', 'educational-num', 'occupation', 'capital-gain'),\n",
       " ('age', 'education', 'educational-num', 'occupation', 'capital-loss'),\n",
       " ('age', 'education', 'educational-num', 'occupation', 'hours-per-week'),\n",
       " ('age', 'education', 'educational-num', 'occupation', 'native-country'),\n",
       " ('age', 'education', 'educational-num', 'occupation', 'gender-male'),\n",
       " ('age', 'education', 'educational-num', 'relationship', 'race'),\n",
       " ('age', 'education', 'educational-num', 'relationship', 'gender'),\n",
       " ('age', 'education', 'educational-num', 'relationship', 'capital-gain'),\n",
       " ('age', 'education', 'educational-num', 'relationship', 'capital-loss'),\n",
       " ('age', 'education', 'educational-num', 'relationship', 'hours-per-week'),\n",
       " ('age', 'education', 'educational-num', 'relationship', 'native-country'),\n",
       " ('age', 'education', 'educational-num', 'relationship', 'gender-male'),\n",
       " ('age', 'education', 'educational-num', 'race', 'gender'),\n",
       " ('age', 'education', 'educational-num', 'race', 'capital-gain'),\n",
       " ('age', 'education', 'educational-num', 'race', 'capital-loss'),\n",
       " ('age', 'education', 'educational-num', 'race', 'hours-per-week'),\n",
       " ('age', 'education', 'educational-num', 'race', 'native-country'),\n",
       " ('age', 'education', 'educational-num', 'race', 'gender-male'),\n",
       " ('age', 'education', 'educational-num', 'gender', 'capital-gain'),\n",
       " ('age', 'education', 'educational-num', 'gender', 'capital-loss'),\n",
       " ('age', 'education', 'educational-num', 'gender', 'hours-per-week'),\n",
       " ('age', 'education', 'educational-num', 'gender', 'native-country'),\n",
       " ('age', 'education', 'educational-num', 'gender', 'gender-male'),\n",
       " ('age', 'education', 'educational-num', 'capital-gain', 'capital-loss'),\n",
       " ('age', 'education', 'educational-num', 'capital-gain', 'hours-per-week'),\n",
       " ('age', 'education', 'educational-num', 'capital-gain', 'native-country'),\n",
       " ('age', 'education', 'educational-num', 'capital-gain', 'gender-male'),\n",
       " ('age', 'education', 'educational-num', 'capital-loss', 'hours-per-week'),\n",
       " ('age', 'education', 'educational-num', 'capital-loss', 'native-country'),\n",
       " ('age', 'education', 'educational-num', 'capital-loss', 'gender-male'),\n",
       " ('age', 'education', 'educational-num', 'hours-per-week', 'native-country'),\n",
       " ('age', 'education', 'educational-num', 'hours-per-week', 'gender-male'),\n",
       " ('age', 'education', 'educational-num', 'native-country', 'gender-male'),\n",
       " ('age', 'education', 'marital-status', 'occupation', 'relationship'),\n",
       " ('age', 'education', 'marital-status', 'occupation', 'race'),\n",
       " ('age', 'education', 'marital-status', 'occupation', 'gender'),\n",
       " ('age', 'education', 'marital-status', 'occupation', 'capital-gain'),\n",
       " ('age', 'education', 'marital-status', 'occupation', 'capital-loss'),\n",
       " ('age', 'education', 'marital-status', 'occupation', 'hours-per-week'),\n",
       " ('age', 'education', 'marital-status', 'occupation', 'native-country'),\n",
       " ('age', 'education', 'marital-status', 'occupation', 'gender-male'),\n",
       " ('age', 'education', 'marital-status', 'relationship', 'race'),\n",
       " ('age', 'education', 'marital-status', 'relationship', 'gender'),\n",
       " ('age', 'education', 'marital-status', 'relationship', 'capital-gain'),\n",
       " ('age', 'education', 'marital-status', 'relationship', 'capital-loss'),\n",
       " ('age', 'education', 'marital-status', 'relationship', 'hours-per-week'),\n",
       " ('age', 'education', 'marital-status', 'relationship', 'native-country'),\n",
       " ('age', 'education', 'marital-status', 'relationship', 'gender-male'),\n",
       " ('age', 'education', 'marital-status', 'race', 'gender'),\n",
       " ('age', 'education', 'marital-status', 'race', 'capital-gain'),\n",
       " ('age', 'education', 'marital-status', 'race', 'capital-loss'),\n",
       " ('age', 'education', 'marital-status', 'race', 'hours-per-week'),\n",
       " ('age', 'education', 'marital-status', 'race', 'native-country'),\n",
       " ('age', 'education', 'marital-status', 'race', 'gender-male'),\n",
       " ('age', 'education', 'marital-status', 'gender', 'capital-gain'),\n",
       " ('age', 'education', 'marital-status', 'gender', 'capital-loss'),\n",
       " ('age', 'education', 'marital-status', 'gender', 'hours-per-week'),\n",
       " ('age', 'education', 'marital-status', 'gender', 'native-country'),\n",
       " ('age', 'education', 'marital-status', 'gender', 'gender-male'),\n",
       " ('age', 'education', 'marital-status', 'capital-gain', 'capital-loss'),\n",
       " ('age', 'education', 'marital-status', 'capital-gain', 'hours-per-week'),\n",
       " ('age', 'education', 'marital-status', 'capital-gain', 'native-country'),\n",
       " ('age', 'education', 'marital-status', 'capital-gain', 'gender-male'),\n",
       " ('age', 'education', 'marital-status', 'capital-loss', 'hours-per-week'),\n",
       " ('age', 'education', 'marital-status', 'capital-loss', 'native-country'),\n",
       " ('age', 'education', 'marital-status', 'capital-loss', 'gender-male'),\n",
       " ('age', 'education', 'marital-status', 'hours-per-week', 'native-country'),\n",
       " ('age', 'education', 'marital-status', 'hours-per-week', 'gender-male'),\n",
       " ('age', 'education', 'marital-status', 'native-country', 'gender-male'),\n",
       " ('age', 'education', 'occupation', 'relationship', 'race'),\n",
       " ('age', 'education', 'occupation', 'relationship', 'gender'),\n",
       " ('age', 'education', 'occupation', 'relationship', 'capital-gain'),\n",
       " ('age', 'education', 'occupation', 'relationship', 'capital-loss'),\n",
       " ('age', 'education', 'occupation', 'relationship', 'hours-per-week'),\n",
       " ('age', 'education', 'occupation', 'relationship', 'native-country'),\n",
       " ('age', 'education', 'occupation', 'relationship', 'gender-male'),\n",
       " ('age', 'education', 'occupation', 'race', 'gender'),\n",
       " ('age', 'education', 'occupation', 'race', 'capital-gain'),\n",
       " ('age', 'education', 'occupation', 'race', 'capital-loss'),\n",
       " ('age', 'education', 'occupation', 'race', 'hours-per-week'),\n",
       " ('age', 'education', 'occupation', 'race', 'native-country'),\n",
       " ('age', 'education', 'occupation', 'race', 'gender-male'),\n",
       " ('age', 'education', 'occupation', 'gender', 'capital-gain'),\n",
       " ('age', 'education', 'occupation', 'gender', 'capital-loss'),\n",
       " ('age', 'education', 'occupation', 'gender', 'hours-per-week'),\n",
       " ('age', 'education', 'occupation', 'gender', 'native-country'),\n",
       " ('age', 'education', 'occupation', 'gender', 'gender-male'),\n",
       " ('age', 'education', 'occupation', 'capital-gain', 'capital-loss'),\n",
       " ('age', 'education', 'occupation', 'capital-gain', 'hours-per-week'),\n",
       " ('age', 'education', 'occupation', 'capital-gain', 'native-country'),\n",
       " ('age', 'education', 'occupation', 'capital-gain', 'gender-male'),\n",
       " ('age', 'education', 'occupation', 'capital-loss', 'hours-per-week'),\n",
       " ('age', 'education', 'occupation', 'capital-loss', 'native-country'),\n",
       " ('age', 'education', 'occupation', 'capital-loss', 'gender-male'),\n",
       " ('age', 'education', 'occupation', 'hours-per-week', 'native-country'),\n",
       " ('age', 'education', 'occupation', 'hours-per-week', 'gender-male'),\n",
       " ('age', 'education', 'occupation', 'native-country', 'gender-male'),\n",
       " ('age', 'education', 'relationship', 'race', 'gender'),\n",
       " ('age', 'education', 'relationship', 'race', 'capital-gain'),\n",
       " ('age', 'education', 'relationship', 'race', 'capital-loss'),\n",
       " ('age', 'education', 'relationship', 'race', 'hours-per-week'),\n",
       " ('age', 'education', 'relationship', 'race', 'native-country'),\n",
       " ('age', 'education', 'relationship', 'race', 'gender-male'),\n",
       " ('age', 'education', 'relationship', 'gender', 'capital-gain'),\n",
       " ('age', 'education', 'relationship', 'gender', 'capital-loss'),\n",
       " ('age', 'education', 'relationship', 'gender', 'hours-per-week'),\n",
       " ('age', 'education', 'relationship', 'gender', 'native-country'),\n",
       " ('age', 'education', 'relationship', 'gender', 'gender-male'),\n",
       " ('age', 'education', 'relationship', 'capital-gain', 'capital-loss'),\n",
       " ('age', 'education', 'relationship', 'capital-gain', 'hours-per-week'),\n",
       " ('age', 'education', 'relationship', 'capital-gain', 'native-country'),\n",
       " ('age', 'education', 'relationship', 'capital-gain', 'gender-male'),\n",
       " ('age', 'education', 'relationship', 'capital-loss', 'hours-per-week'),\n",
       " ('age', 'education', 'relationship', 'capital-loss', 'native-country'),\n",
       " ('age', 'education', 'relationship', 'capital-loss', 'gender-male'),\n",
       " ('age', 'education', 'relationship', 'hours-per-week', 'native-country'),\n",
       " ('age', 'education', 'relationship', 'hours-per-week', 'gender-male'),\n",
       " ('age', 'education', 'relationship', 'native-country', 'gender-male'),\n",
       " ('age', 'education', 'race', 'gender', 'capital-gain'),\n",
       " ('age', 'education', 'race', 'gender', 'capital-loss'),\n",
       " ('age', 'education', 'race', 'gender', 'hours-per-week'),\n",
       " ('age', 'education', 'race', 'gender', 'native-country'),\n",
       " ('age', 'education', 'race', 'gender', 'gender-male'),\n",
       " ('age', 'education', 'race', 'capital-gain', 'capital-loss'),\n",
       " ('age', 'education', 'race', 'capital-gain', 'hours-per-week'),\n",
       " ('age', 'education', 'race', 'capital-gain', 'native-country'),\n",
       " ('age', 'education', 'race', 'capital-gain', 'gender-male'),\n",
       " ('age', 'education', 'race', 'capital-loss', 'hours-per-week'),\n",
       " ('age', 'education', 'race', 'capital-loss', 'native-country'),\n",
       " ('age', 'education', 'race', 'capital-loss', 'gender-male'),\n",
       " ('age', 'education', 'race', 'hours-per-week', 'native-country'),\n",
       " ('age', 'education', 'race', 'hours-per-week', 'gender-male'),\n",
       " ('age', 'education', 'race', 'native-country', 'gender-male'),\n",
       " ('age', 'education', 'gender', 'capital-gain', 'capital-loss'),\n",
       " ('age', 'education', 'gender', 'capital-gain', 'hours-per-week'),\n",
       " ('age', 'education', 'gender', 'capital-gain', 'native-country'),\n",
       " ('age', 'education', 'gender', 'capital-gain', 'gender-male'),\n",
       " ('age', 'education', 'gender', 'capital-loss', 'hours-per-week'),\n",
       " ('age', 'education', 'gender', 'capital-loss', 'native-country'),\n",
       " ('age', 'education', 'gender', 'capital-loss', 'gender-male'),\n",
       " ('age', 'education', 'gender', 'hours-per-week', 'native-country'),\n",
       " ('age', 'education', 'gender', 'hours-per-week', 'gender-male'),\n",
       " ('age', 'education', 'gender', 'native-country', 'gender-male'),\n",
       " ('age', 'education', 'capital-gain', 'capital-loss', 'hours-per-week'),\n",
       " ('age', 'education', 'capital-gain', 'capital-loss', 'native-country'),\n",
       " ('age', 'education', 'capital-gain', 'capital-loss', 'gender-male'),\n",
       " ('age', 'education', 'capital-gain', 'hours-per-week', 'native-country'),\n",
       " ('age', 'education', 'capital-gain', 'hours-per-week', 'gender-male'),\n",
       " ('age', 'education', 'capital-gain', 'native-country', 'gender-male'),\n",
       " ('age', 'education', 'capital-loss', 'hours-per-week', 'native-country'),\n",
       " ('age', 'education', 'capital-loss', 'hours-per-week', 'gender-male'),\n",
       " ('age', 'education', 'capital-loss', 'native-country', 'gender-male'),\n",
       " ('age', 'education', 'hours-per-week', 'native-country', 'gender-male'),\n",
       " ('age', 'educational-num', 'marital-status', 'occupation', 'relationship'),\n",
       " ('age', 'educational-num', 'marital-status', 'occupation', 'race'),\n",
       " ('age', 'educational-num', 'marital-status', 'occupation', 'gender'),\n",
       " ('age', 'educational-num', 'marital-status', 'occupation', 'capital-gain'),\n",
       " ('age', 'educational-num', 'marital-status', 'occupation', 'capital-loss'),\n",
       " ('age', 'educational-num', 'marital-status', 'occupation', 'hours-per-week'),\n",
       " ('age', 'educational-num', 'marital-status', 'occupation', 'native-country'),\n",
       " ('age', 'educational-num', 'marital-status', 'occupation', 'gender-male'),\n",
       " ('age', 'educational-num', 'marital-status', 'relationship', 'race'),\n",
       " ('age', 'educational-num', 'marital-status', 'relationship', 'gender'),\n",
       " ('age', 'educational-num', 'marital-status', 'relationship', 'capital-gain'),\n",
       " ('age', 'educational-num', 'marital-status', 'relationship', 'capital-loss'),\n",
       " ('age',\n",
       "  'educational-num',\n",
       "  'marital-status',\n",
       "  'relationship',\n",
       "  'hours-per-week'),\n",
       " ('age',\n",
       "  'educational-num',\n",
       "  'marital-status',\n",
       "  'relationship',\n",
       "  'native-country'),\n",
       " ('age', 'educational-num', 'marital-status', 'relationship', 'gender-male'),\n",
       " ('age', 'educational-num', 'marital-status', 'race', 'gender'),\n",
       " ('age', 'educational-num', 'marital-status', 'race', 'capital-gain'),\n",
       " ('age', 'educational-num', 'marital-status', 'race', 'capital-loss'),\n",
       " ('age', 'educational-num', 'marital-status', 'race', 'hours-per-week'),\n",
       " ('age', 'educational-num', 'marital-status', 'race', 'native-country'),\n",
       " ('age', 'educational-num', 'marital-status', 'race', 'gender-male'),\n",
       " ('age', 'educational-num', 'marital-status', 'gender', 'capital-gain'),\n",
       " ('age', 'educational-num', 'marital-status', 'gender', 'capital-loss'),\n",
       " ('age', 'educational-num', 'marital-status', 'gender', 'hours-per-week'),\n",
       " ('age', 'educational-num', 'marital-status', 'gender', 'native-country'),\n",
       " ('age', 'educational-num', 'marital-status', 'gender', 'gender-male'),\n",
       " ('age', 'educational-num', 'marital-status', 'capital-gain', 'capital-loss'),\n",
       " ('age',\n",
       "  'educational-num',\n",
       "  'marital-status',\n",
       "  'capital-gain',\n",
       "  'hours-per-week'),\n",
       " ('age',\n",
       "  'educational-num',\n",
       "  'marital-status',\n",
       "  'capital-gain',\n",
       "  'native-country'),\n",
       " ('age', 'educational-num', 'marital-status', 'capital-gain', 'gender-male'),\n",
       " ('age',\n",
       "  'educational-num',\n",
       "  'marital-status',\n",
       "  'capital-loss',\n",
       "  'hours-per-week'),\n",
       " ('age',\n",
       "  'educational-num',\n",
       "  'marital-status',\n",
       "  'capital-loss',\n",
       "  'native-country'),\n",
       " ('age', 'educational-num', 'marital-status', 'capital-loss', 'gender-male'),\n",
       " ('age',\n",
       "  'educational-num',\n",
       "  'marital-status',\n",
       "  'hours-per-week',\n",
       "  'native-country'),\n",
       " ('age', 'educational-num', 'marital-status', 'hours-per-week', 'gender-male'),\n",
       " ('age', 'educational-num', 'marital-status', 'native-country', 'gender-male'),\n",
       " ('age', 'educational-num', 'occupation', 'relationship', 'race'),\n",
       " ('age', 'educational-num', 'occupation', 'relationship', 'gender'),\n",
       " ('age', 'educational-num', 'occupation', 'relationship', 'capital-gain'),\n",
       " ('age', 'educational-num', 'occupation', 'relationship', 'capital-loss'),\n",
       " ('age', 'educational-num', 'occupation', 'relationship', 'hours-per-week'),\n",
       " ('age', 'educational-num', 'occupation', 'relationship', 'native-country'),\n",
       " ('age', 'educational-num', 'occupation', 'relationship', 'gender-male'),\n",
       " ('age', 'educational-num', 'occupation', 'race', 'gender'),\n",
       " ('age', 'educational-num', 'occupation', 'race', 'capital-gain'),\n",
       " ('age', 'educational-num', 'occupation', 'race', 'capital-loss'),\n",
       " ('age', 'educational-num', 'occupation', 'race', 'hours-per-week'),\n",
       " ('age', 'educational-num', 'occupation', 'race', 'native-country'),\n",
       " ('age', 'educational-num', 'occupation', 'race', 'gender-male'),\n",
       " ('age', 'educational-num', 'occupation', 'gender', 'capital-gain'),\n",
       " ('age', 'educational-num', 'occupation', 'gender', 'capital-loss'),\n",
       " ('age', 'educational-num', 'occupation', 'gender', 'hours-per-week'),\n",
       " ('age', 'educational-num', 'occupation', 'gender', 'native-country'),\n",
       " ('age', 'educational-num', 'occupation', 'gender', 'gender-male'),\n",
       " ('age', 'educational-num', 'occupation', 'capital-gain', 'capital-loss'),\n",
       " ('age', 'educational-num', 'occupation', 'capital-gain', 'hours-per-week'),\n",
       " ('age', 'educational-num', 'occupation', 'capital-gain', 'native-country'),\n",
       " ('age', 'educational-num', 'occupation', 'capital-gain', 'gender-male'),\n",
       " ('age', 'educational-num', 'occupation', 'capital-loss', 'hours-per-week'),\n",
       " ('age', 'educational-num', 'occupation', 'capital-loss', 'native-country'),\n",
       " ('age', 'educational-num', 'occupation', 'capital-loss', 'gender-male'),\n",
       " ('age', 'educational-num', 'occupation', 'hours-per-week', 'native-country'),\n",
       " ('age', 'educational-num', 'occupation', 'hours-per-week', 'gender-male'),\n",
       " ('age', 'educational-num', 'occupation', 'native-country', 'gender-male'),\n",
       " ('age', 'educational-num', 'relationship', 'race', 'gender'),\n",
       " ('age', 'educational-num', 'relationship', 'race', 'capital-gain'),\n",
       " ('age', 'educational-num', 'relationship', 'race', 'capital-loss'),\n",
       " ('age', 'educational-num', 'relationship', 'race', 'hours-per-week'),\n",
       " ('age', 'educational-num', 'relationship', 'race', 'native-country'),\n",
       " ('age', 'educational-num', 'relationship', 'race', 'gender-male'),\n",
       " ('age', 'educational-num', 'relationship', 'gender', 'capital-gain'),\n",
       " ('age', 'educational-num', 'relationship', 'gender', 'capital-loss'),\n",
       " ('age', 'educational-num', 'relationship', 'gender', 'hours-per-week'),\n",
       " ('age', 'educational-num', 'relationship', 'gender', 'native-country'),\n",
       " ('age', 'educational-num', 'relationship', 'gender', 'gender-male'),\n",
       " ('age', 'educational-num', 'relationship', 'capital-gain', 'capital-loss'),\n",
       " ('age', 'educational-num', 'relationship', 'capital-gain', 'hours-per-week'),\n",
       " ('age', 'educational-num', 'relationship', 'capital-gain', 'native-country'),\n",
       " ('age', 'educational-num', 'relationship', 'capital-gain', 'gender-male'),\n",
       " ('age', 'educational-num', 'relationship', 'capital-loss', 'hours-per-week'),\n",
       " ('age', 'educational-num', 'relationship', 'capital-loss', 'native-country'),\n",
       " ('age', 'educational-num', 'relationship', 'capital-loss', 'gender-male'),\n",
       " ('age',\n",
       "  'educational-num',\n",
       "  'relationship',\n",
       "  'hours-per-week',\n",
       "  'native-country'),\n",
       " ('age', 'educational-num', 'relationship', 'hours-per-week', 'gender-male'),\n",
       " ('age', 'educational-num', 'relationship', 'native-country', 'gender-male'),\n",
       " ('age', 'educational-num', 'race', 'gender', 'capital-gain'),\n",
       " ('age', 'educational-num', 'race', 'gender', 'capital-loss'),\n",
       " ('age', 'educational-num', 'race', 'gender', 'hours-per-week'),\n",
       " ('age', 'educational-num', 'race', 'gender', 'native-country'),\n",
       " ('age', 'educational-num', 'race', 'gender', 'gender-male'),\n",
       " ('age', 'educational-num', 'race', 'capital-gain', 'capital-loss'),\n",
       " ('age', 'educational-num', 'race', 'capital-gain', 'hours-per-week'),\n",
       " ('age', 'educational-num', 'race', 'capital-gain', 'native-country'),\n",
       " ('age', 'educational-num', 'race', 'capital-gain', 'gender-male'),\n",
       " ('age', 'educational-num', 'race', 'capital-loss', 'hours-per-week'),\n",
       " ('age', 'educational-num', 'race', 'capital-loss', 'native-country'),\n",
       " ('age', 'educational-num', 'race', 'capital-loss', 'gender-male'),\n",
       " ('age', 'educational-num', 'race', 'hours-per-week', 'native-country'),\n",
       " ('age', 'educational-num', 'race', 'hours-per-week', 'gender-male'),\n",
       " ('age', 'educational-num', 'race', 'native-country', 'gender-male'),\n",
       " ('age', 'educational-num', 'gender', 'capital-gain', 'capital-loss'),\n",
       " ('age', 'educational-num', 'gender', 'capital-gain', 'hours-per-week'),\n",
       " ('age', 'educational-num', 'gender', 'capital-gain', 'native-country'),\n",
       " ('age', 'educational-num', 'gender', 'capital-gain', 'gender-male'),\n",
       " ('age', 'educational-num', 'gender', 'capital-loss', 'hours-per-week'),\n",
       " ('age', 'educational-num', 'gender', 'capital-loss', 'native-country'),\n",
       " ('age', 'educational-num', 'gender', 'capital-loss', 'gender-male'),\n",
       " ('age', 'educational-num', 'gender', 'hours-per-week', 'native-country'),\n",
       " ('age', 'educational-num', 'gender', 'hours-per-week', 'gender-male'),\n",
       " ('age', 'educational-num', 'gender', 'native-country', 'gender-male'),\n",
       " ('age', 'educational-num', 'capital-gain', 'capital-loss', 'hours-per-week'),\n",
       " ('age', 'educational-num', 'capital-gain', 'capital-loss', 'native-country'),\n",
       " ('age', 'educational-num', 'capital-gain', 'capital-loss', 'gender-male'),\n",
       " ('age',\n",
       "  'educational-num',\n",
       "  'capital-gain',\n",
       "  'hours-per-week',\n",
       "  'native-country'),\n",
       " ('age', 'educational-num', 'capital-gain', 'hours-per-week', 'gender-male'),\n",
       " ('age', 'educational-num', 'capital-gain', 'native-country', 'gender-male'),\n",
       " ('age',\n",
       "  'educational-num',\n",
       "  'capital-loss',\n",
       "  'hours-per-week',\n",
       "  'native-country'),\n",
       " ('age', 'educational-num', 'capital-loss', 'hours-per-week', 'gender-male'),\n",
       " ('age', 'educational-num', 'capital-loss', 'native-country', 'gender-male'),\n",
       " ('age', 'educational-num', 'hours-per-week', 'native-country', 'gender-male'),\n",
       " ('age', 'marital-status', 'occupation', 'relationship', 'race'),\n",
       " ('age', 'marital-status', 'occupation', 'relationship', 'gender'),\n",
       " ('age', 'marital-status', 'occupation', 'relationship', 'capital-gain'),\n",
       " ('age', 'marital-status', 'occupation', 'relationship', 'capital-loss'),\n",
       " ('age', 'marital-status', 'occupation', 'relationship', 'hours-per-week'),\n",
       " ('age', 'marital-status', 'occupation', 'relationship', 'native-country'),\n",
       " ('age', 'marital-status', 'occupation', 'relationship', 'gender-male'),\n",
       " ('age', 'marital-status', 'occupation', 'race', 'gender'),\n",
       " ('age', 'marital-status', 'occupation', 'race', 'capital-gain'),\n",
       " ('age', 'marital-status', 'occupation', 'race', 'capital-loss'),\n",
       " ('age', 'marital-status', 'occupation', 'race', 'hours-per-week'),\n",
       " ('age', 'marital-status', 'occupation', 'race', 'native-country'),\n",
       " ('age', 'marital-status', 'occupation', 'race', 'gender-male'),\n",
       " ('age', 'marital-status', 'occupation', 'gender', 'capital-gain'),\n",
       " ('age', 'marital-status', 'occupation', 'gender', 'capital-loss'),\n",
       " ('age', 'marital-status', 'occupation', 'gender', 'hours-per-week'),\n",
       " ('age', 'marital-status', 'occupation', 'gender', 'native-country'),\n",
       " ('age', 'marital-status', 'occupation', 'gender', 'gender-male'),\n",
       " ('age', 'marital-status', 'occupation', 'capital-gain', 'capital-loss'),\n",
       " ('age', 'marital-status', 'occupation', 'capital-gain', 'hours-per-week'),\n",
       " ('age', 'marital-status', 'occupation', 'capital-gain', 'native-country'),\n",
       " ('age', 'marital-status', 'occupation', 'capital-gain', 'gender-male'),\n",
       " ('age', 'marital-status', 'occupation', 'capital-loss', 'hours-per-week'),\n",
       " ('age', 'marital-status', 'occupation', 'capital-loss', 'native-country'),\n",
       " ('age', 'marital-status', 'occupation', 'capital-loss', 'gender-male'),\n",
       " ('age', 'marital-status', 'occupation', 'hours-per-week', 'native-country'),\n",
       " ('age', 'marital-status', 'occupation', 'hours-per-week', 'gender-male'),\n",
       " ('age', 'marital-status', 'occupation', 'native-country', 'gender-male'),\n",
       " ('age', 'marital-status', 'relationship', 'race', 'gender'),\n",
       " ('age', 'marital-status', 'relationship', 'race', 'capital-gain'),\n",
       " ('age', 'marital-status', 'relationship', 'race', 'capital-loss'),\n",
       " ('age', 'marital-status', 'relationship', 'race', 'hours-per-week'),\n",
       " ('age', 'marital-status', 'relationship', 'race', 'native-country'),\n",
       " ('age', 'marital-status', 'relationship', 'race', 'gender-male'),\n",
       " ('age', 'marital-status', 'relationship', 'gender', 'capital-gain'),\n",
       " ('age', 'marital-status', 'relationship', 'gender', 'capital-loss'),\n",
       " ('age', 'marital-status', 'relationship', 'gender', 'hours-per-week'),\n",
       " ('age', 'marital-status', 'relationship', 'gender', 'native-country'),\n",
       " ('age', 'marital-status', 'relationship', 'gender', 'gender-male'),\n",
       " ('age', 'marital-status', 'relationship', 'capital-gain', 'capital-loss'),\n",
       " ('age', 'marital-status', 'relationship', 'capital-gain', 'hours-per-week'),\n",
       " ('age', 'marital-status', 'relationship', 'capital-gain', 'native-country'),\n",
       " ('age', 'marital-status', 'relationship', 'capital-gain', 'gender-male'),\n",
       " ('age', 'marital-status', 'relationship', 'capital-loss', 'hours-per-week'),\n",
       " ('age', 'marital-status', 'relationship', 'capital-loss', 'native-country'),\n",
       " ('age', 'marital-status', 'relationship', 'capital-loss', 'gender-male'),\n",
       " ('age', 'marital-status', 'relationship', 'hours-per-week', 'native-country'),\n",
       " ('age', 'marital-status', 'relationship', 'hours-per-week', 'gender-male'),\n",
       " ('age', 'marital-status', 'relationship', 'native-country', 'gender-male'),\n",
       " ('age', 'marital-status', 'race', 'gender', 'capital-gain'),\n",
       " ('age', 'marital-status', 'race', 'gender', 'capital-loss'),\n",
       " ('age', 'marital-status', 'race', 'gender', 'hours-per-week'),\n",
       " ('age', 'marital-status', 'race', 'gender', 'native-country'),\n",
       " ('age', 'marital-status', 'race', 'gender', 'gender-male'),\n",
       " ('age', 'marital-status', 'race', 'capital-gain', 'capital-loss'),\n",
       " ('age', 'marital-status', 'race', 'capital-gain', 'hours-per-week'),\n",
       " ('age', 'marital-status', 'race', 'capital-gain', 'native-country'),\n",
       " ('age', 'marital-status', 'race', 'capital-gain', 'gender-male'),\n",
       " ('age', 'marital-status', 'race', 'capital-loss', 'hours-per-week'),\n",
       " ('age', 'marital-status', 'race', 'capital-loss', 'native-country'),\n",
       " ('age', 'marital-status', 'race', 'capital-loss', 'gender-male'),\n",
       " ('age', 'marital-status', 'race', 'hours-per-week', 'native-country'),\n",
       " ('age', 'marital-status', 'race', 'hours-per-week', 'gender-male'),\n",
       " ('age', 'marital-status', 'race', 'native-country', 'gender-male'),\n",
       " ('age', 'marital-status', 'gender', 'capital-gain', 'capital-loss'),\n",
       " ('age', 'marital-status', 'gender', 'capital-gain', 'hours-per-week'),\n",
       " ('age', 'marital-status', 'gender', 'capital-gain', 'native-country'),\n",
       " ('age', 'marital-status', 'gender', 'capital-gain', 'gender-male'),\n",
       " ('age', 'marital-status', 'gender', 'capital-loss', 'hours-per-week'),\n",
       " ('age', 'marital-status', 'gender', 'capital-loss', 'native-country'),\n",
       " ('age', 'marital-status', 'gender', 'capital-loss', 'gender-male'),\n",
       " ('age', 'marital-status', 'gender', 'hours-per-week', 'native-country'),\n",
       " ('age', 'marital-status', 'gender', 'hours-per-week', 'gender-male'),\n",
       " ('age', 'marital-status', 'gender', 'native-country', 'gender-male'),\n",
       " ('age', 'marital-status', 'capital-gain', 'capital-loss', 'hours-per-week'),\n",
       " ('age', 'marital-status', 'capital-gain', 'capital-loss', 'native-country'),\n",
       " ('age', 'marital-status', 'capital-gain', 'capital-loss', 'gender-male'),\n",
       " ('age', 'marital-status', 'capital-gain', 'hours-per-week', 'native-country'),\n",
       " ('age', 'marital-status', 'capital-gain', 'hours-per-week', 'gender-male'),\n",
       " ('age', 'marital-status', 'capital-gain', 'native-country', 'gender-male'),\n",
       " ('age', 'marital-status', 'capital-loss', 'hours-per-week', 'native-country'),\n",
       " ('age', 'marital-status', 'capital-loss', 'hours-per-week', 'gender-male'),\n",
       " ('age', 'marital-status', 'capital-loss', 'native-country', 'gender-male'),\n",
       " ('age', 'marital-status', 'hours-per-week', 'native-country', 'gender-male'),\n",
       " ('age', 'occupation', 'relationship', 'race', 'gender'),\n",
       " ('age', 'occupation', 'relationship', 'race', 'capital-gain'),\n",
       " ('age', 'occupation', 'relationship', 'race', 'capital-loss'),\n",
       " ('age', 'occupation', 'relationship', 'race', 'hours-per-week'),\n",
       " ('age', 'occupation', 'relationship', 'race', 'native-country'),\n",
       " ('age', 'occupation', 'relationship', 'race', 'gender-male'),\n",
       " ('age', 'occupation', 'relationship', 'gender', 'capital-gain'),\n",
       " ('age', 'occupation', 'relationship', 'gender', 'capital-loss'),\n",
       " ('age', 'occupation', 'relationship', 'gender', 'hours-per-week'),\n",
       " ('age', 'occupation', 'relationship', 'gender', 'native-country'),\n",
       " ('age', 'occupation', 'relationship', 'gender', 'gender-male'),\n",
       " ('age', 'occupation', 'relationship', 'capital-gain', 'capital-loss'),\n",
       " ('age', 'occupation', 'relationship', 'capital-gain', 'hours-per-week'),\n",
       " ('age', 'occupation', 'relationship', 'capital-gain', 'native-country'),\n",
       " ('age', 'occupation', 'relationship', 'capital-gain', 'gender-male'),\n",
       " ('age', 'occupation', 'relationship', 'capital-loss', 'hours-per-week'),\n",
       " ('age', 'occupation', 'relationship', 'capital-loss', 'native-country'),\n",
       " ('age', 'occupation', 'relationship', 'capital-loss', 'gender-male'),\n",
       " ('age', 'occupation', 'relationship', 'hours-per-week', 'native-country'),\n",
       " ('age', 'occupation', 'relationship', 'hours-per-week', 'gender-male'),\n",
       " ('age', 'occupation', 'relationship', 'native-country', 'gender-male'),\n",
       " ('age', 'occupation', 'race', 'gender', 'capital-gain'),\n",
       " ('age', 'occupation', 'race', 'gender', 'capital-loss'),\n",
       " ('age', 'occupation', 'race', 'gender', 'hours-per-week'),\n",
       " ('age', 'occupation', 'race', 'gender', 'native-country'),\n",
       " ('age', 'occupation', 'race', 'gender', 'gender-male'),\n",
       " ('age', 'occupation', 'race', 'capital-gain', 'capital-loss'),\n",
       " ('age', 'occupation', 'race', 'capital-gain', 'hours-per-week'),\n",
       " ('age', 'occupation', 'race', 'capital-gain', 'native-country'),\n",
       " ('age', 'occupation', 'race', 'capital-gain', 'gender-male'),\n",
       " ('age', 'occupation', 'race', 'capital-loss', 'hours-per-week'),\n",
       " ('age', 'occupation', 'race', 'capital-loss', 'native-country'),\n",
       " ('age', 'occupation', 'race', 'capital-loss', 'gender-male'),\n",
       " ('age', 'occupation', 'race', 'hours-per-week', 'native-country'),\n",
       " ('age', 'occupation', 'race', 'hours-per-week', 'gender-male'),\n",
       " ('age', 'occupation', 'race', 'native-country', 'gender-male'),\n",
       " ('age', 'occupation', 'gender', 'capital-gain', 'capital-loss'),\n",
       " ('age', 'occupation', 'gender', 'capital-gain', 'hours-per-week'),\n",
       " ('age', 'occupation', 'gender', 'capital-gain', 'native-country'),\n",
       " ('age', 'occupation', 'gender', 'capital-gain', 'gender-male'),\n",
       " ('age', 'occupation', 'gender', 'capital-loss', 'hours-per-week'),\n",
       " ('age', 'occupation', 'gender', 'capital-loss', 'native-country'),\n",
       " ('age', 'occupation', 'gender', 'capital-loss', 'gender-male'),\n",
       " ('age', 'occupation', 'gender', 'hours-per-week', 'native-country'),\n",
       " ('age', 'occupation', 'gender', 'hours-per-week', 'gender-male'),\n",
       " ('age', 'occupation', 'gender', 'native-country', 'gender-male'),\n",
       " ('age', 'occupation', 'capital-gain', 'capital-loss', 'hours-per-week'),\n",
       " ('age', 'occupation', 'capital-gain', 'capital-loss', 'native-country'),\n",
       " ('age', 'occupation', 'capital-gain', 'capital-loss', 'gender-male'),\n",
       " ('age', 'occupation', 'capital-gain', 'hours-per-week', 'native-country'),\n",
       " ('age', 'occupation', 'capital-gain', 'hours-per-week', 'gender-male'),\n",
       " ('age', 'occupation', 'capital-gain', 'native-country', 'gender-male'),\n",
       " ('age', 'occupation', 'capital-loss', 'hours-per-week', 'native-country'),\n",
       " ('age', 'occupation', 'capital-loss', 'hours-per-week', 'gender-male'),\n",
       " ('age', 'occupation', 'capital-loss', 'native-country', 'gender-male'),\n",
       " ('age', 'occupation', 'hours-per-week', 'native-country', 'gender-male'),\n",
       " ('age', 'relationship', 'race', 'gender', 'capital-gain'),\n",
       " ('age', 'relationship', 'race', 'gender', 'capital-loss'),\n",
       " ('age', 'relationship', 'race', 'gender', 'hours-per-week'),\n",
       " ('age', 'relationship', 'race', 'gender', 'native-country'),\n",
       " ('age', 'relationship', 'race', 'gender', 'gender-male'),\n",
       " ('age', 'relationship', 'race', 'capital-gain', 'capital-loss'),\n",
       " ('age', 'relationship', 'race', 'capital-gain', 'hours-per-week'),\n",
       " ('age', 'relationship', 'race', 'capital-gain', 'native-country'),\n",
       " ('age', 'relationship', 'race', 'capital-gain', 'gender-male'),\n",
       " ('age', 'relationship', 'race', 'capital-loss', 'hours-per-week'),\n",
       " ('age', 'relationship', 'race', 'capital-loss', 'native-country'),\n",
       " ('age', 'relationship', 'race', 'capital-loss', 'gender-male'),\n",
       " ('age', 'relationship', 'race', 'hours-per-week', 'native-country'),\n",
       " ('age', 'relationship', 'race', 'hours-per-week', 'gender-male'),\n",
       " ('age', 'relationship', 'race', 'native-country', 'gender-male'),\n",
       " ('age', 'relationship', 'gender', 'capital-gain', 'capital-loss'),\n",
       " ('age', 'relationship', 'gender', 'capital-gain', 'hours-per-week'),\n",
       " ('age', 'relationship', 'gender', 'capital-gain', 'native-country'),\n",
       " ('age', 'relationship', 'gender', 'capital-gain', 'gender-male'),\n",
       " ('age', 'relationship', 'gender', 'capital-loss', 'hours-per-week'),\n",
       " ('age', 'relationship', 'gender', 'capital-loss', 'native-country'),\n",
       " ('age', 'relationship', 'gender', 'capital-loss', 'gender-male'),\n",
       " ('age', 'relationship', 'gender', 'hours-per-week', 'native-country'),\n",
       " ('age', 'relationship', 'gender', 'hours-per-week', 'gender-male'),\n",
       " ('age', 'relationship', 'gender', 'native-country', 'gender-male'),\n",
       " ('age', 'relationship', 'capital-gain', 'capital-loss', 'hours-per-week'),\n",
       " ('age', 'relationship', 'capital-gain', 'capital-loss', 'native-country'),\n",
       " ('age', 'relationship', 'capital-gain', 'capital-loss', 'gender-male'),\n",
       " ('age', 'relationship', 'capital-gain', 'hours-per-week', 'native-country'),\n",
       " ('age', 'relationship', 'capital-gain', 'hours-per-week', 'gender-male'),\n",
       " ('age', 'relationship', 'capital-gain', 'native-country', 'gender-male'),\n",
       " ('age', 'relationship', 'capital-loss', 'hours-per-week', 'native-country'),\n",
       " ('age', 'relationship', 'capital-loss', 'hours-per-week', 'gender-male'),\n",
       " ('age', 'relationship', 'capital-loss', 'native-country', 'gender-male'),\n",
       " ('age', 'relationship', 'hours-per-week', 'native-country', 'gender-male'),\n",
       " ('age', 'race', 'gender', 'capital-gain', 'capital-loss'),\n",
       " ('age', 'race', 'gender', 'capital-gain', 'hours-per-week'),\n",
       " ('age', 'race', 'gender', 'capital-gain', 'native-country'),\n",
       " ('age', 'race', 'gender', 'capital-gain', 'gender-male'),\n",
       " ('age', 'race', 'gender', 'capital-loss', 'hours-per-week'),\n",
       " ('age', 'race', 'gender', 'capital-loss', 'native-country'),\n",
       " ('age', 'race', 'gender', 'capital-loss', 'gender-male'),\n",
       " ('age', 'race', 'gender', 'hours-per-week', 'native-country'),\n",
       " ('age', 'race', 'gender', 'hours-per-week', 'gender-male'),\n",
       " ('age', 'race', 'gender', 'native-country', 'gender-male'),\n",
       " ('age', 'race', 'capital-gain', 'capital-loss', 'hours-per-week'),\n",
       " ('age', 'race', 'capital-gain', 'capital-loss', 'native-country'),\n",
       " ('age', 'race', 'capital-gain', 'capital-loss', 'gender-male'),\n",
       " ('age', 'race', 'capital-gain', 'hours-per-week', 'native-country'),\n",
       " ('age', 'race', 'capital-gain', 'hours-per-week', 'gender-male'),\n",
       " ('age', 'race', 'capital-gain', 'native-country', 'gender-male'),\n",
       " ('age', 'race', 'capital-loss', 'hours-per-week', 'native-country'),\n",
       " ('age', 'race', 'capital-loss', 'hours-per-week', 'gender-male'),\n",
       " ('age', 'race', 'capital-loss', 'native-country', 'gender-male'),\n",
       " ...]"
      ]
     },
     "execution_count": 22,
     "metadata": {},
     "output_type": "execute_result"
    }
   ],
   "source": [
    "combs = []\n",
    "for i in [1,5,10]:\n",
    "    combs += list(combinations(feats, i))\n",
    "combs"
   ]
  },
  {
   "cell_type": "code",
   "execution_count": 23,
   "metadata": {},
   "outputs": [],
   "source": [
    "import warnings"
   ]
  },
  {
   "cell_type": "code",
   "execution_count": 24,
   "metadata": {},
   "outputs": [],
   "source": [
    "warnings.filterwarnings('ignore')"
   ]
  },
  {
   "cell_type": "code",
   "execution_count": null,
   "metadata": {},
   "outputs": [
    {
     "data": {
      "application/vnd.jupyter.widget-view+json": {
       "model_id": "62ae471291cb43d4a0460cda542b25b3",
       "version_major": 2,
       "version_minor": 0
      },
      "text/plain": [
       "HBox(children=(IntProgress(value=0, max=6021), HTML(value='')))"
      ]
     },
     "metadata": {},
     "output_type": "display_data"
    }
   ],
   "source": [
    "comb_ds = []\n",
    "for idx, c in tqdm_notebook(enumerate(combs), total=len(combs)):\n",
    "    #if idx>5:\n",
    "    #    break\n",
    "    cols = [x for x in X_scal.columns if (x.split('_')[0] if '_' in x else x) in c ]\n",
    "    X_train, X_test = X_train_full[cols], X_test_full[cols]\n",
    "        \n",
    "    lr = LogisticRegression(solver='lbfgs')\n",
    "    lr.fit(X_train, Y_train)\n",
    "    preds_train, preds_test = lr.predict(X_train), lr.predict(X_test)\n",
    "    \n",
    "    res_ds = pd.DataFrame()\n",
    "    for m in [accuracy_score, precision_score, recall_score, roc_auc_score]:\n",
    "        for f in c:\n",
    "            res = pd.Series({'metric':m.__name__, 'part':'train',\n",
    "                   'value':m(Y_train, preds_train),'feature':f, 'model':idx})\n",
    "            comb_ds.append(res)\n",
    "        \n",
    "            res = pd.Series({'metric':m.__name__, 'part':'test',\n",
    "                   'value':m(Y_test, preds_test),'feature':f, 'model':idx})\n",
    "            comb_ds.append(res)\n",
    "            \n",
    "comb_ds = pd.concat(comb_ds, 1).T\n",
    "comb_ds[['value','model']] = comb_ds[['value','model']].astype(float)"
   ]
  },
  {
   "cell_type": "markdown",
   "metadata": {},
   "source": [
    "Посмотрим на важность переменных на обучающем датасете среди разных моделей"
   ]
  },
  {
   "cell_type": "code",
   "execution_count": 105,
   "metadata": {},
   "outputs": [
    {
     "name": "stderr",
     "output_type": "stream",
     "text": [
      "/home/egor/anaconda3/lib/python3.7/site-packages/ipykernel_launcher.py:4: SettingWithCopyWarning: \n",
      "A value is trying to be set on a copy of a slice from a DataFrame.\n",
      "Try using .loc[row_indexer,col_indexer] = value instead\n",
      "\n",
      "See the caveats in the documentation: http://pandas.pydata.org/pandas-docs/stable/indexing.html#indexing-view-versus-copy\n",
      "  after removing the cwd from sys.path.\n"
     ]
    },
    {
     "data": {
      "text/plain": [
       "<matplotlib.axes._subplots.AxesSubplot at 0x7fc94217f0f0>"
      ]
     },
     "execution_count": 105,
     "metadata": {},
     "output_type": "execute_result"
    },
    {
     "data": {
      "image/png": "[encoded data removed]",
      "text/plain": [
       "<Figure size 1080x360 with 1 Axes>"
      ]
     },
     "metadata": {
      "needs_background": "light"
     },
     "output_type": "display_data"
    }
   ],
   "source": [
    "plt.figure(figsize=(15,5))\n",
    "cds = comb_ds[(comb_ds['metric']=='accuracy_score')&(comb_ds['part']=='train')]\n",
    "d = cds.groupby('feature')['value'].median().to_dict()\n",
    "cds['mean_value'] = cds['feature'].apply(lambda x: d[x])\n",
    "cds = cds.sort_values('mean_value', ascending=False)\n",
    "plt.xticks(rotation=45)\n",
    "sns.boxplot(x='feature', y='value', data=cds)"
   ]
  },
  {
   "cell_type": "markdown",
   "metadata": {},
   "source": [
    "Распределение качества моделей"
   ]
  },
  {
   "cell_type": "code",
   "execution_count": 110,
   "metadata": {},
   "outputs": [
    {
     "data": {
      "image/png": "[encoded data removed]",
      "text/plain": [
       "<Figure size 432x288 with 4 Axes>"
      ]
     },
     "metadata": {
      "needs_background": "light"
     },
     "output_type": "display_data"
    }
   ],
   "source": [
    "for idx, m in enumerate(comb_ds['metric'].drop_duplicates().values):\n",
    "    plt.subplot(2, 2, idx+1)\n",
    "    cds = comb_ds[comb_ds['metric']==m].groupby('model')['value'].mean()\n",
    "    sns.distplot(cds)\n",
    "    plt.title(m)\n",
    "    plt.xlim((0,1))\n",
    "plt.tight_layout()\n",
    "plt.show()"
   ]
  },
  {
   "cell_type": "markdown",
   "metadata": {},
   "source": [
    "Данные для лучшей модели"
   ]
  },
  {
   "cell_type": "code",
   "execution_count": 111,
   "metadata": {},
   "outputs": [
    {
     "data": {
      "text/html": [
       "<div>\n",
       "<style scoped>\n",
       "    .dataframe tbody tr th:only-of-type {\n",
       "        vertical-align: middle;\n",
       "    }\n",
       "\n",
       "    .dataframe tbody tr th {\n",
       "        vertical-align: top;\n",
       "    }\n",
       "\n",
       "    .dataframe thead th {\n",
       "        text-align: right;\n",
       "    }\n",
       "</style>\n",
       "<table border=\"1\" class=\"dataframe\">\n",
       "  <thead>\n",
       "    <tr style=\"text-align: right;\">\n",
       "      <th></th>\n",
       "      <th>metric</th>\n",
       "      <th>part</th>\n",
       "      <th>value</th>\n",
       "      <th>feature</th>\n",
       "      <th>model</th>\n",
       "    </tr>\n",
       "  </thead>\n",
       "  <tbody>\n",
       "    <tr>\n",
       "      <th>24</th>\n",
       "      <td>accuracy_score</td>\n",
       "      <td>train</td>\n",
       "      <td>0.777838</td>\n",
       "      <td>education</td>\n",
       "      <td>3.0</td>\n",
       "    </tr>\n",
       "    <tr>\n",
       "      <th>25</th>\n",
       "      <td>accuracy_score</td>\n",
       "      <td>test</td>\n",
       "      <td>0.785439</td>\n",
       "      <td>education</td>\n",
       "      <td>3.0</td>\n",
       "    </tr>\n",
       "    <tr>\n",
       "      <th>26</th>\n",
       "      <td>precision_score</td>\n",
       "      <td>train</td>\n",
       "      <td>0.612484</td>\n",
       "      <td>education</td>\n",
       "      <td>3.0</td>\n",
       "    </tr>\n",
       "    <tr>\n",
       "      <th>27</th>\n",
       "      <td>precision_score</td>\n",
       "      <td>test</td>\n",
       "      <td>0.617443</td>\n",
       "      <td>education</td>\n",
       "      <td>3.0</td>\n",
       "    </tr>\n",
       "    <tr>\n",
       "      <th>28</th>\n",
       "      <td>recall_score</td>\n",
       "      <td>train</td>\n",
       "      <td>0.213364</td>\n",
       "      <td>education</td>\n",
       "      <td>3.0</td>\n",
       "    </tr>\n",
       "    <tr>\n",
       "      <th>29</th>\n",
       "      <td>recall_score</td>\n",
       "      <td>test</td>\n",
       "      <td>0.218061</td>\n",
       "      <td>education</td>\n",
       "      <td>3.0</td>\n",
       "    </tr>\n",
       "    <tr>\n",
       "      <th>30</th>\n",
       "      <td>roc_auc_score</td>\n",
       "      <td>train</td>\n",
       "      <td>0.585244</td>\n",
       "      <td>education</td>\n",
       "      <td>3.0</td>\n",
       "    </tr>\n",
       "    <tr>\n",
       "      <th>31</th>\n",
       "      <td>roc_auc_score</td>\n",
       "      <td>test</td>\n",
       "      <td>0.588398</td>\n",
       "      <td>education</td>\n",
       "      <td>3.0</td>\n",
       "    </tr>\n",
       "  </tbody>\n",
       "</table>\n",
       "</div>"
      ],
      "text/plain": [
       "             metric   part     value    feature  model\n",
       "24   accuracy_score  train  0.777838  education    3.0\n",
       "25   accuracy_score   test  0.785439  education    3.0\n",
       "26  precision_score  train  0.612484  education    3.0\n",
       "27  precision_score   test  0.617443  education    3.0\n",
       "28     recall_score  train  0.213364  education    3.0\n",
       "29     recall_score   test  0.218061  education    3.0\n",
       "30    roc_auc_score  train  0.585244  education    3.0\n",
       "31    roc_auc_score   test  0.588398  education    3.0"
      ]
     },
     "execution_count": 111,
     "metadata": {},
     "output_type": "execute_result"
    }
   ],
   "source": [
    "best_model = comb_ds[comb_ds['metric']=='accuracy_score'].sort_values(\n",
    "    'value', ascending=False)['model'].values[0]\n",
    "comb_ds[comb_ds['model']==best_model]"
   ]
  },
  {
   "cell_type": "code",
   "execution_count": 118,
   "metadata": {},
   "outputs": [
    {
     "data": {
      "text/plain": [
       "array(['education'], dtype=object)"
      ]
     },
     "execution_count": 118,
     "metadata": {},
     "output_type": "execute_result"
    }
   ],
   "source": [
    "c = comb_ds[comb_ds['model']==best_model]['feature'].drop_duplicates().values\n",
    "c"
   ]
  },
  {
   "cell_type": "code",
   "execution_count": 114,
   "metadata": {},
   "outputs": [
    {
     "data": {
      "text/plain": [
       "<matplotlib.axes._subplots.AxesSubplot at 0x7fc93f932d68>"
      ]
     },
     "execution_count": 114,
     "metadata": {},
     "output_type": "execute_result"
    },
    {
     "data": {
      "image/png": "[encoded data removed]",
      "text/plain": [
       "<Figure size 432x288 with 2 Axes>"
      ]
     },
     "metadata": {
      "needs_background": "light"
     },
     "output_type": "display_data"
    }
   ],
   "source": [
    "cds = comb_ds[comb_ds['model']==best_model].pivot_table(index='metric',columns='part', values='value')\n",
    "sns.heatmap(cds, annot=True, cmap='Blues')"
   ]
  },
  {
   "cell_type": "markdown",
   "metadata": {},
   "source": [
    "Восстановим лучшую модель"
   ]
  },
  {
   "cell_type": "code",
   "execution_count": 122,
   "metadata": {},
   "outputs": [
    {
     "name": "stderr",
     "output_type": "stream",
     "text": [
      "/home/egor/anaconda3/lib/python3.7/site-packages/sklearn/linear_model/logistic.py:758: ConvergenceWarning: lbfgs failed to converge. Increase the number of iterations.\n",
      "  \"of iterations.\", ConvergenceWarning)\n"
     ]
    },
    {
     "data": {
      "text/plain": [
       "LogisticRegression(C=1.0, class_weight=None, dual=False, fit_intercept=True,\n",
       "          intercept_scaling=1, max_iter=100, multi_class='warn',\n",
       "          n_jobs=None, penalty='l2', random_state=None, solver='lbfgs',\n",
       "          tol=0.0001, verbose=0, warm_start=False)"
      ]
     },
     "execution_count": 122,
     "metadata": {},
     "output_type": "execute_result"
    }
   ],
   "source": [
    "cols = [x for x in X_scal.columns if (x.split('_')[0] if '_' in x else x) in c ]\n",
    "X_train, X_test = X_train_full[cols], X_test_full[cols]\n",
    "\n",
    "lr = LogisticRegression(solver='lbfgs')\n",
    "lr.fit(X_train, Y_train)"
   ]
  },
  {
   "cell_type": "code",
   "execution_count": 123,
   "metadata": {},
   "outputs": [
    {
     "data": {
      "text/html": [
       "<div>\n",
       "<style scoped>\n",
       "    .dataframe tbody tr th:only-of-type {\n",
       "        vertical-align: middle;\n",
       "    }\n",
       "\n",
       "    .dataframe tbody tr th {\n",
       "        vertical-align: top;\n",
       "    }\n",
       "\n",
       "    .dataframe thead th {\n",
       "        text-align: right;\n",
       "    }\n",
       "</style>\n",
       "<table border=\"1\" class=\"dataframe\">\n",
       "  <thead>\n",
       "    <tr style=\"text-align: right;\">\n",
       "      <th></th>\n",
       "      <th>feature</th>\n",
       "      <th>coef</th>\n",
       "    </tr>\n",
       "  </thead>\n",
       "  <tbody>\n",
       "    <tr>\n",
       "      <th>0</th>\n",
       "      <td>education_11th</td>\n",
       "      <td>-1.199861</td>\n",
       "    </tr>\n",
       "    <tr>\n",
       "      <th>1</th>\n",
       "      <td>education_HS-grad</td>\n",
       "      <td>-0.002084</td>\n",
       "    </tr>\n",
       "    <tr>\n",
       "      <th>2</th>\n",
       "      <td>education_Assoc-acdm</td>\n",
       "      <td>0.525752</td>\n",
       "    </tr>\n",
       "    <tr>\n",
       "      <th>3</th>\n",
       "      <td>education_Some-college</td>\n",
       "      <td>0.215685</td>\n",
       "    </tr>\n",
       "    <tr>\n",
       "      <th>4</th>\n",
       "      <td>education_10th</td>\n",
       "      <td>-1.023452</td>\n",
       "    </tr>\n",
       "  </tbody>\n",
       "</table>\n",
       "</div>"
      ],
      "text/plain": [
       "                  feature      coef\n",
       "0          education_11th -1.199861\n",
       "1       education_HS-grad -0.002084\n",
       "2    education_Assoc-acdm  0.525752\n",
       "3  education_Some-college  0.215685\n",
       "4          education_10th -1.023452"
      ]
     },
     "execution_count": 123,
     "metadata": {},
     "output_type": "execute_result"
    }
   ],
   "source": [
    "feat_imps = pd.Series(lr.coef_[0], index=X_train.columns).reset_index()\n",
    "feat_imps.columns = ['feature','coef']\n",
    "feat_imps.head()"
   ]
  },
  {
   "cell_type": "code",
   "execution_count": 124,
   "metadata": {},
   "outputs": [],
   "source": [
    "feat_imps['feature_base'] = [x.split('_')[0] if '_' in x else x for x in feat_imps['feature']]\n",
    "d = feat_imps.groupby('feature_base')['coef'].mean().to_dict()\n",
    "feat_imps['mean_coef'] = feat_imps['feature_base'].apply(lambda x: d[x])\n",
    "feat_imps['coef_abs'] = np.abs(feat_imps['coef'])\n",
    "d = feat_imps.groupby('feature_base')['coef_abs'].mean().to_dict()\n",
    "feat_imps['mean_coef_abs'] = feat_imps['feature_base'].apply(lambda x: d[x])"
   ]
  },
  {
   "cell_type": "code",
   "execution_count": 125,
   "metadata": {},
   "outputs": [
    {
     "data": {
      "image/png": "[encoded data removed]",
      "text/plain": [
       "<Figure size 1080x360 with 2 Axes>"
      ]
     },
     "metadata": {
      "needs_background": "light"
     },
     "output_type": "display_data"
    }
   ],
   "source": [
    "plt.figure(figsize=(15,5))\n",
    "plt.subplot(121)\n",
    "cds = feat_imps[['feature_base','mean_coef']].drop_duplicates().sort_values('mean_coef')\n",
    "sns.barplot(x='mean_coef', y='feature_base', data=cds)\n",
    "\n",
    "plt.subplot(122)\n",
    "cds = feat_imps[['feature_base','mean_coef_abs']].drop_duplicates().sort_values('mean_coef_abs')\n",
    "sns.barplot(x='mean_coef_abs', y='feature_base', data=cds)\n",
    "\n",
    "plt.tight_layout()\n",
    "plt.show()"
   ]
  },
  {
   "cell_type": "markdown",
   "metadata": {},
   "source": [
    "## Сокращённая модель"
   ]
  },
  {
   "cell_type": "markdown",
   "metadata": {},
   "source": [
    "Выберем самые важные признаки модели"
   ]
  },
  {
   "cell_type": "code",
   "execution_count": 129,
   "metadata": {},
   "outputs": [
    {
     "data": {
      "text/html": [
       "<div>\n",
       "<style scoped>\n",
       "    .dataframe tbody tr th:only-of-type {\n",
       "        vertical-align: middle;\n",
       "    }\n",
       "\n",
       "    .dataframe tbody tr th {\n",
       "        vertical-align: top;\n",
       "    }\n",
       "\n",
       "    .dataframe thead th {\n",
       "        text-align: right;\n",
       "    }\n",
       "</style>\n",
       "<table border=\"1\" class=\"dataframe\">\n",
       "  <thead>\n",
       "    <tr style=\"text-align: right;\">\n",
       "      <th></th>\n",
       "      <th>feature_base</th>\n",
       "      <th>mean_coef_abs</th>\n",
       "    </tr>\n",
       "  </thead>\n",
       "  <tbody>\n",
       "    <tr>\n",
       "      <th>0</th>\n",
       "      <td>education</td>\n",
       "      <td>1.0</td>\n",
       "    </tr>\n",
       "  </tbody>\n",
       "</table>\n",
       "</div>"
      ],
      "text/plain": [
       "  feature_base  mean_coef_abs\n",
       "0    education            1.0"
      ]
     },
     "execution_count": 129,
     "metadata": {},
     "output_type": "execute_result"
    }
   ],
   "source": [
    "cds = feat_imps[['feature_base','mean_coef_abs']].drop_duplicates().sort_values('mean_coef_abs')\n",
    "cds['mean_coef_abs'] /= cds['mean_coef_abs'].sum()\n",
    "cds = cds[cds['mean_coef_abs']>=0.05]\n",
    "cds"
   ]
  },
  {
   "cell_type": "markdown",
   "metadata": {},
   "source": [
    "Обучимся на них"
   ]
  },
  {
   "cell_type": "code",
   "execution_count": 348,
   "metadata": {},
   "outputs": [],
   "source": [
    "feats = cds['feature_base']\n",
    "real_feats = [\n",
    "    'capital-gain','educational-num'\n",
    "]\n",
    "y_feat = 'income_big'\n",
    "cat_feats = list(set(feats)-set(real_feats))"
   ]
  },
  {
   "cell_type": "code",
   "execution_count": 350,
   "metadata": {},
   "outputs": [],
   "source": [
    "Y = ds[y_feat]"
   ]
  },
  {
   "cell_type": "code",
   "execution_count": 351,
   "metadata": {},
   "outputs": [
    {
     "name": "stderr",
     "output_type": "stream",
     "text": [
      "/home/egor/anaconda3/lib/python3.7/site-packages/ipykernel_launcher.py:4: SettingWithCopyWarning: \n",
      "A value is trying to be set on a copy of a slice from a DataFrame.\n",
      "Try using .loc[row_indexer,col_indexer] = value instead\n",
      "\n",
      "See the caveats in the documentation: http://pandas.pydata.org/pandas-docs/stable/indexing.html#indexing-view-versus-copy\n",
      "  after removing the cwd from sys.path.\n"
     ]
    }
   ],
   "source": [
    "X = ds[real_feats]\n",
    "for f in cat_feats:\n",
    "    for v in ds[f].drop_duplicates().values:\n",
    "        X[f'{f}_{v}'] = (ds[f]==v).astype(int)"
   ]
  },
  {
   "cell_type": "code",
   "execution_count": 352,
   "metadata": {},
   "outputs": [
    {
     "name": "stderr",
     "output_type": "stream",
     "text": [
      "/home/egor/anaconda3/lib/python3.7/site-packages/sklearn/preprocessing/data.py:625: DataConversionWarning: Data with input dtype int64 were all converted to float64 by StandardScaler.\n",
      "  return self.partial_fit(X, y)\n",
      "/home/egor/anaconda3/lib/python3.7/site-packages/sklearn/base.py:462: DataConversionWarning: Data with input dtype int64 were all converted to float64 by StandardScaler.\n",
      "  return self.fit(X, **fit_params).transform(X)\n"
     ]
    }
   ],
   "source": [
    "X_scal = X.copy()\n",
    "X_scal[real_feats] = StandardScaler().fit_transform(X_scal[real_feats])"
   ]
  },
  {
   "cell_type": "code",
   "execution_count": 353,
   "metadata": {},
   "outputs": [],
   "source": [
    "X_train, X_test, Y_train, Y_test = train_test_split(X_scal, Y, random_state=42)"
   ]
  },
  {
   "cell_type": "code",
   "execution_count": 355,
   "metadata": {},
   "outputs": [
    {
     "name": "stderr",
     "output_type": "stream",
     "text": [
      "/home/egor/anaconda3/lib/python3.7/site-packages/sklearn/linear_model/logistic.py:433: FutureWarning: Default solver will be changed to 'lbfgs' in 0.22. Specify a solver to silence this warning.\n",
      "  FutureWarning)\n"
     ]
    }
   ],
   "source": [
    "lr_short = LogisticRegression()\n",
    "lr_short.fit(X_train, Y_train)\n",
    "preds_train_short, preds_test_short = lr_short.predict(X_train), lr_short.predict(X_test)"
   ]
  },
  {
   "cell_type": "code",
   "execution_count": 146,
   "metadata": {},
   "outputs": [
    {
     "name": "stdout",
     "output_type": "stream",
     "text": [
      "accuracy_score: train=0.8514, test=0.8587\n",
      "precision_score: train=0.7353, test=0.7395\n",
      "recall_score: train=0.5992, test=0.6111\n",
      "roc_auc_score: train=0.7653, test=0.7727\n"
     ]
    }
   ],
   "source": [
    "for m in [accuracy_score, precision_score, recall_score, roc_auc_score]:\n",
    "    print(f'{m.__name__}: train={m(Y_train, preds_train):.4f}, test={m(Y_test, preds_test):.4f}')"
   ]
  },
  {
   "cell_type": "code",
   "execution_count": 365,
   "metadata": {},
   "outputs": [],
   "source": [
    "for m in [accuracy_score, precision_score, recall_score, roc_auc_score]:\n",
    "    res = {'model':'short', 'metric':m.__name__,\n",
    "           'train':m(Y_train, preds_train_short), 'test':m(Y_test, preds_test_short)}\n",
    "    res_ds = res_ds.append(res, ignore_index=True)"
   ]
  },
  {
   "cell_type": "code",
   "execution_count": 383,
   "metadata": {},
   "outputs": [
    {
     "data": {
      "text/plain": [
       "<matplotlib.axes._subplots.AxesSubplot at 0x7fdfb2267ac8>"
      ]
     },
     "execution_count": 383,
     "metadata": {},
     "output_type": "execute_result"
    },
    {
     "data": {
      "image/png": "[encoded data removed]",
      "text/plain": [
       "<Figure size 432x288 with 2 Axes>"
      ]
     },
     "metadata": {
      "needs_background": "light"
     },
     "output_type": "display_data"
    }
   ],
   "source": [
    "cds = res_ds.pivot_table(index=['metric'], columns=['model'])\n",
    "cds = cds[[('train','base'),('test','base'),('train','short'),('test','short')]]\n",
    "sns.heatmap(cds, annot=True)"
   ]
  }
 ],
 "metadata": {
  "kernelspec": {
   "display_name": "Python 3",
   "language": "python",
   "name": "python3"
  },
  "language_info": {
   "codemirror_mode": {
    "name": "ipython",
    "version": 3
   },
   "file_extension": ".py",
   "mimetype": "text/x-python",
   "name": "python",
   "nbconvert_exporter": "python",
   "pygments_lexer": "ipython3",
   "version": "3.7.1"
  }
 },
 "nbformat": 4,
 "nbformat_minor": 2
}
