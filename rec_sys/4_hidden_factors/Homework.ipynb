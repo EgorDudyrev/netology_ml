{
 "cells": [
  {
   "cell_type": "markdown",
   "metadata": {},
   "source": [
    "# Домашнее задание \"Рекомендации на основе содержания\"\n",
    "\n",
    "Преподаватель: Алексей Кузьмин\n",
    "\n",
    "“Требуется построить модель рекомендаций на основе скрытых факторов (implicit) на основе dataset’а https://grouplens.org/datasets/hetrec-2011/ (Delicious Bookmarks)”"
   ]
  },
  {
   "cell_type": "code",
   "execution_count": 1,
   "metadata": {},
   "outputs": [],
   "source": [
    "import numpy as np\n",
    "import pandas as pd\n",
    "import scipy.sparse as sparse\n",
    "from implicit.als import AlternatingLeastSquares"
   ]
  },
  {
   "cell_type": "markdown",
   "metadata": {},
   "source": [
    "# Загрузка данных"
   ]
  },
  {
   "cell_type": "markdown",
   "metadata": {},
   "source": [
    "Загружаем информацию по пользователям и их закладкам"
   ]
  },
  {
   "cell_type": "code",
   "execution_count": 2,
   "metadata": {},
   "outputs": [
    {
     "name": "stdout",
     "output_type": "stream",
     "text": [
      "(437593, 9)\n"
     ]
    },
    {
     "data": {
      "text/html": [
       "<div>\n",
       "<style scoped>\n",
       "    .dataframe tbody tr th:only-of-type {\n",
       "        vertical-align: middle;\n",
       "    }\n",
       "\n",
       "    .dataframe tbody tr th {\n",
       "        vertical-align: top;\n",
       "    }\n",
       "\n",
       "    .dataframe thead th {\n",
       "        text-align: right;\n",
       "    }\n",
       "</style>\n",
       "<table border=\"1\" class=\"dataframe\">\n",
       "  <thead>\n",
       "    <tr style=\"text-align: right;\">\n",
       "      <th></th>\n",
       "      <th>userID</th>\n",
       "      <th>bookmarkID</th>\n",
       "      <th>tagID</th>\n",
       "      <th>day</th>\n",
       "      <th>month</th>\n",
       "      <th>year</th>\n",
       "      <th>hour</th>\n",
       "      <th>minute</th>\n",
       "      <th>second</th>\n",
       "    </tr>\n",
       "  </thead>\n",
       "  <tbody>\n",
       "    <tr>\n",
       "      <th>0</th>\n",
       "      <td>8</td>\n",
       "      <td>1</td>\n",
       "      <td>1</td>\n",
       "      <td>8</td>\n",
       "      <td>11</td>\n",
       "      <td>2010</td>\n",
       "      <td>23</td>\n",
       "      <td>29</td>\n",
       "      <td>22</td>\n",
       "    </tr>\n",
       "    <tr>\n",
       "      <th>1</th>\n",
       "      <td>8</td>\n",
       "      <td>2</td>\n",
       "      <td>1</td>\n",
       "      <td>8</td>\n",
       "      <td>11</td>\n",
       "      <td>2010</td>\n",
       "      <td>23</td>\n",
       "      <td>25</td>\n",
       "      <td>59</td>\n",
       "    </tr>\n",
       "    <tr>\n",
       "      <th>2</th>\n",
       "      <td>8</td>\n",
       "      <td>7</td>\n",
       "      <td>1</td>\n",
       "      <td>8</td>\n",
       "      <td>11</td>\n",
       "      <td>2010</td>\n",
       "      <td>18</td>\n",
       "      <td>55</td>\n",
       "      <td>1</td>\n",
       "    </tr>\n",
       "    <tr>\n",
       "      <th>3</th>\n",
       "      <td>8</td>\n",
       "      <td>7</td>\n",
       "      <td>6</td>\n",
       "      <td>8</td>\n",
       "      <td>11</td>\n",
       "      <td>2010</td>\n",
       "      <td>18</td>\n",
       "      <td>55</td>\n",
       "      <td>1</td>\n",
       "    </tr>\n",
       "    <tr>\n",
       "      <th>4</th>\n",
       "      <td>8</td>\n",
       "      <td>7</td>\n",
       "      <td>7</td>\n",
       "      <td>8</td>\n",
       "      <td>11</td>\n",
       "      <td>2010</td>\n",
       "      <td>18</td>\n",
       "      <td>55</td>\n",
       "      <td>1</td>\n",
       "    </tr>\n",
       "  </tbody>\n",
       "</table>\n",
       "</div>"
      ],
      "text/plain": [
       "   userID  bookmarkID  tagID  day  month  year  hour  minute  second\n",
       "0       8           1      1    8     11  2010    23      29      22\n",
       "1       8           2      1    8     11  2010    23      25      59\n",
       "2       8           7      1    8     11  2010    18      55       1\n",
       "3       8           7      6    8     11  2010    18      55       1\n",
       "4       8           7      7    8     11  2010    18      55       1"
      ]
     },
     "execution_count": 2,
     "metadata": {},
     "output_type": "execute_result"
    }
   ],
   "source": [
    "user_bmark_ds = pd.read_csv('hetrec2011-delicious-2k/user_taggedbookmarks.dat',  sep='\\t')\n",
    "print(user_bmark_ds.shape)\n",
    "user_bmark_ds.head()"
   ]
  },
  {
   "cell_type": "markdown",
   "metadata": {},
   "source": [
    "Кодируем пользователей и закладки в порядке возрастания их id"
   ]
  },
  {
   "cell_type": "code",
   "execution_count": 3,
   "metadata": {},
   "outputs": [],
   "source": [
    "userID_list = np.sort(user_bmark_ds['userID'].unique())\n",
    "userID_map = {k:idx for idx, k in enumerate(userID_list)}\n",
    "\n",
    "bmarkID_list = np.sort(user_bmark_ds['bookmarkID'].unique())\n",
    "bmarkID_map = {k:idx for idx, k in enumerate(bmarkID_list)}"
   ]
  },
  {
   "cell_type": "code",
   "execution_count": 4,
   "metadata": {},
   "outputs": [],
   "source": [
    "user_bmark_ds['userID_normed'] = user_bmark_ds['userID'].apply(lambda x: userID_map[x])\n",
    "user_bmark_ds['bookmarkID_normed'] = user_bmark_ds['bookmarkID'].apply(lambda x: bmarkID_map[x])"
   ]
  },
  {
   "cell_type": "markdown",
   "metadata": {},
   "source": [
    "Загружаем дополнительную информацию по закладкам"
   ]
  },
  {
   "cell_type": "code",
   "execution_count": 5,
   "metadata": {},
   "outputs": [
    {
     "name": "stdout",
     "output_type": "stream",
     "text": [
      "(69223, 6)\n"
     ]
    },
    {
     "data": {
      "text/html": [
       "<div>\n",
       "<style scoped>\n",
       "    .dataframe tbody tr th:only-of-type {\n",
       "        vertical-align: middle;\n",
       "    }\n",
       "\n",
       "    .dataframe tbody tr th {\n",
       "        vertical-align: top;\n",
       "    }\n",
       "\n",
       "    .dataframe thead th {\n",
       "        text-align: right;\n",
       "    }\n",
       "</style>\n",
       "<table border=\"1\" class=\"dataframe\">\n",
       "  <thead>\n",
       "    <tr style=\"text-align: right;\">\n",
       "      <th></th>\n",
       "      <th>id</th>\n",
       "      <th>md5</th>\n",
       "      <th>title</th>\n",
       "      <th>url</th>\n",
       "      <th>md5Principal</th>\n",
       "      <th>urlPrincipal</th>\n",
       "    </tr>\n",
       "    <tr>\n",
       "      <th>id_normed</th>\n",
       "      <th></th>\n",
       "      <th></th>\n",
       "      <th></th>\n",
       "      <th></th>\n",
       "      <th></th>\n",
       "      <th></th>\n",
       "    </tr>\n",
       "  </thead>\n",
       "  <tbody>\n",
       "    <tr>\n",
       "      <th>0</th>\n",
       "      <td>1</td>\n",
       "      <td>ab4954b633ddaf5b5bba6e9b71aa6b70</td>\n",
       "      <td>IFLA - The official website of the Internation...</td>\n",
       "      <td>http://www.ifla.org/</td>\n",
       "      <td>7f431306c428457bc4e12b15634484f</td>\n",
       "      <td>www.ifla.org</td>\n",
       "    </tr>\n",
       "    <tr>\n",
       "      <th>1</th>\n",
       "      <td>2</td>\n",
       "      <td>2221e9cd106d269dd34682666f576fa3</td>\n",
       "      <td>gcdp-e.pdf (application/pdf Object)</td>\n",
       "      <td>http://archive.ifla.org/VII/s14/nd1/gcdp-e.pdf</td>\n",
       "      <td>1ef8cfcfe968101fa9b4e301847503d4</td>\n",
       "      <td>archive.ifla.org</td>\n",
       "    </tr>\n",
       "    <tr>\n",
       "      <th>2</th>\n",
       "      <td>7</td>\n",
       "      <td>c97c571dadaddbbb493126a0d4d01ba3</td>\n",
       "      <td>EdSelect</td>\n",
       "      <td>http://www.edselect.com/</td>\n",
       "      <td>792fd7eb20143386d0c4eb193c6124d</td>\n",
       "      <td>www.edselect.com</td>\n",
       "    </tr>\n",
       "    <tr>\n",
       "      <th>3</th>\n",
       "      <td>8</td>\n",
       "      <td>25bfe8dca0ef263ec9c341b9f16c38b5</td>\n",
       "      <td>Cool Canada (Collections Canada)</td>\n",
       "      <td>http://www.collectionscanada.gc.ca/cool/index-...</td>\n",
       "      <td>6fce4f6391516f0732531d9cfacda5b7</td>\n",
       "      <td>www.collectionscanada.gc.ca</td>\n",
       "    </tr>\n",
       "    <tr>\n",
       "      <th>4</th>\n",
       "      <td>9</td>\n",
       "      <td>c97284629e17b8e2861afaacd59918bc</td>\n",
       "      <td>Kidsreads.com</td>\n",
       "      <td>http://www.kidsreads.com/</td>\n",
       "      <td>5854ce8404857a45373eea01a3d98000</td>\n",
       "      <td>www.kidsreads.com</td>\n",
       "    </tr>\n",
       "  </tbody>\n",
       "</table>\n",
       "</div>"
      ],
      "text/plain": [
       "           id                               md5  \\\n",
       "id_normed                                         \n",
       "0           1  ab4954b633ddaf5b5bba6e9b71aa6b70   \n",
       "1           2  2221e9cd106d269dd34682666f576fa3   \n",
       "2           7  c97c571dadaddbbb493126a0d4d01ba3   \n",
       "3           8  25bfe8dca0ef263ec9c341b9f16c38b5   \n",
       "4           9  c97284629e17b8e2861afaacd59918bc   \n",
       "\n",
       "                                                       title  \\\n",
       "id_normed                                                      \n",
       "0          IFLA - The official website of the Internation...   \n",
       "1                        gcdp-e.pdf (application/pdf Object)   \n",
       "2                                                   EdSelect   \n",
       "3                           Cool Canada (Collections Canada)   \n",
       "4                                              Kidsreads.com   \n",
       "\n",
       "                                                         url  \\\n",
       "id_normed                                                      \n",
       "0                                       http://www.ifla.org/   \n",
       "1             http://archive.ifla.org/VII/s14/nd1/gcdp-e.pdf   \n",
       "2                                   http://www.edselect.com/   \n",
       "3          http://www.collectionscanada.gc.ca/cool/index-...   \n",
       "4                                  http://www.kidsreads.com/   \n",
       "\n",
       "                               md5Principal                 urlPrincipal  \n",
       "id_normed                                                                 \n",
       "0           7f431306c428457bc4e12b15634484f                 www.ifla.org  \n",
       "1          1ef8cfcfe968101fa9b4e301847503d4             archive.ifla.org  \n",
       "2           792fd7eb20143386d0c4eb193c6124d             www.edselect.com  \n",
       "3          6fce4f6391516f0732531d9cfacda5b7  www.collectionscanada.gc.ca  \n",
       "4          5854ce8404857a45373eea01a3d98000            www.kidsreads.com  "
      ]
     },
     "execution_count": 5,
     "metadata": {},
     "output_type": "execute_result"
    }
   ],
   "source": [
    "bmarks_ds = pd.read_csv('hetrec2011-delicious-2k/bookmarks.dat', sep='\\t',\n",
    "                        encoding=\"ISO-8859-1\",)\n",
    "bmarks_ds = bmarks_ds[bmarks_ds['id'].isin(bmarkID_map.keys())]\n",
    "bmarks_ds['id_normed'] = bmarks_ds['id'].apply(lambda x: bmarkID_map[x])\n",
    "bmarks_ds = bmarks_ds.set_index('id_normed')\n",
    "print(bmarks_ds.shape)\n",
    "bmarks_ds.head()"
   ]
  },
  {
   "cell_type": "markdown",
   "metadata": {},
   "source": [
    "# Подготовка данных"
   ]
  },
  {
   "cell_type": "markdown",
   "metadata": {},
   "source": [
    "Нет уверенности, что количество проставленных тегов коррелирует с качеством закладки, поэтому будем считать события бинарными: добавил пользователь страницу в закладки или нет"
   ]
  },
  {
   "cell_type": "code",
   "execution_count": 6,
   "metadata": {},
   "outputs": [
    {
     "name": "stdout",
     "output_type": "stream",
     "text": [
      "(104799, 2)\n"
     ]
    },
    {
     "data": {
      "text/html": [
       "<div>\n",
       "<style scoped>\n",
       "    .dataframe tbody tr th:only-of-type {\n",
       "        vertical-align: middle;\n",
       "    }\n",
       "\n",
       "    .dataframe tbody tr th {\n",
       "        vertical-align: top;\n",
       "    }\n",
       "\n",
       "    .dataframe thead th {\n",
       "        text-align: right;\n",
       "    }\n",
       "</style>\n",
       "<table border=\"1\" class=\"dataframe\">\n",
       "  <thead>\n",
       "    <tr style=\"text-align: right;\">\n",
       "      <th></th>\n",
       "      <th>userID_normed</th>\n",
       "      <th>bookmarkID_normed</th>\n",
       "    </tr>\n",
       "  </thead>\n",
       "  <tbody>\n",
       "    <tr>\n",
       "      <th>0</th>\n",
       "      <td>0</td>\n",
       "      <td>0</td>\n",
       "    </tr>\n",
       "    <tr>\n",
       "      <th>1</th>\n",
       "      <td>0</td>\n",
       "      <td>1</td>\n",
       "    </tr>\n",
       "    <tr>\n",
       "      <th>2</th>\n",
       "      <td>0</td>\n",
       "      <td>2</td>\n",
       "    </tr>\n",
       "    <tr>\n",
       "      <th>5</th>\n",
       "      <td>0</td>\n",
       "      <td>3</td>\n",
       "    </tr>\n",
       "    <tr>\n",
       "      <th>8</th>\n",
       "      <td>0</td>\n",
       "      <td>4</td>\n",
       "    </tr>\n",
       "  </tbody>\n",
       "</table>\n",
       "</div>"
      ],
      "text/plain": [
       "   userID_normed  bookmarkID_normed\n",
       "0              0                  0\n",
       "1              0                  1\n",
       "2              0                  2\n",
       "5              0                  3\n",
       "8              0                  4"
      ]
     },
     "execution_count": 6,
     "metadata": {},
     "output_type": "execute_result"
    }
   ],
   "source": [
    "user_bmark_ds_short = user_bmark_ds[['userID_normed','bookmarkID_normed']].drop_duplicates()\n",
    "print(user_bmark_ds_short.shape)\n",
    "user_bmark_ds_short.head()"
   ]
  },
  {
   "cell_type": "code",
   "execution_count": 7,
   "metadata": {},
   "outputs": [],
   "source": [
    "data_sparse = sparse.csr_matrix(\n",
    "    ([1]*user_bmark_ds_short.shape[0],\n",
    "     (user_bmark_ds_short['userID_normed'].values, user_bmark_ds_short['bookmarkID_normed'].values)\n",
    "    ),\n",
    "    shape=(len(userID_list), len(bmarkID_list)))"
   ]
  },
  {
   "cell_type": "markdown",
   "metadata": {},
   "source": [
    "# Обучаем модель и получаем рекомендации"
   ]
  },
  {
   "cell_type": "code",
   "execution_count": 8,
   "metadata": {},
   "outputs": [
    {
     "name": "stderr",
     "output_type": "stream",
     "text": [
      "WARNING:root:OpenBLAS detected. Its highly recommend to set the environment variable 'export OPENBLAS_NUM_THREADS=1' to disable its internal multithreading\n"
     ]
    },
    {
     "data": {
      "application/vnd.jupyter.widget-view+json": {
       "model_id": "5fc57ead0ade45f5aa632e7d53b70282",
       "version_major": 2,
       "version_minor": 0
      },
      "text/plain": [
       "HBox(children=(FloatProgress(value=0.0, max=15.0), HTML(value='')))"
      ]
     },
     "metadata": {},
     "output_type": "display_data"
    },
    {
     "name": "stdout",
     "output_type": "stream",
     "text": [
      "\n"
     ]
    }
   ],
   "source": [
    "model = AlternatingLeastSquares(factors=50)\n",
    "model.fit(data_sparse)"
   ]
  },
  {
   "cell_type": "code",
   "execution_count": 9,
   "metadata": {},
   "outputs": [],
   "source": [
    "def get_recomendations(userid):\n",
    "    user_items = data_sparse.T.tocsr()\n",
    "    recommendations = model.recommend(userid, user_items)\n",
    "    \n",
    "    recs_ds = pd.DataFrame(recommendations, columns=['bookmarkID_normed', 'score']).set_index('bookmarkID_normed')\n",
    "    recs_ds = pd.merge(recs_ds, bmarks_ds, left_index=True, right_index=True)\n",
    "    return recs_ds"
   ]
  },
  {
   "cell_type": "code",
   "execution_count": 10,
   "metadata": {},
   "outputs": [
    {
     "data": {
      "text/html": [
       "<div>\n",
       "<style scoped>\n",
       "    .dataframe tbody tr th:only-of-type {\n",
       "        vertical-align: middle;\n",
       "    }\n",
       "\n",
       "    .dataframe tbody tr th {\n",
       "        vertical-align: top;\n",
       "    }\n",
       "\n",
       "    .dataframe thead th {\n",
       "        text-align: right;\n",
       "    }\n",
       "</style>\n",
       "<table border=\"1\" class=\"dataframe\">\n",
       "  <thead>\n",
       "    <tr style=\"text-align: right;\">\n",
       "      <th></th>\n",
       "      <th>score</th>\n",
       "      <th>id</th>\n",
       "      <th>md5</th>\n",
       "      <th>title</th>\n",
       "      <th>url</th>\n",
       "      <th>md5Principal</th>\n",
       "      <th>urlPrincipal</th>\n",
       "    </tr>\n",
       "  </thead>\n",
       "  <tbody>\n",
       "    <tr>\n",
       "      <th>1458</th>\n",
       "      <td>0.102064</td>\n",
       "      <td>2034</td>\n",
       "      <td>1b7d8f294075465f030a21926ed63eb4</td>\n",
       "      <td>How to Clean Electronics - DIY Life</td>\n",
       "      <td>http://www.diylife.com/2010/10/19/how-to-clean...</td>\n",
       "      <td>bbb36c47f2c8a1105177d47e8f8ca333</td>\n",
       "      <td>www.diylife.com</td>\n",
       "    </tr>\n",
       "    <tr>\n",
       "      <th>4</th>\n",
       "      <td>0.079738</td>\n",
       "      <td>9</td>\n",
       "      <td>c97284629e17b8e2861afaacd59918bc</td>\n",
       "      <td>Kidsreads.com</td>\n",
       "      <td>http://www.kidsreads.com/</td>\n",
       "      <td>5854ce8404857a45373eea01a3d98000</td>\n",
       "      <td>www.kidsreads.com</td>\n",
       "    </tr>\n",
       "    <tr>\n",
       "      <th>3</th>\n",
       "      <td>0.077228</td>\n",
       "      <td>8</td>\n",
       "      <td>25bfe8dca0ef263ec9c341b9f16c38b5</td>\n",
       "      <td>Cool Canada (Collections Canada)</td>\n",
       "      <td>http://www.collectionscanada.gc.ca/cool/index-...</td>\n",
       "      <td>6fce4f6391516f0732531d9cfacda5b7</td>\n",
       "      <td>www.collectionscanada.gc.ca</td>\n",
       "    </tr>\n",
       "    <tr>\n",
       "      <th>1459</th>\n",
       "      <td>0.033268</td>\n",
       "      <td>2037</td>\n",
       "      <td>ec527b8ae76159c792b223acc2e145de</td>\n",
       "      <td>21 Free Video Players For Your Website and Blo...</td>\n",
       "      <td>http://www.instantshift.com/2010/05/14/21-free...</td>\n",
       "      <td>9e4fee4c7fa185ff030589f449a6200d</td>\n",
       "      <td>www.instantshift.com</td>\n",
       "    </tr>\n",
       "    <tr>\n",
       "      <th>86</th>\n",
       "      <td>0.026792</td>\n",
       "      <td>135</td>\n",
       "      <td>60d31d8f48a1ea18f9d56d3a19e3b59c</td>\n",
       "      <td>MIXRIOT</td>\n",
       "      <td>http://www.mixriot.com/</td>\n",
       "      <td>274da608ac5fbe35f94b203040e22c47</td>\n",
       "      <td>www.mixriot.com</td>\n",
       "    </tr>\n",
       "    <tr>\n",
       "      <th>198</th>\n",
       "      <td>0.025180</td>\n",
       "      <td>310</td>\n",
       "      <td>841a49ee401c6d96b62ebe0f361d0475</td>\n",
       "      <td>Forrester Research Communities: Community: Cus...</td>\n",
       "      <td>http://community.forrester.com/community/custo...</td>\n",
       "      <td>4e904792059d1b7e4dd29196a10b8085</td>\n",
       "      <td>community.forrester.com</td>\n",
       "    </tr>\n",
       "    <tr>\n",
       "      <th>1550</th>\n",
       "      <td>0.022499</td>\n",
       "      <td>2138</td>\n",
       "      <td>f06bca0a44c06bf2b427c25976fa6b4c</td>\n",
       "      <td>Typo-Shark - Find eBay Listing Typos and Missp...</td>\n",
       "      <td>http://www.typo-shark.com/</td>\n",
       "      <td>59fb9aa49ea073643c1a4e05aec9a7e9</td>\n",
       "      <td>www.typo-shark.com</td>\n",
       "    </tr>\n",
       "    <tr>\n",
       "      <th>1676</th>\n",
       "      <td>0.021825</td>\n",
       "      <td>2305</td>\n",
       "      <td>3d36ab4dbfe93745d965a61d0c28f982</td>\n",
       "      <td>The Web Is Dead. Long Live the Internet | Maga...</td>\n",
       "      <td>http://www.wired.com/magazine/2010/08/ff_webri...</td>\n",
       "      <td>c72d08405dc30e25e7627843e8a5d3ac</td>\n",
       "      <td>www.wired.com</td>\n",
       "    </tr>\n",
       "    <tr>\n",
       "      <th>160</th>\n",
       "      <td>0.020976</td>\n",
       "      <td>266</td>\n",
       "      <td>e3656593310059d1feadf79d7932c4da</td>\n",
       "      <td>YouTube - WHERE GOOD IDEAS COME FROM by Steven...</td>\n",
       "      <td>http://www.youtube.com/watch?v=NugRZGDbPFU</td>\n",
       "      <td>ab3201c6103205c14f6e56b11b2fcd46</td>\n",
       "      <td>www.youtube.com</td>\n",
       "    </tr>\n",
       "    <tr>\n",
       "      <th>651</th>\n",
       "      <td>0.018346</td>\n",
       "      <td>889</td>\n",
       "      <td>a6245fa58c132c38ed8493a1f76309a0</td>\n",
       "      <td>LRB · John Lanchester · The Great British Econ...</td>\n",
       "      <td>http://www.lrb.co.uk/v32/n05/john-lanchester/t...</td>\n",
       "      <td>d204156859ea54839d7aedfba962c969</td>\n",
       "      <td>www.lrb.co.uk</td>\n",
       "    </tr>\n",
       "  </tbody>\n",
       "</table>\n",
       "</div>"
      ],
      "text/plain": [
       "         score    id                               md5  \\\n",
       "1458  0.102064  2034  1b7d8f294075465f030a21926ed63eb4   \n",
       "4     0.079738     9  c97284629e17b8e2861afaacd59918bc   \n",
       "3     0.077228     8  25bfe8dca0ef263ec9c341b9f16c38b5   \n",
       "1459  0.033268  2037  ec527b8ae76159c792b223acc2e145de   \n",
       "86    0.026792   135  60d31d8f48a1ea18f9d56d3a19e3b59c   \n",
       "198   0.025180   310  841a49ee401c6d96b62ebe0f361d0475   \n",
       "1550  0.022499  2138  f06bca0a44c06bf2b427c25976fa6b4c   \n",
       "1676  0.021825  2305  3d36ab4dbfe93745d965a61d0c28f982   \n",
       "160   0.020976   266  e3656593310059d1feadf79d7932c4da   \n",
       "651   0.018346   889  a6245fa58c132c38ed8493a1f76309a0   \n",
       "\n",
       "                                                  title  \\\n",
       "1458                How to Clean Electronics - DIY Life   \n",
       "4                                         Kidsreads.com   \n",
       "3                      Cool Canada (Collections Canada)   \n",
       "1459  21 Free Video Players For Your Website and Blo...   \n",
       "86                                              MIXRIOT   \n",
       "198   Forrester Research Communities: Community: Cus...   \n",
       "1550  Typo-Shark - Find eBay Listing Typos and Missp...   \n",
       "1676  The Web Is Dead. Long Live the Internet | Maga...   \n",
       "160   YouTube - WHERE GOOD IDEAS COME FROM by Steven...   \n",
       "651   LRB · John Lanchester · The Great British Econ...   \n",
       "\n",
       "                                                    url  \\\n",
       "1458  http://www.diylife.com/2010/10/19/how-to-clean...   \n",
       "4                             http://www.kidsreads.com/   \n",
       "3     http://www.collectionscanada.gc.ca/cool/index-...   \n",
       "1459  http://www.instantshift.com/2010/05/14/21-free...   \n",
       "86                              http://www.mixriot.com/   \n",
       "198   http://community.forrester.com/community/custo...   \n",
       "1550                         http://www.typo-shark.com/   \n",
       "1676  http://www.wired.com/magazine/2010/08/ff_webri...   \n",
       "160          http://www.youtube.com/watch?v=NugRZGDbPFU   \n",
       "651   http://www.lrb.co.uk/v32/n05/john-lanchester/t...   \n",
       "\n",
       "                          md5Principal                 urlPrincipal  \n",
       "1458  bbb36c47f2c8a1105177d47e8f8ca333              www.diylife.com  \n",
       "4     5854ce8404857a45373eea01a3d98000            www.kidsreads.com  \n",
       "3     6fce4f6391516f0732531d9cfacda5b7  www.collectionscanada.gc.ca  \n",
       "1459  9e4fee4c7fa185ff030589f449a6200d         www.instantshift.com  \n",
       "86    274da608ac5fbe35f94b203040e22c47              www.mixriot.com  \n",
       "198   4e904792059d1b7e4dd29196a10b8085      community.forrester.com  \n",
       "1550  59fb9aa49ea073643c1a4e05aec9a7e9           www.typo-shark.com  \n",
       "1676  c72d08405dc30e25e7627843e8a5d3ac                www.wired.com  \n",
       "160   ab3201c6103205c14f6e56b11b2fcd46              www.youtube.com  \n",
       "651   d204156859ea54839d7aedfba962c969                www.lrb.co.uk  "
      ]
     },
     "execution_count": 10,
     "metadata": {},
     "output_type": "execute_result"
    }
   ],
   "source": [
    "get_recomendations(100)"
   ]
  }
 ],
 "metadata": {
  "kernelspec": {
   "display_name": "Python 3",
   "language": "python",
   "name": "python3"
  },
  "language_info": {
   "codemirror_mode": {
    "name": "ipython",
    "version": 3
   },
   "file_extension": ".py",
   "mimetype": "text/x-python",
   "name": "python",
   "nbconvert_exporter": "python",
   "pygments_lexer": "ipython3",
   "version": "3.7.1"
  }
 },
 "nbformat": 4,
 "nbformat_minor": 2
}
