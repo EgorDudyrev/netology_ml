{
 "cells": [
  {
   "cell_type": "markdown",
   "metadata": {},
   "source": [
    "ПАКЕТ SURPRISE\n",
    "\n",
    "* используйте данные MovieLens 1M\n",
    "* можно использовать любые модели из пакета\n",
    "* получите RMSE на тестовом сете 0.87 и ниже\n",
    "* Комментарий преподавателя :\n",
    "    * В ДЗ на датасет 1М можешь не хватить RAM. Можно сделать на 100K. Качество RMSE предлагаю считать на основе CrossValidation (5 фолдов), а не отложенном датасете"
   ]
  },
  {
   "cell_type": "code",
   "execution_count": 1,
   "metadata": {},
   "outputs": [],
   "source": [
    "import numpy as np\n",
    "import pandas as pd\n",
    "\n",
    "from surprise import SVD\n",
    "from surprise import Dataset\n",
    "from surprise.model_selection import cross_validate"
   ]
  },
  {
   "cell_type": "code",
   "execution_count": 2,
   "metadata": {},
   "outputs": [],
   "source": [
    "import surprise.prediction_algorithms as pas"
   ]
  },
  {
   "cell_type": "code",
   "execution_count": 3,
   "metadata": {},
   "outputs": [],
   "source": [
    "# Load the movielens-100k dataset (download it if needed).\n",
    "data = Dataset.load_builtin('ml-1m')"
   ]
  },
  {
   "cell_type": "markdown",
   "metadata": {},
   "source": [
    "# Trying different models"
   ]
  },
  {
   "cell_type": "code",
   "execution_count": 4,
   "metadata": {},
   "outputs": [
    {
     "name": "stdout",
     "output_type": "stream",
     "text": [
      "Evaluating RMSE, MAE of algorithm NormalPredictor on 5 split(s).\n",
      "\n",
      "                  Fold 1  Fold 2  Fold 3  Fold 4  Fold 5  Mean    Std     \n",
      "RMSE (testset)    1.5059  1.5039  1.5087  1.5026  1.5047  1.5052  0.0021  \n",
      "MAE (testset)     1.2083  1.2059  1.2093  1.2050  1.2052  1.2067  0.0017  \n",
      "Fit time          1.17    1.87    1.90    2.32    1.88    1.83    0.37    \n",
      "Test time         2.72    3.19    3.34    3.16    3.50    3.18    0.26    \n"
     ]
    }
   ],
   "source": [
    "# Use the famous SVD algorithm.\n",
    "algo = pas.NormalPredictor()\n",
    "\n",
    "# Run 5-fold cross-validation and print results.\n",
    "cross_validate(algo, data, measures=['RMSE', 'MAE'], cv=5, verbose=True);"
   ]
  },
  {
   "cell_type": "code",
   "execution_count": 5,
   "metadata": {},
   "outputs": [
    {
     "name": "stdout",
     "output_type": "stream",
     "text": [
      "Evaluating RMSE, MAE of algorithm CoClustering on 5 split(s).\n",
      "\n",
      "                  Fold 1  Fold 2  Fold 3  Fold 4  Fold 5  Mean    Std     \n",
      "RMSE (testset)    0.9144  0.9210  0.9150  0.9166  0.9139  0.9162  0.0026  \n",
      "MAE (testset)     0.7171  0.7219  0.7168  0.7191  0.7157  0.7181  0.0022  \n",
      "Fit time          21.00   25.11   23.82   25.32   24.52   23.95   1.57    \n",
      "Test time         2.66    2.11    2.33    2.14    2.24    2.30    0.20    \n"
     ]
    }
   ],
   "source": [
    "# Use the famous SVD algorithm.\n",
    "algo = pas.CoClustering()\n",
    "\n",
    "# Run 5-fold cross-validation and print results.\n",
    "cross_validate(algo, data, measures=['RMSE', 'MAE'], cv=5, verbose=True);"
   ]
  },
  {
   "cell_type": "code",
   "execution_count": 6,
   "metadata": {},
   "outputs": [
    {
     "name": "stdout",
     "output_type": "stream",
     "text": [
      "Evaluating RMSE, MAE of algorithm SVD on 5 split(s).\n",
      "\n",
      "                  Fold 1  Fold 2  Fold 3  Fold 4  Fold 5  Mean    Std     \n",
      "RMSE (testset)    0.8753  0.8739  0.8745  0.8739  0.8738  0.8743  0.0005  \n",
      "MAE (testset)     0.6888  0.6883  0.6882  0.6885  0.6881  0.6884  0.0003  \n",
      "Fit time          21.80   16.16   19.93   21.03   19.50   19.68   1.94    \n",
      "Test time         3.67    3.34    3.10    2.66    2.84    3.12    0.36    \n"
     ]
    }
   ],
   "source": [
    "# Use the famous SVD algorithm.\n",
    "algo = pas.SVD(n_factors=10)\n",
    "# Run 5-fold cross-validation and print results.\n",
    "cross_validate(algo, data, measures=['RMSE', 'MAE'], cv=5, verbose=True);"
   ]
  },
  {
   "cell_type": "code",
   "execution_count": 7,
   "metadata": {},
   "outputs": [
    {
     "name": "stdout",
     "output_type": "stream",
     "text": [
      "Evaluating RMSE, MAE of algorithm SVD on 5 split(s).\n",
      "\n",
      "                  Fold 1  Fold 2  Fold 3  Fold 4  Fold 5  Mean    Std     \n",
      "RMSE (testset)    0.8748  0.8728  0.8719  0.8725  0.8732  0.8730  0.0010  \n",
      "MAE (testset)     0.6869  0.6856  0.6845  0.6848  0.6853  0.6854  0.0008  \n",
      "Fit time          61.44   58.69   50.79   46.86   49.14   53.38   5.66    \n",
      "Test time         3.30    5.38    2.51    2.53    2.34    3.21    1.13    \n"
     ]
    }
   ],
   "source": [
    "# Use the famous SVD algorithm.\n",
    "algo = pas.SVD(n_factors=100)\n",
    "# Run 5-fold cross-validation and print results.\n",
    "cross_validate(algo, data, measures=['RMSE', 'MAE'], cv=5, verbose=True);"
   ]
  },
  {
   "cell_type": "code",
   "execution_count": null,
   "metadata": {},
   "outputs": [
    {
     "name": "stdout",
     "output_type": "stream",
     "text": [
      "Evaluating RMSE, MAE of algorithm SVD on 5 split(s).\n",
      "\n",
      "                  Fold 1  Fold 2  Fold 3  Fold 4  Fold 5  Mean    Std     \n",
      "RMSE (testset)    0.8779  0.8777  0.8770  0.8758  0.8755  0.8768  0.0010  \n",
      "MAE (testset)     0.6898  0.6883  0.6882  0.6872  0.6867  0.6880  0.0011  \n",
      "Fit time          67.48   72.48   66.60   67.60   174.54  89.74   42.45   \n",
      "Test time         2.74    4.20    2.36    4.26    3.88    3.49    0.79    \n"
     ]
    }
   ],
   "source": [
    "# Use the famous SVD algorithm.\n",
    "algo = pas.SVD(n_factors=150)\n",
    "# Run 5-fold cross-validation and print results.\n",
    "cross_validate(algo, data, measures=['RMSE', 'MAE'], cv=5, verbose=True);"
   ]
  },
  {
   "cell_type": "code",
   "execution_count": null,
   "metadata": {},
   "outputs": [
    {
     "name": "stdout",
     "output_type": "stream",
     "text": [
      "Evaluating RMSE, MAE of algorithm SVD on 5 split(s).\n",
      "\n",
      "                  Fold 1  Fold 2  Fold 3  Fold 4  Fold 5  Mean    Std     \n",
      "RMSE (testset)    0.8774  0.8792  0.8797  0.8791  0.8773  0.8785  0.0010  \n",
      "MAE (testset)     0.6889  0.6906  0.6901  0.6902  0.6884  0.6896  0.0008  \n",
      "Fit time          165.70  111.43  116.92  95.82   110.85  120.14  23.83   \n",
      "Test time         7.50    3.45    3.27    3.25    4.21    4.34    1.62    \n"
     ]
    }
   ],
   "source": [
    "# Use the famous SVD algorithm.\n",
    "algo = pas.SVD(n_factors=200)\n",
    "# Run 5-fold cross-validation and print results.\n",
    "cross_validate(algo, data, measures=['RMSE', 'MAE'], cv=5, verbose=True);"
   ]
  },
  {
   "cell_type": "code",
   "execution_count": null,
   "metadata": {},
   "outputs": [],
   "source": [
    "# Use the famous SVD algorithm.\n",
    "algo = pas.SVDpp()\n",
    "\n",
    "# Run 5-fold cross-validation and print results.\n",
    "cross_validate(algo, data, measures=['RMSE', 'MAE'], cv=5, verbose=True);"
   ]
  }
 ],
 "metadata": {
  "kernelspec": {
   "display_name": "Python 3",
   "language": "python",
   "name": "python3"
  },
  "language_info": {
   "codemirror_mode": {
    "name": "ipython",
    "version": 3
   },
   "file_extension": ".py",
   "mimetype": "text/x-python",
   "name": "python",
   "nbconvert_exporter": "python",
   "pygments_lexer": "ipython3",
   "version": "3.7.1"
  }
 },
 "nbformat": 4,
 "nbformat_minor": 2
}
