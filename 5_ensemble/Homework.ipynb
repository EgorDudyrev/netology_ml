{
 "cells": [
  {
   "cell_type": "code",
   "execution_count": 1,
   "metadata": {},
   "outputs": [],
   "source": [
    "import numpy as np\n",
    "import pandas as pd\n",
    "from sklearn.model_selection import cross_val_score\n",
    "from sklearn.ensemble import RandomForestRegressor\n",
    "from sklearn.preprocessing import LabelEncoder, MinMaxScaler\n",
    "import seaborn as sns\n",
    "from xgboost import XGBRegressor\n",
    "from sklearn.linear_model import Ridge\n",
    "import matplotlib.pyplot as plt\n",
    "from sklearn.metrics import mean_absolute_error, mean_squared_error, r2_score\n",
    "\n",
    "import warnings\n",
    "warnings.filterwarnings('ignore')"
   ]
  },
  {
   "cell_type": "markdown",
   "metadata": {},
   "source": [
    "# Работа с данными"
   ]
  },
  {
   "cell_type": "markdown",
   "metadata": {},
   "source": [
    "Загрузка данных"
   ]
  },
  {
   "cell_type": "code",
   "execution_count": 2,
   "metadata": {},
   "outputs": [
    {
     "data": {
      "text/html": [
       "<div>\n",
       "<style scoped>\n",
       "    .dataframe tbody tr th:only-of-type {\n",
       "        vertical-align: middle;\n",
       "    }\n",
       "\n",
       "    .dataframe tbody tr th {\n",
       "        vertical-align: top;\n",
       "    }\n",
       "\n",
       "    .dataframe thead th {\n",
       "        text-align: right;\n",
       "    }\n",
       "</style>\n",
       "<table border=\"1\" class=\"dataframe\">\n",
       "  <thead>\n",
       "    <tr style=\"text-align: right;\">\n",
       "      <th></th>\n",
       "      <th>Id</th>\n",
       "      <th>MSSubClass</th>\n",
       "      <th>MSZoning</th>\n",
       "      <th>LotFrontage</th>\n",
       "      <th>LotArea</th>\n",
       "      <th>Street</th>\n",
       "      <th>Alley</th>\n",
       "      <th>LotShape</th>\n",
       "      <th>LandContour</th>\n",
       "      <th>Utilities</th>\n",
       "      <th>...</th>\n",
       "      <th>PoolArea</th>\n",
       "      <th>PoolQC</th>\n",
       "      <th>Fence</th>\n",
       "      <th>MiscFeature</th>\n",
       "      <th>MiscVal</th>\n",
       "      <th>MoSold</th>\n",
       "      <th>YrSold</th>\n",
       "      <th>SaleType</th>\n",
       "      <th>SaleCondition</th>\n",
       "      <th>SalePrice</th>\n",
       "    </tr>\n",
       "  </thead>\n",
       "  <tbody>\n",
       "    <tr>\n",
       "      <th>0</th>\n",
       "      <td>1</td>\n",
       "      <td>60</td>\n",
       "      <td>RL</td>\n",
       "      <td>65.0</td>\n",
       "      <td>8450</td>\n",
       "      <td>Pave</td>\n",
       "      <td>NaN</td>\n",
       "      <td>Reg</td>\n",
       "      <td>Lvl</td>\n",
       "      <td>AllPub</td>\n",
       "      <td>...</td>\n",
       "      <td>0</td>\n",
       "      <td>NaN</td>\n",
       "      <td>NaN</td>\n",
       "      <td>NaN</td>\n",
       "      <td>0</td>\n",
       "      <td>2</td>\n",
       "      <td>2008</td>\n",
       "      <td>WD</td>\n",
       "      <td>Normal</td>\n",
       "      <td>208500</td>\n",
       "    </tr>\n",
       "    <tr>\n",
       "      <th>1</th>\n",
       "      <td>2</td>\n",
       "      <td>20</td>\n",
       "      <td>RL</td>\n",
       "      <td>80.0</td>\n",
       "      <td>9600</td>\n",
       "      <td>Pave</td>\n",
       "      <td>NaN</td>\n",
       "      <td>Reg</td>\n",
       "      <td>Lvl</td>\n",
       "      <td>AllPub</td>\n",
       "      <td>...</td>\n",
       "      <td>0</td>\n",
       "      <td>NaN</td>\n",
       "      <td>NaN</td>\n",
       "      <td>NaN</td>\n",
       "      <td>0</td>\n",
       "      <td>5</td>\n",
       "      <td>2007</td>\n",
       "      <td>WD</td>\n",
       "      <td>Normal</td>\n",
       "      <td>181500</td>\n",
       "    </tr>\n",
       "    <tr>\n",
       "      <th>2</th>\n",
       "      <td>3</td>\n",
       "      <td>60</td>\n",
       "      <td>RL</td>\n",
       "      <td>68.0</td>\n",
       "      <td>11250</td>\n",
       "      <td>Pave</td>\n",
       "      <td>NaN</td>\n",
       "      <td>IR1</td>\n",
       "      <td>Lvl</td>\n",
       "      <td>AllPub</td>\n",
       "      <td>...</td>\n",
       "      <td>0</td>\n",
       "      <td>NaN</td>\n",
       "      <td>NaN</td>\n",
       "      <td>NaN</td>\n",
       "      <td>0</td>\n",
       "      <td>9</td>\n",
       "      <td>2008</td>\n",
       "      <td>WD</td>\n",
       "      <td>Normal</td>\n",
       "      <td>223500</td>\n",
       "    </tr>\n",
       "    <tr>\n",
       "      <th>3</th>\n",
       "      <td>4</td>\n",
       "      <td>70</td>\n",
       "      <td>RL</td>\n",
       "      <td>60.0</td>\n",
       "      <td>9550</td>\n",
       "      <td>Pave</td>\n",
       "      <td>NaN</td>\n",
       "      <td>IR1</td>\n",
       "      <td>Lvl</td>\n",
       "      <td>AllPub</td>\n",
       "      <td>...</td>\n",
       "      <td>0</td>\n",
       "      <td>NaN</td>\n",
       "      <td>NaN</td>\n",
       "      <td>NaN</td>\n",
       "      <td>0</td>\n",
       "      <td>2</td>\n",
       "      <td>2006</td>\n",
       "      <td>WD</td>\n",
       "      <td>Abnorml</td>\n",
       "      <td>140000</td>\n",
       "    </tr>\n",
       "    <tr>\n",
       "      <th>4</th>\n",
       "      <td>5</td>\n",
       "      <td>60</td>\n",
       "      <td>RL</td>\n",
       "      <td>84.0</td>\n",
       "      <td>14260</td>\n",
       "      <td>Pave</td>\n",
       "      <td>NaN</td>\n",
       "      <td>IR1</td>\n",
       "      <td>Lvl</td>\n",
       "      <td>AllPub</td>\n",
       "      <td>...</td>\n",
       "      <td>0</td>\n",
       "      <td>NaN</td>\n",
       "      <td>NaN</td>\n",
       "      <td>NaN</td>\n",
       "      <td>0</td>\n",
       "      <td>12</td>\n",
       "      <td>2008</td>\n",
       "      <td>WD</td>\n",
       "      <td>Normal</td>\n",
       "      <td>250000</td>\n",
       "    </tr>\n",
       "  </tbody>\n",
       "</table>\n",
       "<p>5 rows × 81 columns</p>\n",
       "</div>"
      ],
      "text/plain": [
       "   Id  MSSubClass MSZoning  LotFrontage  LotArea Street Alley LotShape  \\\n",
       "0   1          60       RL         65.0     8450   Pave   NaN      Reg   \n",
       "1   2          20       RL         80.0     9600   Pave   NaN      Reg   \n",
       "2   3          60       RL         68.0    11250   Pave   NaN      IR1   \n",
       "3   4          70       RL         60.0     9550   Pave   NaN      IR1   \n",
       "4   5          60       RL         84.0    14260   Pave   NaN      IR1   \n",
       "\n",
       "  LandContour Utilities    ...     PoolArea PoolQC Fence MiscFeature MiscVal  \\\n",
       "0         Lvl    AllPub    ...            0    NaN   NaN         NaN       0   \n",
       "1         Lvl    AllPub    ...            0    NaN   NaN         NaN       0   \n",
       "2         Lvl    AllPub    ...            0    NaN   NaN         NaN       0   \n",
       "3         Lvl    AllPub    ...            0    NaN   NaN         NaN       0   \n",
       "4         Lvl    AllPub    ...            0    NaN   NaN         NaN       0   \n",
       "\n",
       "  MoSold YrSold  SaleType  SaleCondition  SalePrice  \n",
       "0      2   2008        WD         Normal     208500  \n",
       "1      5   2007        WD         Normal     181500  \n",
       "2      9   2008        WD         Normal     223500  \n",
       "3      2   2006        WD        Abnorml     140000  \n",
       "4     12   2008        WD         Normal     250000  \n",
       "\n",
       "[5 rows x 81 columns]"
      ]
     },
     "execution_count": 2,
     "metadata": {},
     "output_type": "execute_result"
    }
   ],
   "source": [
    "ds = pd.read_csv('house_pricing/train.csv')\n",
    "ds.head()"
   ]
  },
  {
   "cell_type": "markdown",
   "metadata": {},
   "source": [
    "Проверим на пропущенные значения"
   ]
  },
  {
   "cell_type": "code",
   "execution_count": 3,
   "metadata": {},
   "outputs": [
    {
     "data": {
      "text/plain": [
       "6965"
      ]
     },
     "execution_count": 3,
     "metadata": {},
     "output_type": "execute_result"
    }
   ],
   "source": [
    "ds.isnull().sum().sum()"
   ]
  },
  {
   "cell_type": "code",
   "execution_count": 4,
   "metadata": {},
   "outputs": [
    {
     "data": {
      "text/plain": [
       "PoolQC          0.995205\n",
       "MiscFeature     0.963014\n",
       "Alley           0.937671\n",
       "Fence           0.807534\n",
       "FireplaceQu     0.472603\n",
       "LotFrontage     0.177397\n",
       "GarageYrBlt     0.055479\n",
       "GarageType      0.055479\n",
       "GarageFinish    0.055479\n",
       "GarageQual      0.055479\n",
       "GarageCond      0.055479\n",
       "BsmtFinType2    0.026027\n",
       "BsmtExposure    0.026027\n",
       "BsmtFinType1    0.025342\n",
       "BsmtCond        0.025342\n",
       "BsmtQual        0.025342\n",
       "MasVnrArea      0.005479\n",
       "MasVnrType      0.005479\n",
       "Electrical      0.000685\n",
       "dtype: float64"
      ]
     },
     "execution_count": 4,
     "metadata": {},
     "output_type": "execute_result"
    }
   ],
   "source": [
    "s = ds.isnull().sum()\n",
    "s = s[s>0]\n",
    "s.sort_values(ascending=False)/len(ds)"
   ]
  },
  {
   "cell_type": "markdown",
   "metadata": {},
   "source": [
    "У некоторых признаков пропущено 99% значений."
   ]
  },
  {
   "cell_type": "markdown",
   "metadata": {},
   "source": [
    "Что это вообще за признаки?"
   ]
  },
  {
   "cell_type": "code",
   "execution_count": 5,
   "metadata": {
    "scrolled": false
   },
   "outputs": [
    {
     "name": "stdout",
     "output_type": "stream",
     "text": [
      "MSSubClass: Identifies the type of dwelling involved in the sale.\t\r\n",
      "\r\n",
      "        20\t1-STORY 1946 & NEWER ALL STYLES\r\n",
      "        30\t1-STORY 1945 & OLDER\r\n",
      "        40\t1-STORY W/FINISHED ATTIC ALL AGES\r\n",
      "        45\t1-1/2 STORY - UNFINISHED ALL AGES\r\n",
      "        50\t1-1/2 STORY FINISHED ALL AGES\r\n",
      "        60\t2-STORY 1946 & NEWER\r\n",
      "        70\t2-STORY 1945 & OLDER\r\n",
      "        75\t2-1/2 STORY ALL AGES\r\n",
      "        80\tSPLIT OR MULTI-LEVEL\r\n",
      "        85\tSPLIT FOYER\r\n",
      "        90\tDUPLEX - ALL STYLES AND AGES\r\n",
      "       120\t1-STORY PUD (Planned Unit Development) - 1946 & NEWER\r\n",
      "       150\t1-1/2 STORY PUD - ALL AGES\r\n",
      "       160\t2-STORY PUD - 1946 & NEWER\r\n",
      "       180\tPUD - MULTILEVEL - INCL SPLIT LEV/FOYER\r\n",
      "       190\t2 FAMILY CONVERSION - ALL STYLES AND AGES\r\n",
      "\r\n",
      "MSZoning: Identifies the general zoning classification of the sale.\r\n",
      "\t\t\r\n",
      "       A\tAgriculture\r\n",
      "       C\tCommercial\r\n",
      "       FV\tFloating Village Residential\r\n",
      "       I\tIndustrial\r\n",
      "       RH\tResidential High Density\r\n",
      "       RL\tResidential Low Density\r\n",
      "       RP\tResidential Low Density Park \r\n",
      "       RM\tResidential Medium Density\r\n",
      "\t\r\n",
      "LotFrontage: Linear feet of street connected to property\r\n",
      "\r\n",
      "LotArea: Lot size in square feet\r\n",
      "\r\n",
      "Street: Type of road access to property\r\n",
      "\r\n",
      "       Grvl\tGravel\t\r\n",
      "       Pave\tPaved\r\n",
      "       \t\r\n",
      "Alley: Type of alley access to property\r\n",
      "\r\n",
      "       Grvl\tGravel\r\n",
      "       Pave\tPaved\r\n",
      "       NA \tNo alley access\r\n",
      "\t\t\r\n",
      "LotShape: General shape of property\r\n",
      "\r\n",
      "       Reg\tRegular\t\r\n",
      "       IR1\tSlightly irregular\r\n",
      "       IR2\tModerately Irregular\r\n",
      "       IR3\tIrregular\r\n",
      "       \r\n",
      "LandContour: Flatness of the property\r\n",
      "\r\n",
      "       Lvl\tNear Flat/Level\t\r\n",
      "       Bnk\tBanked - Quick and significant rise from street grade to building\r\n",
      "       HLS\tHillside - Significant slope from side to side\r\n",
      "       Low\tDepression\r\n",
      "\t\t\r\n",
      "Utilities: Type of utilities available\r\n",
      "\t\t\r\n",
      "       AllPub\tAll public Utilities (E,G,W,& S)\t\r\n",
      "       NoSewr\tElectricity, Gas, and Water (Septic Tank)\r\n",
      "       NoSeWa\tElectricity and Gas Only\r\n",
      "       ELO\tElectricity only\t\r\n",
      "\t\r\n",
      "LotConfig: Lot configuration\r\n",
      "\r\n",
      "       Inside\tInside lot\r\n",
      "       Corner\tCorner lot\r\n",
      "       CulDSac\tCul-de-sac\r\n",
      "       FR2\tFrontage on 2 sides of property\r\n",
      "       FR3\tFrontage on 3 sides of property\r\n",
      "\t\r\n",
      "LandSlope: Slope of property\r\n",
      "\t\t\r\n",
      "       Gtl\tGentle slope\r\n",
      "       Mod\tModerate Slope\t\r\n",
      "       Sev\tSevere Slope\r\n",
      "\t\r\n",
      "Neighborhood: Physical locations within Ames city limits\r\n",
      "\r\n",
      "       Blmngtn\tBloomington Heights\r\n",
      "       Blueste\tBluestem\r\n",
      "       BrDale\tBriardale\r\n",
      "       BrkSide\tBrookside\r\n",
      "       ClearCr\tClear Creek\r\n",
      "       CollgCr\tCollege Creek\r\n",
      "       Crawfor\tCrawford\r\n",
      "       Edwards\tEdwards\r\n",
      "       Gilbert\tGilbert\r\n",
      "       IDOTRR\tIowa DOT and Rail Road\r\n",
      "       MeadowV\tMeadow Village\r\n",
      "       Mitchel\tMitchell\r\n",
      "       Names\tNorth Ames\r\n",
      "       NoRidge\tNorthridge\r\n",
      "       NPkVill\tNorthpark Villa\r\n",
      "       NridgHt\tNorthridge Heights\r\n",
      "       NWAmes\tNorthwest Ames\r\n",
      "       OldTown\tOld Town\r\n",
      "       SWISU\tSouth & West of Iowa State University\r\n",
      "       Sawyer\tSawyer\r\n",
      "       SawyerW\tSawyer West\r\n",
      "       Somerst\tSomerset\r\n",
      "       StoneBr\tStone Brook\r\n",
      "       Timber\tTimberland\r\n",
      "       Veenker\tVeenker\r\n",
      "\t\t\t\r\n",
      "Condition1: Proximity to various conditions\r\n",
      "\t\r\n",
      "       Artery\tAdjacent to arterial street\r\n",
      "       Feedr\tAdjacent to feeder street\t\r\n",
      "       Norm\tNormal\t\r\n",
      "       RRNn\tWithin 200' of North-South Railroad\r\n",
      "       RRAn\tAdjacent to North-South Railroad\r\n",
      "       PosN\tNear positive off-site feature--park, greenbelt, etc.\r\n",
      "       PosA\tAdjacent to postive off-site feature\r\n",
      "       RRNe\tWithin 200' of East-West Railroad\r\n",
      "       RRAe\tAdjacent to East-West Railroad\r\n",
      "\t\r\n",
      "Condition2: Proximity to various conditions (if more than one is present)\r\n",
      "\t\t\r\n",
      "       Artery\tAdjacent to arterial street\r\n",
      "       Feedr\tAdjacent to feeder street\t\r\n",
      "       Norm\tNormal\t\r\n",
      "       RRNn\tWithin 200' of North-South Railroad\r\n",
      "       RRAn\tAdjacent to North-South Railroad\r\n",
      "       PosN\tNear positive off-site feature--park, greenbelt, etc.\r\n",
      "       PosA\tAdjacent to postive off-site feature\r\n",
      "       RRNe\tWithin 200' of East-West Railroad\r\n",
      "       RRAe\tAdjacent to East-West Railroad\r\n",
      "\t\r\n",
      "BldgType: Type of dwelling\r\n",
      "\t\t\r\n",
      "       1Fam\tSingle-family Detached\t\r\n",
      "       2FmCon\tTwo-family Conversion; originally built as one-family dwelling\r\n",
      "       Duplx\tDuplex\r\n",
      "       TwnhsE\tTownhouse End Unit\r\n",
      "       TwnhsI\tTownhouse Inside Unit\r\n",
      "\t\r\n",
      "HouseStyle: Style of dwelling\r\n",
      "\t\r\n",
      "       1Story\tOne story\r\n",
      "       1.5Fin\tOne and one-half story: 2nd level finished\r\n",
      "       1.5Unf\tOne and one-half story: 2nd level unfinished\r\n",
      "       2Story\tTwo story\r\n",
      "       2.5Fin\tTwo and one-half story: 2nd level finished\r\n",
      "       2.5Unf\tTwo and one-half story: 2nd level unfinished\r\n",
      "       SFoyer\tSplit Foyer\r\n",
      "       SLvl\tSplit Level\r\n",
      "\t\r\n",
      "OverallQual: Rates the overall material and finish of the house\r\n",
      "\r\n",
      "       10\tVery Excellent\r\n",
      "       9\tExcellent\r\n",
      "       8\tVery Good\r\n",
      "       7\tGood\r\n",
      "       6\tAbove Average\r\n",
      "       5\tAverage\r\n",
      "       4\tBelow Average\r\n",
      "       3\tFair\r\n",
      "       2\tPoor\r\n",
      "       1\tVery Poor\r\n",
      "\t\r\n",
      "OverallCond: Rates the overall condition of the house\r\n",
      "\r\n",
      "       10\tVery Excellent\r\n",
      "       9\tExcellent\r\n",
      "       8\tVery Good\r\n",
      "       7\tGood\r\n",
      "       6\tAbove Average\t\r\n",
      "       5\tAverage\r\n",
      "       4\tBelow Average\t\r\n",
      "       3\tFair\r\n",
      "       2\tPoor\r\n",
      "       1\tVery Poor\r\n",
      "\t\t\r\n",
      "YearBuilt: Original construction date\r\n",
      "\r\n",
      "YearRemodAdd: Remodel date (same as construction date if no remodeling or additions)\r\n",
      "\r\n",
      "RoofStyle: Type of roof\r\n",
      "\r\n",
      "       Flat\tFlat\r\n",
      "       Gable\tGable\r\n",
      "       Gambrel\tGabrel (Barn)\r\n",
      "       Hip\tHip\r\n",
      "       Mansard\tMansard\r\n",
      "       Shed\tShed\r\n",
      "\t\t\r\n",
      "RoofMatl: Roof material\r\n",
      "\r\n",
      "       ClyTile\tClay or Tile\r\n",
      "       CompShg\tStandard (Composite) Shingle\r\n",
      "       Membran\tMembrane\r\n",
      "       Metal\tMetal\r\n",
      "       Roll\tRoll\r\n",
      "       Tar&Grv\tGravel & Tar\r\n",
      "       WdShake\tWood Shakes\r\n",
      "       WdShngl\tWood Shingles\r\n",
      "\t\t\r\n",
      "Exterior1st: Exterior covering on house\r\n",
      "\r\n",
      "       AsbShng\tAsbestos Shingles\r\n",
      "       AsphShn\tAsphalt Shingles\r\n",
      "       BrkComm\tBrick Common\r\n",
      "       BrkFace\tBrick Face\r\n",
      "       CBlock\tCinder Block\r\n",
      "       CemntBd\tCement Board\r\n",
      "       HdBoard\tHard Board\r\n",
      "       ImStucc\tImitation Stucco\r\n",
      "       MetalSd\tMetal Siding\r\n",
      "       Other\tOther\r\n",
      "       Plywood\tPlywood\r\n",
      "       PreCast\tPreCast\t\r\n",
      "       Stone\tStone\r\n",
      "       Stucco\tStucco\r\n",
      "       VinylSd\tVinyl Siding\r\n",
      "       Wd Sdng\tWood Siding\r\n",
      "       WdShing\tWood Shingles\r\n",
      "\t\r\n",
      "Exterior2nd: Exterior covering on house (if more than one material)\r\n",
      "\r\n",
      "       AsbShng\tAsbestos Shingles\r\n",
      "       AsphShn\tAsphalt Shingles\r\n",
      "       BrkComm\tBrick Common\r\n",
      "       BrkFace\tBrick Face\r\n",
      "       CBlock\tCinder Block\r\n",
      "       CemntBd\tCement Board\r\n",
      "       HdBoard\tHard Board\r\n",
      "       ImStucc\tImitation Stucco\r\n",
      "       MetalSd\tMetal Siding\r\n",
      "       Other\tOther\r\n",
      "       Plywood\tPlywood\r\n",
      "       PreCast\tPreCast\r\n",
      "       Stone\tStone\r\n",
      "       Stucco\tStucco\r\n",
      "       VinylSd\tVinyl Siding\r\n",
      "       Wd Sdng\tWood Siding\r\n",
      "       WdShing\tWood Shingles\r\n",
      "\t\r\n",
      "MasVnrType: Masonry veneer type\r\n",
      "\r\n",
      "       BrkCmn\tBrick Common\r\n",
      "       BrkFace\tBrick Face\r\n",
      "       CBlock\tCinder Block\r\n",
      "       None\tNone\r\n",
      "       Stone\tStone\r\n",
      "\t\r\n",
      "MasVnrArea: Masonry veneer area in square feet\r\n",
      "\r\n",
      "ExterQual: Evaluates the quality of the material on the exterior \r\n",
      "\t\t\r\n",
      "       Ex\tExcellent\r\n",
      "       Gd\tGood\r\n",
      "       TA\tAverage/Typical\r\n",
      "       Fa\tFair\r\n",
      "       Po\tPoor\r\n",
      "\t\t\r\n",
      "ExterCond: Evaluates the present condition of the material on the exterior\r\n",
      "\t\t\r\n",
      "       Ex\tExcellent\r\n",
      "       Gd\tGood\r\n",
      "       TA\tAverage/Typical\r\n",
      "       Fa\tFair\r\n",
      "       Po\tPoor\r\n",
      "\t\t\r\n",
      "Foundation: Type of foundation\r\n",
      "\t\t\r\n",
      "       BrkTil\tBrick & Tile\r\n",
      "       CBlock\tCinder Block\r\n",
      "       PConc\tPoured Contrete\t\r\n",
      "       Slab\tSlab\r\n",
      "       Stone\tStone\r\n",
      "       Wood\tWood\r\n",
      "\t\t\r\n",
      "BsmtQual: Evaluates the height of the basement\r\n",
      "\r\n",
      "       Ex\tExcellent (100+ inches)\t\r\n",
      "       Gd\tGood (90-99 inches)\r\n",
      "       TA\tTypical (80-89 inches)\r\n",
      "       Fa\tFair (70-79 inches)\r\n",
      "       Po\tPoor (<70 inches\r\n",
      "       NA\tNo Basement\r\n",
      "\t\t\r\n",
      "BsmtCond: Evaluates the general condition of the basement\r\n",
      "\r\n",
      "       Ex\tExcellent\r\n",
      "       Gd\tGood\r\n",
      "       TA\tTypical - slight dampness allowed\r\n",
      "       Fa\tFair - dampness or some cracking or settling\r\n",
      "       Po\tPoor - Severe cracking, settling, or wetness\r\n",
      "       NA\tNo Basement\r\n",
      "\t\r\n",
      "BsmtExposure: Refers to walkout or garden level walls\r\n",
      "\r\n",
      "       Gd\tGood Exposure\r\n",
      "       Av\tAverage Exposure (split levels or foyers typically score average or above)\t\r\n",
      "       Mn\tMimimum Exposure\r\n",
      "       No\tNo Exposure\r\n",
      "       NA\tNo Basement\r\n",
      "\t\r\n",
      "BsmtFinType1: Rating of basement finished area\r\n",
      "\r\n",
      "       GLQ\tGood Living Quarters\r\n",
      "       ALQ\tAverage Living Quarters\r\n",
      "       BLQ\tBelow Average Living Quarters\t\r\n",
      "       Rec\tAverage Rec Room\r\n",
      "       LwQ\tLow Quality\r\n",
      "       Unf\tUnfinshed\r\n",
      "       NA\tNo Basement\r\n",
      "\t\t\r\n",
      "BsmtFinSF1: Type 1 finished square feet\r\n",
      "\r\n",
      "BsmtFinType2: Rating of basement finished area (if multiple types)\r\n",
      "\r\n",
      "       GLQ\tGood Living Quarters\r\n",
      "       ALQ\tAverage Living Quarters\r\n",
      "       BLQ\tBelow Average Living Quarters\t\r\n",
      "       Rec\tAverage Rec Room\r\n",
      "       LwQ\tLow Quality\r\n",
      "       Unf\tUnfinshed\r\n",
      "       NA\tNo Basement\r\n",
      "\r\n",
      "BsmtFinSF2: Type 2 finished square feet\r\n",
      "\r\n",
      "BsmtUnfSF: Unfinished square feet of basement area\r\n",
      "\r\n",
      "TotalBsmtSF: Total square feet of basement area\r\n",
      "\r\n",
      "Heating: Type of heating\r\n",
      "\t\t\r\n",
      "       Floor\tFloor Furnace\r\n",
      "       GasA\tGas forced warm air furnace\r\n",
      "       GasW\tGas hot water or steam heat\r\n",
      "       Grav\tGravity furnace\t\r\n",
      "       OthW\tHot water or steam heat other than gas\r\n",
      "       Wall\tWall furnace\r\n",
      "\t\t\r\n",
      "HeatingQC: Heating quality and condition\r\n",
      "\r\n",
      "       Ex\tExcellent\r\n",
      "       Gd\tGood\r\n",
      "       TA\tAverage/Typical\r\n",
      "       Fa\tFair\r\n",
      "       Po\tPoor\r\n",
      "\t\t\r\n",
      "CentralAir: Central air conditioning\r\n",
      "\r\n",
      "       N\tNo\r\n",
      "       Y\tYes\r\n",
      "\t\t\r\n",
      "Electrical: Electrical system\r\n",
      "\r\n",
      "       SBrkr\tStandard Circuit Breakers & Romex\r\n",
      "       FuseA\tFuse Box over 60 AMP and all Romex wiring (Average)\t\r\n",
      "       FuseF\t60 AMP Fuse Box and mostly Romex wiring (Fair)\r\n",
      "       FuseP\t60 AMP Fuse Box and mostly knob & tube wiring (poor)\r\n",
      "       Mix\tMixed\r\n",
      "\t\t\r\n",
      "1stFlrSF: First Floor square feet\r\n",
      " \r\n",
      "2ndFlrSF: Second floor square feet\r\n",
      "\r\n",
      "LowQualFinSF: Low quality finished square feet (all floors)\r\n",
      "\r\n",
      "GrLivArea: Above grade (ground) living area square feet\r\n",
      "\r\n",
      "BsmtFullBath: Basement full bathrooms\r\n",
      "\r\n",
      "BsmtHalfBath: Basement half bathrooms\r\n",
      "\r\n",
      "FullBath: Full bathrooms above grade\r\n",
      "\r\n",
      "HalfBath: Half baths above grade\r\n",
      "\r\n",
      "Bedroom: Bedrooms above grade (does NOT include basement bedrooms)\r\n",
      "\r\n",
      "Kitchen: Kitchens above grade\r\n",
      "\r\n",
      "KitchenQual: Kitchen quality\r\n",
      "\r\n",
      "       Ex\tExcellent\r\n",
      "       Gd\tGood\r\n",
      "       TA\tTypical/Average\r\n",
      "       Fa\tFair\r\n",
      "       Po\tPoor\r\n",
      "       \t\r\n",
      "TotRmsAbvGrd: Total rooms above grade (does not include bathrooms)\r\n",
      "\r\n",
      "Functional: Home functionality (Assume typical unless deductions are warranted)\r\n",
      "\r\n",
      "       Typ\tTypical Functionality\r\n",
      "       Min1\tMinor Deductions 1\r\n",
      "       Min2\tMinor Deductions 2\r\n",
      "       Mod\tModerate Deductions\r\n",
      "       Maj1\tMajor Deductions 1\r\n",
      "       Maj2\tMajor Deductions 2\r\n",
      "       Sev\tSeverely Damaged\r\n",
      "       Sal\tSalvage only\r\n",
      "\t\t\r\n",
      "Fireplaces: Number of fireplaces\r\n",
      "\r\n",
      "FireplaceQu: Fireplace quality\r\n",
      "\r\n",
      "       Ex\tExcellent - Exceptional Masonry Fireplace\r\n",
      "       Gd\tGood - Masonry Fireplace in main level\r\n",
      "       TA\tAverage - Prefabricated Fireplace in main living area or Masonry Fireplace in basement\r\n",
      "       Fa\tFair - Prefabricated Fireplace in basement\r\n",
      "       Po\tPoor - Ben Franklin Stove\r\n",
      "       NA\tNo Fireplace\r\n",
      "\t\t\r\n",
      "GarageType: Garage location\r\n",
      "\t\t\r\n",
      "       2Types\tMore than one type of garage\r\n",
      "       Attchd\tAttached to home\r\n",
      "       Basment\tBasement Garage\r\n",
      "       BuiltIn\tBuilt-In (Garage part of house - typically has room above garage)\r\n",
      "       CarPort\tCar Port\r\n",
      "       Detchd\tDetached from home\r\n",
      "       NA\tNo Garage\r\n",
      "\t\t\r\n",
      "GarageYrBlt: Year garage was built\r\n",
      "\t\t\r\n",
      "GarageFinish: Interior finish of the garage\r\n",
      "\r\n",
      "       Fin\tFinished\r\n",
      "       RFn\tRough Finished\t\r\n",
      "       Unf\tUnfinished\r\n",
      "       NA\tNo Garage\r\n",
      "\t\t\r\n",
      "GarageCars: Size of garage in car capacity\r\n",
      "\r\n",
      "GarageArea: Size of garage in square feet\r\n",
      "\r\n",
      "GarageQual: Garage quality\r\n",
      "\r\n",
      "       Ex\tExcellent\r\n",
      "       Gd\tGood\r\n",
      "       TA\tTypical/Average\r\n",
      "       Fa\tFair\r\n",
      "       Po\tPoor\r\n",
      "       NA\tNo Garage\r\n",
      "\t\t\r\n",
      "GarageCond: Garage condition\r\n",
      "\r\n",
      "       Ex\tExcellent\r\n",
      "       Gd\tGood\r\n",
      "       TA\tTypical/Average\r\n",
      "       Fa\tFair\r\n",
      "       Po\tPoor\r\n",
      "       NA\tNo Garage\r\n",
      "\t\t\r\n",
      "PavedDrive: Paved driveway\r\n",
      "\r\n",
      "       Y\tPaved \r\n",
      "       P\tPartial Pavement\r\n",
      "       N\tDirt/Gravel\r\n",
      "\t\t\r\n",
      "WoodDeckSF: Wood deck area in square feet\r\n",
      "\r\n",
      "OpenPorchSF: Open porch area in square feet\r\n",
      "\r\n",
      "EnclosedPorch: Enclosed porch area in square feet\r\n",
      "\r\n",
      "3SsnPorch: Three season porch area in square feet\r\n",
      "\r\n",
      "ScreenPorch: Screen porch area in square feet\r\n",
      "\r\n",
      "PoolArea: Pool area in square feet\r\n",
      "\r\n",
      "PoolQC: Pool quality\r\n",
      "\t\t\r\n",
      "       Ex\tExcellent\r\n",
      "       Gd\tGood\r\n",
      "       TA\tAverage/Typical\r\n",
      "       Fa\tFair\r\n",
      "       NA\tNo Pool\r\n",
      "\t\t\r\n",
      "Fence: Fence quality\r\n",
      "\t\t\r\n",
      "       GdPrv\tGood Privacy\r\n",
      "       MnPrv\tMinimum Privacy\r\n",
      "       GdWo\tGood Wood\r\n",
      "       MnWw\tMinimum Wood/Wire\r\n",
      "       NA\tNo Fence\r\n",
      "\t\r\n",
      "MiscFeature: Miscellaneous feature not covered in other categories\r\n",
      "\t\t\r\n",
      "       Elev\tElevator\r\n",
      "       Gar2\t2nd Garage (if not described in garage section)\r\n",
      "       Othr\tOther\r\n",
      "       Shed\tShed (over 100 SF)\r\n",
      "       TenC\tTennis Court\r\n",
      "       NA\tNone\r\n",
      "\t\t\r\n",
      "MiscVal: $Value of miscellaneous feature\r\n",
      "\r\n",
      "MoSold: Month Sold (MM)\r\n",
      "\r\n",
      "YrSold: Year Sold (YYYY)\r\n",
      "\r\n",
      "SaleType: Type of sale\r\n",
      "\t\t\r\n",
      "       WD \tWarranty Deed - Conventional\r\n",
      "       CWD\tWarranty Deed - Cash\r\n",
      "       VWD\tWarranty Deed - VA Loan\r\n",
      "       New\tHome just constructed and sold\r\n",
      "       COD\tCourt Officer Deed/Estate\r\n",
      "       Con\tContract 15% Down payment regular terms\r\n",
      "       ConLw\tContract Low Down payment and low interest\r\n",
      "       ConLI\tContract Low Interest\r\n",
      "       ConLD\tContract Low Down\r\n",
      "       Oth\tOther\r\n",
      "\t\t\r\n",
      "SaleCondition: Condition of sale\r\n",
      "\r\n",
      "       Normal\tNormal Sale\r\n",
      "       Abnorml\tAbnormal Sale -  trade, foreclosure, short sale\r\n",
      "       AdjLand\tAdjoining Land Purchase\r\n",
      "       Alloca\tAllocation - two linked properties with separate deeds, typically condo with a garage unit\t\r\n",
      "       Family\tSale between family members\r\n",
      "       Partial\tHome was not completed when last assessed (associated with New Homes)\r\n"
     ]
    }
   ],
   "source": [
    "!cat house_pricing/data_description.txt"
   ]
  },
  {
   "cell_type": "markdown",
   "metadata": {},
   "source": [
    "Кажется все пропуски запланированы и преднамерены"
   ]
  },
  {
   "cell_type": "code",
   "execution_count": 6,
   "metadata": {},
   "outputs": [],
   "source": [
    "X = ds.drop(['SalePrice','Id'],1)\n",
    "Y = ds['SalePrice']"
   ]
  },
  {
   "cell_type": "markdown",
   "metadata": {},
   "source": [
    "Заранее выделим hold out датасет"
   ]
  },
  {
   "cell_type": "code",
   "execution_count": 7,
   "metadata": {},
   "outputs": [
    {
     "data": {
      "text/plain": [
       "(1314, 146)"
      ]
     },
     "execution_count": 7,
     "metadata": {},
     "output_type": "execute_result"
    }
   ],
   "source": [
    "hold_out_inds = sorted(np.random.choice(range(len(ds)), size=int(len(ds)*0.1), replace=False))\n",
    "no_hold_inds = [x for x in range(len(ds)) if x not in hold_out_inds]\n",
    "len(no_hold_inds), len(hold_out_inds)"
   ]
  },
  {
   "cell_type": "markdown",
   "metadata": {},
   "source": [
    "Определим категориальные и вещественные признаки"
   ]
  },
  {
   "cell_type": "code",
   "execution_count": 8,
   "metadata": {},
   "outputs": [],
   "source": [
    "cat_feats = list(X.dtypes[X.dtypes==np.dtype('O')].index)\n",
    "cat_feats += ['MSSubClass']\n",
    "\n",
    "real_feats = X.drop(cat_feats,1).columns"
   ]
  },
  {
   "cell_type": "markdown",
   "metadata": {},
   "source": [
    "Заполним пропуски"
   ]
  },
  {
   "cell_type": "code",
   "execution_count": 9,
   "metadata": {},
   "outputs": [],
   "source": [
    "for f in ['LotFrontage','MasVnrArea']:\n",
    "    X[f] = X[f].fillna(0)\n",
    "for f in ['GarageYrBlt']:\n",
    "    m = X.iloc[no_hold_inds][f].mean()\n",
    "    X[f] = X[f].fillna(m).isna()\n",
    "for f in cat_feats:\n",
    "    X[f] = X[f].fillna('NA')"
   ]
  },
  {
   "cell_type": "markdown",
   "metadata": {},
   "source": [
    "Заранее создадим датасет как для деревянных моделей (просто закодированный), так и для линейных (дополнительно one hot encoding)"
   ]
  },
  {
   "cell_type": "code",
   "execution_count": 10,
   "metadata": {},
   "outputs": [],
   "source": [
    "X_enc = X.copy()\n",
    "for f in cat_feats:\n",
    "    X_enc[f] = LabelEncoder().fit_transform(X[f].astype(str))\n",
    "X_enc[real_feats] = MinMaxScaler().fit_transform(X_enc[real_feats])"
   ]
  },
  {
   "cell_type": "code",
   "execution_count": 11,
   "metadata": {},
   "outputs": [],
   "source": [
    "X_ohe = pd.concat([pd.get_dummies(X_enc[cat_feats]),X_enc[real_feats]],1)"
   ]
  },
  {
   "cell_type": "markdown",
   "metadata": {},
   "source": [
    "# Случайный лес и важность признаков"
   ]
  },
  {
   "cell_type": "markdown",
   "metadata": {},
   "source": [
    "Точность предсказаний случайным лесом"
   ]
  },
  {
   "cell_type": "code",
   "execution_count": 12,
   "metadata": {
    "scrolled": false
   },
   "outputs": [
    {
     "data": {
      "text/plain": [
       "<matplotlib.axes._subplots.AxesSubplot at 0x7f9c7306b0b8>"
      ]
     },
     "execution_count": 12,
     "metadata": {},
     "output_type": "execute_result"
    },
    {
     "data": {
      "image/png": "[encoded data removed]",
      "text/plain": [
       "<Figure size 432x288 with 1 Axes>"
      ]
     },
     "metadata": {
      "needs_background": "light"
     },
     "output_type": "display_data"
    }
   ],
   "source": [
    "cvs = -cross_val_score(RandomForestRegressor(), X_enc.iloc[no_hold_inds],Y[no_hold_inds],\n",
    "                      cv=10, scoring='neg_mean_squared_error')\n",
    "sns.distplot(cvs)"
   ]
  },
  {
   "cell_type": "markdown",
   "metadata": {},
   "source": [
    "Важность признаков по версии случайного леса"
   ]
  },
  {
   "cell_type": "code",
   "execution_count": 13,
   "metadata": {},
   "outputs": [
    {
     "data": {
      "text/plain": [
       "<matplotlib.axes._subplots.AxesSubplot at 0x7f9c6a94c7f0>"
      ]
     },
     "execution_count": 13,
     "metadata": {},
     "output_type": "execute_result"
    },
    {
     "data": {
      "image/png": "[encoded data removed]",
      "text/plain": [
       "<Figure size 432x288 with 1 Axes>"
      ]
     },
     "metadata": {
      "needs_background": "light"
     },
     "output_type": "display_data"
    }
   ],
   "source": [
    "rf = RandomForestRegressor()\n",
    "rf.fit(X_enc.iloc[no_hold_inds], Y.iloc[no_hold_inds])\n",
    "\n",
    "feat_imps = pd.Series(rf.feature_importances_, index=X.columns).sort_values(ascending=False)\n",
    "feat_imps = feat_imps[feat_imps>=0.01]\n",
    "sns.barplot(x=feat_imps.values, y=feat_imps.index)"
   ]
  },
  {
   "cell_type": "markdown",
   "metadata": {},
   "source": [
    "# Стекинг"
   ]
  },
  {
   "cell_type": "code",
   "execution_count": 14,
   "metadata": {},
   "outputs": [],
   "source": [
    "def get_meta_features(clf, X_train, y_train, X_test, stack_cv):\n",
    "    meta_train = np.zeros_like(y_train, dtype=float)\n",
    "    meta_test = np.zeros_like(X_test.iloc[:,0], dtype=float)\n",
    "    \n",
    "    for i, (train_ind, test_ind) in enumerate(stack_cv.split(X_train, y_train)):\n",
    "        \n",
    "        clf.fit(X_train.iloc[train_ind], y_train.iloc[train_ind])\n",
    "        meta_train[test_ind] = clf.predict(X_train.iloc[test_ind])\n",
    "        meta_test += clf.predict(X_test)\n",
    "    \n",
    "    return meta_train, meta_test / stack_cv.n_splits"
   ]
  },
  {
   "cell_type": "markdown",
   "metadata": {},
   "source": [
    "Обучаем базовые модели"
   ]
  },
  {
   "cell_type": "code",
   "execution_count": 15,
   "metadata": {},
   "outputs": [
    {
     "name": "stdout",
     "output_type": "stream",
     "text": [
      "LinReg features...\n",
      "RF features...\n",
      "XGB features...\n",
      "[23:32:07] WARNING: /workspace/src/objective/regression_obj.cu:152: reg:linear is now deprecated in favor of reg:squarederror.\n",
      "[23:32:07] WARNING: /workspace/src/objective/regression_obj.cu:152: reg:linear is now deprecated in favor of reg:squarederror.\n",
      "[23:32:07] WARNING: /workspace/src/objective/regression_obj.cu:152: reg:linear is now deprecated in favor of reg:squarederror.\n",
      "[23:32:07] WARNING: /workspace/src/objective/regression_obj.cu:152: reg:linear is now deprecated in favor of reg:squarederror.\n",
      "[23:32:07] WARNING: /workspace/src/objective/regression_obj.cu:152: reg:linear is now deprecated in favor of reg:squarederror.\n",
      "[23:32:08] WARNING: /workspace/src/objective/regression_obj.cu:152: reg:linear is now deprecated in favor of reg:squarederror.\n",
      "[23:32:08] WARNING: /workspace/src/objective/regression_obj.cu:152: reg:linear is now deprecated in favor of reg:squarederror.\n",
      "[23:32:08] WARNING: /workspace/src/objective/regression_obj.cu:152: reg:linear is now deprecated in favor of reg:squarederror.\n",
      "[23:32:09] WARNING: /workspace/src/objective/regression_obj.cu:152: reg:linear is now deprecated in favor of reg:squarederror.\n",
      "[23:32:09] WARNING: /workspace/src/objective/regression_obj.cu:152: reg:linear is now deprecated in favor of reg:squarederror.\n"
     ]
    }
   ],
   "source": [
    "from sklearn.model_selection import StratifiedKFold\n",
    "\n",
    "stack_cv = StratifiedKFold(n_splits=10, random_state=555)\n",
    "\n",
    "meta_train = []\n",
    "meta_test = []\n",
    "col_names = []\n",
    "\n",
    "print('LinReg features...')\n",
    "meta_tr, meta_te = get_meta_features(Ridge(), X_ohe.iloc[no_hold_inds], Y.iloc[no_hold_inds],\n",
    "                                     X_ohe.iloc[hold_out_inds], stack_cv)\n",
    "\n",
    "meta_train.append(meta_tr)\n",
    "meta_test.append(meta_te)\n",
    "col_names.append('lr_pred')\n",
    "\n",
    "print('RF features...')\n",
    "meta_tr, meta_te = get_meta_features(RandomForestRegressor(), X_enc.iloc[no_hold_inds], Y.iloc[no_hold_inds],\n",
    "                                     X_enc.iloc[hold_out_inds], stack_cv)\n",
    "\n",
    "meta_train.append(meta_tr)\n",
    "meta_test.append(meta_te)\n",
    "col_names.append('rf_pred')\n",
    "\n",
    "print('XGB features...')\n",
    "meta_tr, meta_te = get_meta_features(XGBRegressor(), X_ohe.iloc[no_hold_inds], Y.iloc[no_hold_inds],\n",
    "                                     X_ohe.iloc[hold_out_inds], stack_cv)\n",
    "\n",
    "meta_train.append(meta_tr)\n",
    "meta_test.append(meta_te)\n",
    "col_names.append('xgb_pred')"
   ]
  },
  {
   "cell_type": "markdown",
   "metadata": {},
   "source": [
    "Обучаем обобщающую модель"
   ]
  },
  {
   "cell_type": "code",
   "execution_count": 16,
   "metadata": {},
   "outputs": [],
   "source": [
    "X_meta_train = pd.DataFrame(np.stack(meta_train, axis=1), columns=col_names)\n",
    "X_meta_test = pd.DataFrame(np.stack(meta_test, axis=1), columns=col_names)"
   ]
  },
  {
   "cell_type": "code",
   "execution_count": 17,
   "metadata": {},
   "outputs": [],
   "source": [
    "lr_meta = Ridge()\n",
    "lr_meta.fit(X_meta_train, Y.iloc[no_hold_inds])\n",
    "y_pred_meta_test = lr_meta.predict(X_meta_test)"
   ]
  },
  {
   "cell_type": "markdown",
   "metadata": {},
   "source": [
    "# Сравнение результатов"
   ]
  },
  {
   "cell_type": "markdown",
   "metadata": {},
   "source": [
    "Простой случайный лес"
   ]
  },
  {
   "cell_type": "code",
   "execution_count": 18,
   "metadata": {},
   "outputs": [],
   "source": [
    "rf = RandomForestRegressor()\n",
    "rf.fit(X_enc.iloc[no_hold_inds], Y.iloc[no_hold_inds])\n",
    "y_pred_rf_test = rf.predict(X_enc.iloc[hold_out_inds])"
   ]
  },
  {
   "cell_type": "markdown",
   "metadata": {},
   "source": [
    "Простой xgboost"
   ]
  },
  {
   "cell_type": "code",
   "execution_count": 19,
   "metadata": {},
   "outputs": [
    {
     "name": "stdout",
     "output_type": "stream",
     "text": [
      "[23:32:09] WARNING: /workspace/src/objective/regression_obj.cu:152: reg:linear is now deprecated in favor of reg:squarederror.\n"
     ]
    }
   ],
   "source": [
    "xgb = XGBRegressor()\n",
    "xgb.fit(X_enc.iloc[no_hold_inds], Y.iloc[no_hold_inds])\n",
    "y_pred_xgb_test = xgb.predict(X_enc.iloc[hold_out_inds])"
   ]
  },
  {
   "cell_type": "markdown",
   "metadata": {},
   "source": [
    "Близость предсказаний к оригиналу"
   ]
  },
  {
   "cell_type": "code",
   "execution_count": 20,
   "metadata": {},
   "outputs": [
    {
     "data": {
      "image/png": "[encoded data removed]",
      "text/plain": [
       "<Figure size 432x288 with 1 Axes>"
      ]
     },
     "metadata": {
      "needs_background": "light"
     },
     "output_type": "display_data"
    }
   ],
   "source": [
    "plt.plot([0,Y.iloc[hold_out_inds].max()],[0,Y.iloc[hold_out_inds].max()], label='Real')\n",
    "sns.regplot(Y.iloc[hold_out_inds].values, y_pred_meta_test, label='stack model',\n",
    "            scatter=False, scatter_kws={'alpha':0.1}, line_kws={'alpha':0.1})\n",
    "sns.regplot(Y.iloc[hold_out_inds].values, y_pred_rf_test, label='random forest',\n",
    "            scatter=False, scatter_kws={'alpha':0.1}, line_kws={'alpha':0.1})\n",
    "sns.regplot(Y.iloc[hold_out_inds].values, y_pred_xgb_test, label='xgboost',\n",
    "            scatter=False, scatter_kws={'alpha':0.1}, line_kws={'alpha':0.1})\n",
    "plt.xlabel('true values')\n",
    "plt.ylabel('predicted')\n",
    "\n",
    "plt.legend()\n",
    "plt.show()"
   ]
  },
  {
   "cell_type": "markdown",
   "metadata": {},
   "source": [
    "Линия stack model ближе всех к настоящим значениям"
   ]
  },
  {
   "cell_type": "markdown",
   "metadata": {},
   "source": [
    "Вычисдим различные метрики"
   ]
  },
  {
   "cell_type": "code",
   "execution_count": 21,
   "metadata": {},
   "outputs": [],
   "source": [
    "res_ds = []\n",
    "y = Y.iloc[hold_out_inds].values\n",
    "for f, preds in [('meta', y_pred_meta_test), ('rf', y_pred_rf_test),('xgb', y_pred_xgb_test)]:\n",
    "    res_ds.append(pd.Series({\n",
    "        'mae':mean_absolute_error(y, preds),\n",
    "        'mse':mean_squared_error(y, preds),\n",
    "        'mspe':(((y-preds)/y)**2).mean(),\n",
    "                            'r2':r2_score(Y.iloc[hold_out_inds], preds),\n",
    "                             }, name=f))\n",
    "res_ds = pd.concat(res_ds,1).T"
   ]
  },
  {
   "cell_type": "code",
   "execution_count": 22,
   "metadata": {},
   "outputs": [
    {
     "data": {
      "image/png": "[encoded data removed]",
      "text/plain": [
       "<Figure size 1080x504 with 4 Axes>"
      ]
     },
     "metadata": {
      "needs_background": "light"
     },
     "output_type": "display_data"
    }
   ],
   "source": [
    "plt.figure(figsize=(15,7))\n",
    "for idx, c in enumerate(res_ds):\n",
    "    plt.subplot(2,2,idx+1)\n",
    "    sns.barplot(res_ds.index, res_ds[c])\n",
    "    plt.title(c)\n",
    "    for j, v in enumerate(res_ds[c]):\n",
    "        plt.text(j-0.1, v*1.01, f'{v:.2f}' if c not in ['mse','mae'] else f'{v:.2e}')\n",
    "plt.tight_layout()\n",
    "plt.show()"
   ]
  },
  {
   "cell_type": "markdown",
   "metadata": {},
   "source": [
    "Stacking модель проигрывает только в улавливании дисперсии искомой величины. Наверное из-за того, что она совсем её не видела, а знает только искажённые результаты базовых моделей."
   ]
  }
 ],
 "metadata": {
  "kernelspec": {
   "display_name": "Python 3",
   "language": "python",
   "name": "python3"
  },
  "language_info": {
   "codemirror_mode": {
    "name": "ipython",
    "version": 3
   },
   "file_extension": ".py",
   "mimetype": "text/x-python",
   "name": "python",
   "nbconvert_exporter": "python",
   "pygments_lexer": "ipython3",
   "version": "3.7.1"
  }
 },
 "nbformat": 4,
 "nbformat_minor": 2
}
